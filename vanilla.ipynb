{
 "cells": [
  {
   "cell_type": "markdown",
   "id": "324553e2",
   "metadata": {},
   "source": [
    "# Assignment 3"
   ]
  },
  {
   "cell_type": "markdown",
   "id": "bf866e12",
   "metadata": {},
   "source": [
    "Import required libraries"
   ]
  },
  {
   "cell_type": "code",
   "execution_count": 1,
   "id": "1ad1abe1",
   "metadata": {},
   "outputs": [],
   "source": [
    "import torch\n",
    "import random\n",
    "import os\n",
    "import numpy as np"
   ]
  },
  {
   "cell_type": "code",
   "execution_count": 2,
   "id": "2828c2f2",
   "metadata": {},
   "outputs": [],
   "source": [
    "# Set seeds for reproducibility\n",
    "def set_seed(seed=42):\n",
    "    random.seed(seed)\n",
    "    np.random.seed(seed)\n",
    "    torch.manual_seed(seed)\n",
    "    torch.cuda.manual_seed_all(seed)\n",
    "    torch.backends.cudnn.deterministic = True\n",
    "\n",
    "set_seed(42)"
   ]
  },
  {
   "cell_type": "code",
   "execution_count": 3,
   "id": "4ceec1b5",
   "metadata": {},
   "outputs": [
    {
     "name": "stdout",
     "output_type": "stream",
     "text": [
      "Using device: cuda\n"
     ]
    }
   ],
   "source": [
    "# Check for CUDA\n",
    "device = torch.device('cuda' if torch.cuda.is_available() else 'cpu')\n",
    "print(f\"Using device: {device}\")"
   ]
  },
  {
   "cell_type": "markdown",
   "id": "a426aca2",
   "metadata": {},
   "source": [
    "## Load and Prepare Data"
   ]
  },
  {
   "cell_type": "code",
   "execution_count": 4,
   "id": "689ca7c3",
   "metadata": {},
   "outputs": [],
   "source": [
    "import pandas\n",
    "from torch.utils.data import Dataset, DataLoader\n",
    "\n",
    "from dataset import TransliterationDataset, collate_fn"
   ]
  },
  {
   "cell_type": "code",
   "execution_count": 5,
   "id": "4009cc0a",
   "metadata": {},
   "outputs": [],
   "source": [
    "def prepare_data(dataset_path, batch_size=64, shuffle=False):\n",
    "    dataset = TransliterationDataset(dataset_path)\n",
    "    data_loader = DataLoader(\n",
    "        dataset, \n",
    "        batch_size=batch_size, \n",
    "        shuffle=shuffle, \n",
    "        collate_fn=collate_fn\n",
    "    )\n",
    "\n",
    "    return dataset, data_loader"
   ]
  },
  {
   "cell_type": "code",
   "execution_count": 6,
   "id": "673fca47",
   "metadata": {},
   "outputs": [],
   "source": [
    "# Dataset paths\n",
    "train_path = 'dakshina_dataset_v1.0/ml/lexicons/ml.translit.sampled.train.tsv'\n",
    "val_path = 'dakshina_dataset_v1.0/ml/lexicons/ml.translit.sampled.dev.tsv'\n",
    "\n",
    "# Create dataloaders\n",
    "train_dataset, train_loader = prepare_data(train_path, batch_size=64)\n",
    "val_dataset, val_loader = prepare_data(val_path, batch_size=64)"
   ]
  },
  {
   "cell_type": "code",
   "execution_count": 7,
   "id": "204978fa",
   "metadata": {},
   "outputs": [
    {
     "name": "stdout",
     "output_type": "stream",
     "text": [
      "Source vocabulary size: 30\n",
      "Target vocabulary size: 74\n"
     ]
    }
   ],
   "source": [
    "# Model parameters\n",
    "input_size = train_dataset.get_vocab_size('source')\n",
    "output_size = train_dataset.get_vocab_size('target')\n",
    "\n",
    "\n",
    "# Print vocabulary sizes\n",
    "print(f\"Source vocabulary size: {input_size}\")\n",
    "print(f\"Target vocabulary size: {output_size}\")"
   ]
  },
  {
   "cell_type": "code",
   "execution_count": 8,
   "id": "2d8e06f3",
   "metadata": {},
   "outputs": [
    {
     "name": "stdout",
     "output_type": "stream",
     "text": [
      "Validation - Source vocabulary size: 30\n",
      "Validation - Target vocabulary size: 70\n"
     ]
    }
   ],
   "source": [
    "# Model parameters\n",
    "val_input_size = val_dataset.get_vocab_size('source')\n",
    "val_output_size = val_dataset.get_vocab_size('target')\n",
    "\n",
    "# Print vocabulary sizes\n",
    "print(f\"Validation - Source vocabulary size: {val_input_size}\")\n",
    "print(f\"Validation - Target vocabulary size: {val_output_size}\")"
   ]
  },
  {
   "cell_type": "code",
   "execution_count": 9,
   "id": "b8640c93",
   "metadata": {},
   "outputs": [],
   "source": [
    "# Make sure val dataset uses the same vocabulary as training\n",
    "val_dataset.source_char_to_idx = train_dataset.source_char_to_idx\n",
    "val_dataset.source_idx_to_char = train_dataset.source_idx_to_char\n",
    "val_dataset.target_char_to_idx = train_dataset.target_char_to_idx\n",
    "val_dataset.target_idx_to_char = train_dataset.target_idx_to_char"
   ]
  },
  {
   "cell_type": "markdown",
   "id": "8455d86a",
   "metadata": {},
   "source": [
    "## Train Model"
   ]
  },
  {
   "cell_type": "code",
   "execution_count": 10,
   "id": "e881045a",
   "metadata": {},
   "outputs": [],
   "source": [
    "import torch.nn as nn\n",
    "import torch.nn.functional as F\n",
    "import torch.optim as optim\n",
    "from tqdm import trange\n",
    "\n",
    "from vanilla_model import Encoder, Decoder, Seq2Seq\n",
    "from training import train, evaluate, transliterate, calculate_accuracy"
   ]
  },
  {
   "cell_type": "code",
   "execution_count": null,
   "id": "07f57ab1",
   "metadata": {},
   "outputs": [],
   "source": [
    "def train_model(input_size, output_size, train_loader, val_loader, device, embedding_size=256, hidden_size=256, lr=0.001,\n",
    "                n_layers=1, dropout=0.2, cell_type='lstm', epochs=10, teacher_forcing_ratio=0.5, clip=1.0, patience=5):  \n",
    "    print(f\"Using device: {device}\")\n",
    "    \n",
    "    # Create model\n",
    "    encoder = Encoder(\n",
    "        input_size=input_size,\n",
    "        embedding_size=embedding_size,\n",
    "        hidden_size=hidden_size,\n",
    "        n_layers=n_layers,\n",
    "        dropout=dropout,\n",
    "        cell_type=cell_type\n",
    "    ).to(device)\n",
    "    \n",
    "    decoder = Decoder(\n",
    "        output_size=output_size,\n",
    "        embedding_size=embedding_size,\n",
    "        hidden_size=hidden_size,\n",
    "        n_layers=n_layers,\n",
    "        dropout=dropout,\n",
    "        cell_type=cell_type\n",
    "    ).to(device)\n",
    "    \n",
    "    model = Seq2Seq(encoder, decoder, device).to(device)\n",
    "    \n",
    "    # Define optimizer and loss function\n",
    "    optimizer = optim.Adam(model.parameters(), lr=lr)\n",
    "    # # Define learning rate scheduler\n",
    "    # scheduler = optim.lr_scheduler.ReduceLROnPlateau(optimizer, mode='min', factor=0.5, patience=3)\n",
    "    criterion = nn.CrossEntropyLoss(ignore_index=train_dataset.target_char_to_idx['<PAD>'])\n",
    "\n",
    "    best_val_loss = float('inf')\n",
    "    patience_counter = 0\n",
    "\n",
    "    # Lists to store losses\n",
    "    train_losses = []\n",
    "    val_losses = []\n",
    "    best_model = None\n",
    "\n",
    "    # Training loop\n",
    "    print(\"Starting training...\")\n",
    "    pbar = trange(epochs, desc=\"Epoch\", dynamic_ncols=True)\n",
    "    for epoch in pbar:\n",
    "        # Train\n",
    "        train_loss = train(\n",
    "            model=model,\n",
    "            device=device,\n",
    "            dataloader=train_loader,\n",
    "            optimizer=optimizer,\n",
    "            criterion=criterion,\n",
    "            clip=clip,\n",
    "            teacher_forcing_ratio=teacher_forcing_ratio\n",
    "        )\n",
    "        train_losses.append(train_loss)\n",
    "        \n",
    "        # Validate\n",
    "        val_loss = evaluate(\n",
    "            model=model,\n",
    "            device=device,\n",
    "            dataloader=val_loader,\n",
    "            criterion=criterion\n",
    "        )\n",
    "        val_losses.append(val_loss)\n",
    "\n",
    "        # # Update learning rate based on validation loss\n",
    "        # scheduler.step(val_loss)\n",
    "\n",
    "        # Update tqdm bar description\n",
    "        pbar.set_description(f\"Epoch {epoch+1}/{epochs}\")\n",
    "        pbar.set_postfix(train_loss=f\"{train_loss:.4f}\", val_loss=f\"{val_loss:.4f}\")\n",
    "            \n",
    "        # Save best model\n",
    "        if val_loss < best_val_loss:\n",
    "            best_val_loss = val_loss\n",
    "            best_model = model\n",
    "            torch.save(model.state_dict(), 'best_vanilla_model.pth')\n",
    "        else:\n",
    "            patience_counter += 1\n",
    "            \n",
    "        # Early stopping\n",
    "        if patience_counter >= patience:\n",
    "            print(f\"Early stopping after {epoch+1} epochs!\")\n",
    "            break\n",
    "    \n",
    "    print(\"best model saved at: best_vanilla_model.pth\")\n",
    "\n",
    "    return train_losses, val_losses, best_model"
   ]
  },
  {
   "cell_type": "code",
   "execution_count": 32,
   "id": "56e4ec39",
   "metadata": {},
   "outputs": [
    {
     "name": "stdout",
     "output_type": "stream",
     "text": [
      "Using device: cuda\n",
      "Starting training...\n"
     ]
    },
    {
     "name": "stderr",
     "output_type": "stream",
     "text": [
      "Epoch 10/10: 100%|██████████| 10/10 [08:34<00:00, 51.45s/it, train_loss=0.8284, val_loss=1.8110]"
     ]
    },
    {
     "name": "stdout",
     "output_type": "stream",
     "text": [
      "best model saved at: best_vanilla_model.pth\n"
     ]
    },
    {
     "name": "stderr",
     "output_type": "stream",
     "text": [
      "\n"
     ]
    }
   ],
   "source": [
    "train_losses, val_losses, best_model = train_model(input_size=input_size, output_size=output_size, train_loader=train_loader, \n",
    "                                       val_loader=val_loader, device=device)"
   ]
  },
  {
   "cell_type": "markdown",
   "id": "a5d5d824",
   "metadata": {},
   "source": [
    "### Visualize training results"
   ]
  },
  {
   "cell_type": "code",
   "execution_count": 11,
   "id": "be7fe6cc",
   "metadata": {},
   "outputs": [],
   "source": [
    "import matplotlib.pyplot as plt"
   ]
  },
  {
   "cell_type": "code",
   "execution_count": 34,
   "id": "53966fba",
   "metadata": {},
   "outputs": [
    {
     "data": {
      "text/plain": [
       "Text(0.5, 1.0, 'Training and Validation Loss')"
      ]
     },
     "execution_count": 34,
     "metadata": {},
     "output_type": "execute_result"
    },
    {
     "data": {
      "image/png": "[encoded data removed]",
      "text/plain": [
       "<Figure size 1000x500 with 1 Axes>"
      ]
     },
     "metadata": {},
     "output_type": "display_data"
    }
   ],
   "source": [
    "# Plot loss curves\n",
    "plt.figure(figsize=(10, 5))\n",
    "plt.plot(train_losses, label='Train Loss')\n",
    "plt.plot(val_losses, label='Validation Loss')\n",
    "plt.xlabel('Epoch')\n",
    "plt.ylabel('Loss')\n",
    "plt.legend()\n",
    "plt.title('Training and Validation Loss')\n",
    "# plt.savefig('loss_plot.png')"
   ]
  },
  {
   "cell_type": "markdown",
   "id": "c6924fb4",
   "metadata": {},
   "source": [
    "## Hyperparameter Tuning with Wandb"
   ]
  },
  {
   "cell_type": "code",
   "execution_count": 12,
   "id": "26ba7ced",
   "metadata": {},
   "outputs": [],
   "source": [
    "import wandb"
   ]
  },
  {
   "cell_type": "code",
   "execution_count": 14,
   "id": "3c36307c",
   "metadata": {},
   "outputs": [],
   "source": [
    "BEST_VAL_LOSS = float('inf')\n",
    "BEST_VAL_ACC = 0"
   ]
  },
  {
   "cell_type": "code",
   "execution_count": null,
   "id": "1cba31c2",
   "metadata": {},
   "outputs": [],
   "source": [
    "# Train the model with wandb integration\n",
    "def train_with_wandb(config=None):\n",
    "    global BEST_VAL_LOSS, BEST_VAL_ACC\n",
    "    \n",
    "    # Initialize a new wandb run\n",
    "    with wandb.init(config=config) as run:\n",
    "        # If called by wandb.agent, use the config set by sweep controller\n",
    "        config = wandb.config\n",
    "        \n",
    "        # Generate a descriptive name for the run based on key hyperparameters\n",
    "        run_name = (\n",
    "            f\"ct{config.cell_type}-tfr{config.teacher_forcing_ratio}-lr{config.learning_rate}-es{config.embedding_size}-hs{config.hidden_size}-\"\n",
    "            f\"nl{config.num_layers}-d{config.dropout}-bs{config.batch_size}\"\n",
    "        )\n",
    "        \n",
    "        run.name = run_name\n",
    "        \n",
    "        # Access hyperparameters as wandb.config\n",
    "        config = wandb.config\n",
    "        \n",
    "        # Set seed\n",
    "        set_seed(config.seed)\n",
    "        \n",
    "        # Device\n",
    "        device = torch.device('cuda' if torch.cuda.is_available() else 'cpu')\n",
    "        print(f\"Using device: {device}\")\n",
    "        \n",
    "        # Create save directory if it doesn't exist\n",
    "        if not os.path.exists('models'):\n",
    "            os.makedirs('models')\n",
    "        \n",
    "        # Dataset paths\n",
    "        train_path = 'dakshina_dataset_v1.0/ml/lexicons/ml.translit.sampled.train.tsv'\n",
    "        val_path = 'dakshina_dataset_v1.0/ml/lexicons/ml.translit.sampled.dev.tsv'\n",
    "\n",
    "        # Create dataloaders\n",
    "        train_dataset, train_loader = prepare_data(train_path, batch_size=64)\n",
    "        val_dataset, val_loader = prepare_data(val_path, batch_size=64)\n",
    "\n",
    "        # Make sure val dataset uses the same vocabulary as training\n",
    "        val_dataset.source_char_to_idx = train_dataset.source_char_to_idx\n",
    "        val_dataset.source_idx_to_char = train_dataset.source_idx_to_char\n",
    "        val_dataset.target_char_to_idx = train_dataset.target_char_to_idx\n",
    "        val_dataset.target_idx_to_char = train_dataset.target_idx_to_char\n",
    "        \n",
    "        # Create model\n",
    "        encoder = Encoder(\n",
    "            input_size=train_dataset.get_vocab_size('source'),\n",
    "            embedding_size=config.embedding_size,\n",
    "            hidden_size=config.hidden_size,\n",
    "            n_layers=config.num_layers,\n",
    "            dropout=config.dropout,\n",
    "            cell_type=config.cell_type\n",
    "        )\n",
    "        \n",
    "        decoder = Decoder(\n",
    "            output_size=train_dataset.get_vocab_size('target'),\n",
    "            embedding_size=config.embedding_size,\n",
    "            hidden_size=config.hidden_size,\n",
    "            n_layers=config.num_layers,\n",
    "            dropout=config.dropout,\n",
    "            cell_type=config.cell_type\n",
    "        )\n",
    "        \n",
    "        model = Seq2Seq(encoder, decoder, device).to(device)\n",
    "        \n",
    "        # Optimizer and criterion\n",
    "        optimizer = optim.Adam(model.parameters(), lr=config.learning_rate)\n",
    "        criterion = nn.CrossEntropyLoss(ignore_index=train_dataset.target_char_to_idx['<PAD>'])\n",
    "        \n",
    "        # Train model\n",
    "        best_val_loss = float('inf')\n",
    "        best_val_acc = 0\n",
    "        patience = config.patience\n",
    "        patience_counter = 0\n",
    "\n",
    "        pbar = trange(int(config.epochs), desc=\"Epoch\", dynamic_ncols=True)\n",
    "        for epoch in pbar:\n",
    "            # Train\n",
    "            train_loss = train(\n",
    "                model, device, train_loader, optimizer, criterion, \n",
    "                clip=config.clip, teacher_forcing_ratio=config.teacher_forcing_ratio\n",
    "            )\n",
    "            \n",
    "            # Evaluate\n",
    "            val_loss = evaluate(model, device, val_loader, criterion=criterion)\n",
    "\n",
    "            # Evaluate accuracy on validation set\n",
    "            correct = 0\n",
    "            total = 0\n",
    "            \n",
    "            with torch.no_grad():\n",
    "                for batch in val_loader:\n",
    "                    source_texts = batch['source_text']\n",
    "                    target_texts = batch['target_text']\n",
    "                    \n",
    "                    for i, source_text in enumerate(source_texts):\n",
    "                        pred_text = transliterate(model, device, val_dataset, source_text)\n",
    "                        \n",
    "                        if pred_text == target_texts[i]:\n",
    "                            correct += 1\n",
    "                        total += 1\n",
    "            \n",
    "            val_acc = correct / total\n",
    "\n",
    "            # Update tqdm bar description\n",
    "            pbar.set_description(f\"Epoch {epoch+1}/{config.epochs}\")\n",
    "            pbar.set_postfix(train_loss=f\"{train_loss:.4f}\", val_loss=f\"{val_loss:.4f}\", val_acc=f\"{val_acc:.4f}\")\n",
    "            \n",
    "            # Log to wandb\n",
    "            wandb.log({\n",
    "                'epoch': epoch + 1,\n",
    "                'train_loss': train_loss,\n",
    "                'val_loss': val_loss,\n",
    "                'val_accuracy':val_acc\n",
    "            })\n",
    "\n",
    "            # Save best model based on validation loss\n",
    "            if val_loss < best_val_loss:\n",
    "                best_val_loss = val_loss\n",
    "            #     model_path = os.path.join('models', f'model_{wandb.run.id}.pth')\n",
    "            #     torch.save(model.state_dict(), model_path)\n",
    "\n",
    "                if best_val_loss < BEST_VAL_LOSS:\n",
    "                    BEST_VAL_LOSS = best_val_loss\n",
    "            #         torch.save(model.state_dict(), \"best_vanilla_model.pth\")\n",
    "\n",
    "            # Save best model based on validation accuracy\n",
    "            if val_acc > best_val_acc:\n",
    "                best_val_acc = val_acc\n",
    "                model_path = os.path.join('models', f'model_{wandb.run.id}.pth')\n",
    "                torch.save(model.state_dict(), model_path)\n",
    "\n",
    "                if best_val_acc > BEST_VAL_ACC:\n",
    "                    BEST_VAL_ACC = best_val_acc\n",
    "                    torch.save(model.state_dict(), \"best_vanilla_model.pth\")\n",
    "            else:\n",
    "                patience_counter += 1\n",
    "            \n",
    "            # Early stopping\n",
    "            if patience_counter >= patience:\n",
    "                print(f\"Early stopping after {epoch+1} epochs!\")\n",
    "                break\n",
    "\n",
    "        # # Load best model for final evaluation\n",
    "        # model.load_state_dict(torch.load(os.path.join('models', f'model_{wandb.run.id}.pth')))\n",
    "        \n",
    "        # # Evaluate accuracy on validation set\n",
    "        # correct = 0\n",
    "        # total = 0\n",
    "        \n",
    "        # with torch.no_grad():\n",
    "        #     for batch in val_loader:\n",
    "        #         source_texts = batch['source_text']\n",
    "        #         target_texts = batch['target_text']\n",
    "                \n",
    "        #         for i, source_text in enumerate(source_texts):\n",
    "        #             pred_text = transliterate(best_model, device, val_dataset, source_text)\n",
    "                    \n",
    "        #             if pred_text == target_texts[i]:\n",
    "        #                 correct += 1\n",
    "        #             total += 1\n",
    "        \n",
    "        # val_accuracy = correct / total\n",
    "        # print(f'Validation Accuracy: {val_accuracy:.3f}')\n",
    "        \n",
    "        # print(f\"\\tBest model saved with val loss {best_val_loss:.3f} at model_{wandb.run.id}.pth\")\n",
    "        print(f\"\\tBest model saved with val acc {best_val_acc:.3f} at model_{wandb.run.id}.pth\")\n",
    "\n",
    "        # Log final metrics\n",
    "        wandb.log({\n",
    "            'best_val_loss': best_val_loss,\n",
    "            'val_accuracy': best_val_acc\n",
    "        })"
   ]
  },
  {
   "cell_type": "code",
   "execution_count": 17,
   "id": "3e8834fd",
   "metadata": {},
   "outputs": [],
   "source": [
    "# Define sweep configuration\n",
    "sweep_config = {\n",
    "    'method': 'bayes',\n",
    "    'name': 'sweep_vanilla',\n",
    "    'metric': {\n",
    "        'name': 'val_loss',\n",
    "        'goal': 'minimize'\n",
    "    },\n",
    "    'parameters': {\n",
    "        'seed': {\n",
    "            'value': 42\n",
    "        },\n",
    "        'learning_rate': {\n",
    "            'values': [0.001, 0.0001]\n",
    "        },\n",
    "        'batch_size': {\n",
    "            'values': [32, 64]\n",
    "        },\n",
    "        'embedding_size': {\n",
    "            'values': [64, 128, 256]\n",
    "        },\n",
    "        'hidden_size': {\n",
    "            'values': [128, 256]\n",
    "        },\n",
    "        'num_layers': {\n",
    "            'values': [1, 2]\n",
    "        },\n",
    "        'dropout': {\n",
    "            'values': [0.1, 0.3]\n",
    "        },\n",
    "        'cell_type': {\n",
    "            'values': ['rnn', 'lstm', 'gru']\n",
    "        },\n",
    "        'teacher_forcing_ratio': {\n",
    "            'values': [0.5, 0.7]\n",
    "        },\n",
    "        'clip': {\n",
    "            'value': 1.0\n",
    "        },\n",
    "        'epochs': {\n",
    "            'value': 20\n",
    "        }\n",
    "    }\n",
    "}"
   ]
  },
  {
   "cell_type": "code",
   "execution_count": 18,
   "id": "1fc2782b",
   "metadata": {},
   "outputs": [
    {
     "name": "stderr",
     "output_type": "stream",
     "text": [
      "\u001b[34m\u001b[1mwandb\u001b[0m: Currently logged in as: \u001b[33mch21b021\u001b[0m (\u001b[33mch21b021-indian-institute-of-technology-madras\u001b[0m) to \u001b[32mhttps://api.wandb.ai\u001b[0m. Use \u001b[1m`wandb login --relogin`\u001b[0m to force relogin\n"
     ]
    },
    {
     "data": {
      "text/plain": [
       "True"
      ]
     },
     "execution_count": 18,
     "metadata": {},
     "output_type": "execute_result"
    }
   ],
   "source": [
    "os.environ[\"WANDB_NOTEBOOK_NAME\"] = \"vanilla.ipynb\"\n",
    "\n",
    "wandb.login()"
   ]
  },
  {
   "cell_type": "code",
   "execution_count": null,
   "id": "05d1b1b7",
   "metadata": {},
   "outputs": [
    {
     "name": "stdout",
     "output_type": "stream",
     "text": [
      "Create sweep with ID: rrqec98r\n",
      "Sweep URL: https://wandb.ai/ch21b021-indian-institute-of-technology-madras/DA6401-Assignment-3/sweeps/rrqec98r\n"
     ]
    },
    {
     "name": "stderr",
     "output_type": "stream",
     "text": [
      "\u001b[34m\u001b[1mwandb\u001b[0m: Agent Starting Run: t1r63avn with config:\n",
      "\u001b[34m\u001b[1mwandb\u001b[0m: \tbatch_size: 64\n",
      "\u001b[34m\u001b[1mwandb\u001b[0m: \tcell_type: rnn\n",
      "\u001b[34m\u001b[1mwandb\u001b[0m: \tclip: 1\n",
      "\u001b[34m\u001b[1mwandb\u001b[0m: \tdropout: 0.3\n",
      "\u001b[34m\u001b[1mwandb\u001b[0m: \tembedding_size: 128\n",
      "\u001b[34m\u001b[1mwandb\u001b[0m: \tepochs: 20\n",
      "\u001b[34m\u001b[1mwandb\u001b[0m: \thidden_size: 256\n",
      "\u001b[34m\u001b[1mwandb\u001b[0m: \tlearning_rate: 0.001\n",
      "\u001b[34m\u001b[1mwandb\u001b[0m: \tnum_layers: 2\n",
      "\u001b[34m\u001b[1mwandb\u001b[0m: \tseed: 42\n",
      "\u001b[34m\u001b[1mwandb\u001b[0m: \tteacher_forcing_ratio: 0.5\n",
      "d:\\Anaconda\\Lib\\site-packages\\pydantic\\main.py:308: UserWarning: Pydantic serializer warnings:\n",
      "  Expected `list[str]` but got `tuple` - serialized value may not be as expected\n",
      "  Expected `list[str]` but got `tuple` - serialized value may not be as expected\n",
      "  return self.__pydantic_serializer__.to_python(\n"
     ]
    },
    {
     "data": {
      "text/html": [
       "Tracking run with wandb version 0.19.11"
      ],
      "text/plain": [
       "<IPython.core.display.HTML object>"
      ]
     },
     "metadata": {},
     "output_type": "display_data"
    },
    {
     "data": {
      "text/html": [
       "Run data is saved locally in <code>d:\\Ayaan\\IITM\\Courses\\Sem 8\\DA6401\\DA6401-Assignment-3\\wandb\\run-20250521_144433-t1r63avn</code>"
      ],
      "text/plain": [
       "<IPython.core.display.HTML object>"
      ]
     },
     "metadata": {},
     "output_type": "display_data"
    },
    {
     "data": {
      "text/html": [
       "Syncing run <strong><a href='https://wandb.ai/ch21b021-indian-institute-of-technology-madras/DA6401-Assignment-3/runs/t1r63avn' target=\"_blank\">pleasant-sweep-1</a></strong> to <a href='https://wandb.ai/ch21b021-indian-institute-of-technology-madras/DA6401-Assignment-3' target=\"_blank\">Weights & Biases</a> (<a href='https://wandb.me/developer-guide' target=\"_blank\">docs</a>)<br>Sweep page: <a href='https://wandb.ai/ch21b021-indian-institute-of-technology-madras/DA6401-Assignment-3/sweeps/rrqec98r' target=\"_blank\">https://wandb.ai/ch21b021-indian-institute-of-technology-madras/DA6401-Assignment-3/sweeps/rrqec98r</a>"
      ],
      "text/plain": [
       "<IPython.core.display.HTML object>"
      ]
     },
     "metadata": {},
     "output_type": "display_data"
    },
    {
     "data": {
      "text/html": [
       " View project at <a href='https://wandb.ai/ch21b021-indian-institute-of-technology-madras/DA6401-Assignment-3' target=\"_blank\">https://wandb.ai/ch21b021-indian-institute-of-technology-madras/DA6401-Assignment-3</a>"
      ],
      "text/plain": [
       "<IPython.core.display.HTML object>"
      ]
     },
     "metadata": {},
     "output_type": "display_data"
    },
    {
     "data": {
      "text/html": [
       " View sweep at <a href='https://wandb.ai/ch21b021-indian-institute-of-technology-madras/DA6401-Assignment-3/sweeps/rrqec98r' target=\"_blank\">https://wandb.ai/ch21b021-indian-institute-of-technology-madras/DA6401-Assignment-3/sweeps/rrqec98r</a>"
      ],
      "text/plain": [
       "<IPython.core.display.HTML object>"
      ]
     },
     "metadata": {},
     "output_type": "display_data"
    },
    {
     "data": {
      "text/html": [
       " View run at <a href='https://wandb.ai/ch21b021-indian-institute-of-technology-madras/DA6401-Assignment-3/runs/t1r63avn' target=\"_blank\">https://wandb.ai/ch21b021-indian-institute-of-technology-madras/DA6401-Assignment-3/runs/t1r63avn</a>"
      ],
      "text/plain": [
       "<IPython.core.display.HTML object>"
      ]
     },
     "metadata": {},
     "output_type": "display_data"
    },
    {
     "name": "stdout",
     "output_type": "stream",
     "text": [
      "Using device: cuda\n"
     ]
    },
    {
     "name": "stderr",
     "output_type": "stream",
     "text": [
      "Epoch 3/20:  15%|█▌        | 3/20 [03:00<17:11, 60.67s/it, train_loss=2.9000, val_acc=0.0000, val_loss=4.0553]"
     ]
    }
   ],
   "source": [
    "sweep_id = wandb.sweep(sweep_config, project='DA6401-Assignment-3')\n",
    "\n",
    "# Run the sweep\n",
    "wandb.agent(sweep_id, train_with_wandb, count=15)"
   ]
  },
  {
   "cell_type": "code",
   "execution_count": 17,
   "id": "28e47cd2",
   "metadata": {},
   "outputs": [],
   "source": [
    "def analyze_errors(predictions):\n",
    "    \"\"\"\n",
    "    Analyze the errors made by the model\n",
    "    \"\"\"\n",
    "    # Count total predictions and correct predictions\n",
    "    total = len(predictions)\n",
    "    correct = sum(1 for _, pred, target in predictions if pred == target)\n",
    "    \n",
    "    print(f'Accuracy: {correct/total:.3f} ({correct}/{total})')\n",
    "    \n",
    "    # Analyze error patterns\n",
    "    errors = [(source, pred, target) for source, pred, target in predictions if pred != target]\n",
    "    \n",
    "    # Error by length\n",
    "    length_errors = {}\n",
    "    for source, _, target in errors:\n",
    "        length = len(source)\n",
    "        if length not in length_errors:\n",
    "            length_errors[length] = 0\n",
    "        length_errors[length] += 1\n",
    "    \n",
    "    # Sort by length\n",
    "    sorted_length_errors = {k: v for k, v in sorted(length_errors.items())}\n",
    "    \n",
    "    plt.figure(figsize=(10, 6))\n",
    "    plt.bar(sorted_length_errors.keys(), sorted_length_errors.values())\n",
    "    plt.xlabel('Source Length')\n",
    "    plt.ylabel('Number of Errors')\n",
    "    plt.title('Errors by Source Length')\n",
    "    plt.savefig('predictions_vanilla/errors_by_length.png')\n",
    "    \n",
    "    # Sample error analysis\n",
    "    print(\"\\nSample Error Analysis:\")\n",
    "    for i, (source, pred, target) in enumerate(errors[:10]):\n",
    "        print(f'Source: {source}')\n",
    "        print(f'Prediction: {pred}')\n",
    "        print(f'Target: {target}')\n",
    "        print()"
   ]
  },
  {
   "cell_type": "code",
   "execution_count": 35,
   "id": "85e2f6ea",
   "metadata": {},
   "outputs": [],
   "source": [
    "def test_best_model(best_config, model_path):\n",
    "    # Load datasets\n",
    "    train_dataset_path = \"dakshina_dataset_v1.0/ml/lexicons/ml.translit.sampled.train.tsv\"\n",
    "    test_dataset_path = \"dakshina_dataset_v1.0/ml/lexicons/ml.translit.sampled.test.tsv\"\n",
    "    \n",
    "    train_dataset, _ = prepare_data(train_dataset_path, batch_size=best_config['batch_size'], shuffle=False)\n",
    "    test_dataset, test_dataloader = prepare_data(test_dataset_path, batch_size=best_config['batch_size'], shuffle=False)\n",
    "    \n",
    "    # Make sure test dataset uses the same vocabulary as training\n",
    "    test_dataset.source_char_to_idx = train_dataset.source_char_to_idx\n",
    "    test_dataset.source_idx_to_char = train_dataset.source_idx_to_char\n",
    "    test_dataset.target_char_to_idx = train_dataset.target_char_to_idx\n",
    "    test_dataset.target_idx_to_char = train_dataset.target_idx_to_char\n",
    "\n",
    "    # Initialize model with best configuration\n",
    "    input_size = train_dataset.get_vocab_size('source')\n",
    "    output_size = train_dataset.get_vocab_size('target')\n",
    "        \n",
    "    # Device\n",
    "    device = torch.device('cuda' if torch.cuda.is_available() else 'cpu')\n",
    "    print(f\"Using device: {device}\")    \n",
    "\n",
    "    best_encoder = Encoder(\n",
    "        input_size=input_size, \n",
    "        embedding_size=best_config['embedding_size'], \n",
    "        hidden_size=best_config['hidden_size'], \n",
    "        n_layers=best_config['num_layers'], \n",
    "        dropout=best_config['dropout'],\n",
    "        cell_type=best_config['cell_type']\n",
    "    )\n",
    "    \n",
    "    best_decoder = Decoder(\n",
    "        output_size=output_size, \n",
    "        embedding_size=best_config['embedding_size'], \n",
    "        hidden_size=best_config['hidden_size'], \n",
    "        n_layers=best_config['num_layers'], \n",
    "        dropout=best_config['dropout'],\n",
    "        cell_type=best_config['cell_type']\n",
    "    )\n",
    "    \n",
    "    best_model = Seq2Seq(best_encoder, best_decoder, device).to(device)\n",
    "    \n",
    "    # Load model parameters\n",
    "    best_model.load_state_dict(torch.load(model_path))\n",
    "    \n",
    "    # Evaluate on test set\n",
    "    test_accuracy, test_predictions = calculate_accuracy(best_model, device, test_dataloader, train_dataset)\n",
    "    \n",
    "    print(f'Test Accuracy: {test_accuracy:.3f}')\n",
    "    \n",
    "    # Save predictions to file\n",
    "    with open('predictions_vanilla/test_predictions.txt', 'w', encoding='utf-8') as f:\n",
    "        for source, pred, target in test_predictions:\n",
    "            f.write(f'Source: {source}\\n')\n",
    "            f.write(f'Prediction: {pred}\\n')\n",
    "            f.write(f'Target: {target}\\n\\n')\n",
    "    \n",
    "    # Create error analysis\n",
    "    analyze_errors(test_predictions)\n",
    "    \n",
    "    return test_predictions"
   ]
  },
  {
   "cell_type": "code",
   "execution_count": 31,
   "id": "d298f16f",
   "metadata": {},
   "outputs": [],
   "source": [
    "best_config = {'embedding_size': 256, 'hidden_size': 128, 'num_layers': 2, 'dropout': 0.1, 'cell_type': 'rnn', 'batch_size': 64}\n",
    "\n",
    "best_model_path = \"models/model_0bp4kcni.pth\""
   ]
  },
  {
   "cell_type": "code",
   "execution_count": 36,
   "id": "27edbd1f",
   "metadata": {},
   "outputs": [],
   "source": [
    "# Make sure predictions directory exists\n",
    "os.makedirs('predictions_vanilla', exist_ok=True)"
   ]
  },
  {
   "cell_type": "code",
   "execution_count": 36,
   "id": "7fbacaa6",
   "metadata": {},
   "outputs": [
    {
     "name": "stdout",
     "output_type": "stream",
     "text": [
      "Using device: cuda\n",
      "Test Accuracy: 0.000\n",
      "Accuracy: 0.000 (0/5610)\n",
      "\n",
      "Sample Error Analysis:\n",
      "Source: adisthaanamaakkiyaanu\n",
      "Prediction: സ്ക്\n",
      "Target: അടിസ്ഥാനമാക്കിയാണ്\n",
      "\n",
      "Source: atisthaanamaakkiyaanu\n",
      "Prediction: സ്ക്\n",
      "Target: അടിസ്ഥാനമാക്കിയാണ്\n",
      "\n",
      "Source: adisthaanamaakkiya\n",
      "Prediction: സ്ക്\n",
      "Target: അടിസ്ഥാനമാക്കിയ\n",
      "\n",
      "Source: atisthaanamaakkiya\n",
      "Prediction: സ്ക്\n",
      "Target: അടിസ്ഥാനമാക്കിയ\n",
      "\n",
      "Source: adangunnathaanu\n",
      "Prediction: സ്ക്\n",
      "Target: അടങ്ങുന്നതാണ്\n",
      "\n",
      "Source: amgeekarikkuka\n",
      "Prediction: സ്ക്\n",
      "Target: അംഗീകരിക്കുക\n",
      "\n",
      "Source: angeekarikkuka\n",
      "Prediction: സ്ക്\n",
      "Target: അംഗീകരിക്കുക\n",
      "\n",
      "Source: adangunnathaan\n",
      "Prediction: സ്ക്\n",
      "Target: അടങ്ങുന്നതാണ്\n",
      "\n",
      "Source: atangunnathaan\n",
      "Prediction: സ്ക്\n",
      "Target: അടങ്ങുന്നതാണ്\n",
      "\n",
      "Source: adayaalamaayi\n",
      "Prediction: സ്ക്\n",
      "Target: അടയാളമായി\n",
      "\n"
     ]
    },
    {
     "data": {
      "image/png": "[encoded data removed]",
      "text/plain": [
       "<Figure size 1000x600 with 1 Axes>"
      ]
     },
     "metadata": {},
     "output_type": "display_data"
    }
   ],
   "source": [
    "# Test best model\n",
    "test_predictions = test_best_model(best_config, best_model_path)"
   ]
  }
 ],
 "metadata": {
  "kernelspec": {
   "display_name": "base",
   "language": "python",
   "name": "python3"
  },
  "language_info": {
   "codemirror_mode": {
    "name": "ipython",
    "version": 3
   },
   "file_extension": ".py",
   "mimetype": "text/x-python",
   "name": "python",
   "nbconvert_exporter": "python",
   "pygments_lexer": "ipython3",
   "version": "3.12.4"
  }
 },
 "nbformat": 4,
 "nbformat_minor": 5
}
