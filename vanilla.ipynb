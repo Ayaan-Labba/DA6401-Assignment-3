{
 "cells": [
  {
   "cell_type": "markdown",
   "id": "324553e2",
   "metadata": {},
   "source": [
    "# Assignment 3"
   ]
  },
  {
   "cell_type": "markdown",
   "id": "bf866e12",
   "metadata": {},
   "source": [
    "Import required libraries"
   ]
  },
  {
   "cell_type": "code",
   "execution_count": 1,
   "id": "1ad1abe1",
   "metadata": {},
   "outputs": [],
   "source": [
    "import torch\n",
    "import random\n",
    "import os\n",
    "import numpy as np"
   ]
  },
  {
   "cell_type": "code",
   "execution_count": 58,
   "id": "2828c2f2",
   "metadata": {},
   "outputs": [],
   "source": [
    "# Set seeds for reproducibility\n",
    "def set_seed(seed=42):\n",
    "    random.seed(seed)\n",
    "    np.random.seed(seed)\n",
    "    torch.manual_seed(seed)\n",
    "    torch.cuda.manual_seed_all(seed)\n",
    "    torch.backends.cudnn.deterministic = True\n",
    "\n",
    "set_seed(42)"
   ]
  },
  {
   "cell_type": "code",
   "execution_count": 3,
   "id": "4ceec1b5",
   "metadata": {},
   "outputs": [
    {
     "name": "stdout",
     "output_type": "stream",
     "text": [
      "Using device: cuda\n"
     ]
    }
   ],
   "source": [
    "# Check for CUDA\n",
    "device = torch.device('cuda' if torch.cuda.is_available() else 'cpu')\n",
    "print(f\"Using device: {device}\")"
   ]
  },
  {
   "cell_type": "markdown",
   "id": "a426aca2",
   "metadata": {},
   "source": [
    "## Load and Prepare Data"
   ]
  },
  {
   "cell_type": "code",
   "execution_count": 4,
   "id": "689ca7c3",
   "metadata": {},
   "outputs": [],
   "source": [
    "import pandas\n",
    "from torch.utils.data import Dataset, DataLoader\n",
    "\n",
    "from dataset import TransliterationDataset, collate_fn"
   ]
  },
  {
   "cell_type": "code",
   "execution_count": 5,
   "id": "4009cc0a",
   "metadata": {},
   "outputs": [],
   "source": [
    "def prepare_data(dataset_path, batch_size=64, shuffle=True):\n",
    "    dataset = TransliterationDataset(dataset_path)\n",
    "    data_loader = DataLoader(\n",
    "        dataset, \n",
    "        batch_size=batch_size, \n",
    "        shuffle=shuffle, \n",
    "        collate_fn=collate_fn\n",
    "    )\n",
    "\n",
    "    return dataset, data_loader"
   ]
  },
  {
   "cell_type": "code",
   "execution_count": 6,
   "id": "673fca47",
   "metadata": {},
   "outputs": [],
   "source": [
    "# Dataset paths\n",
    "train_path = 'dakshina_dataset_v1.0/ml/lexicons/ml.translit.sampled.train.tsv'\n",
    "val_path = 'dakshina_dataset_v1.0/ml/lexicons/ml.translit.sampled.dev.tsv'\n",
    "\n",
    "# Create dataloaders\n",
    "train_dataset, train_loader = prepare_data(train_path, batch_size=64)\n",
    "val_dataset, val_loader = prepare_data(val_path, batch_size=64)"
   ]
  },
  {
   "cell_type": "code",
   "execution_count": null,
   "id": "204978fa",
   "metadata": {},
   "outputs": [],
   "source": [
    "# Model parameters\n",
    "input_size = train_dataset.get_vocab_size('source')\n",
    "output_size = train_dataset.get_vocab_size('target')\n",
    "\n",
    "\n",
    "# Print vocabulary sizes\n",
    "print(f\"Source vocabulary size: {input_size}\")\n",
    "print(f\"Target vocabulary size: {output_size}\")"
   ]
  },
  {
   "cell_type": "code",
   "execution_count": null,
   "id": "2d8e06f3",
   "metadata": {},
   "outputs": [],
   "source": [
    "# Model parameters\n",
    "val_input_size = val_dataset.get_vocab_size('source')\n",
    "val_output_size = val_dataset.get_vocab_size('target')\n",
    "\n",
    "# Print vocabulary sizes\n",
    "print(f\"Validation - Source vocabulary size: {val_input_size}\")\n",
    "print(f\"Validation - Target vocabulary size: {val_output_size}\")"
   ]
  },
  {
   "cell_type": "code",
   "execution_count": 9,
   "id": "b8640c93",
   "metadata": {},
   "outputs": [],
   "source": [
    "# Make sure val dataset uses the same vocabulary as training\n",
    "val_dataset.source_char_to_idx = train_dataset.source_char_to_idx\n",
    "val_dataset.source_idx_to_char = train_dataset.source_idx_to_char\n",
    "val_dataset.target_char_to_idx = train_dataset.target_char_to_idx\n",
    "val_dataset.target_idx_to_char = train_dataset.target_idx_to_char"
   ]
  },
  {
   "cell_type": "markdown",
   "id": "8455d86a",
   "metadata": {},
   "source": [
    "## Train Model"
   ]
  },
  {
   "cell_type": "code",
   "execution_count": 6,
   "id": "e881045a",
   "metadata": {},
   "outputs": [],
   "source": [
    "import torch.nn as nn\n",
    "import torch.nn.functional as F\n",
    "import torch.optim as optim\n",
    "from tqdm import trange\n",
    "\n",
    "from vanilla_model import Encoder, Decoder, Seq2Seq\n",
    "from training import train, evaluate, transliterate, calculate_accuracy"
   ]
  },
  {
   "cell_type": "code",
   "execution_count": null,
   "id": "07f57ab1",
   "metadata": {},
   "outputs": [],
   "source": [
    "def train_model(input_size, output_size, train_loader, val_loader, device, embedding_size=256, hidden_size=256, lr=0.001,\n",
    "                n_layers=1, dropout=0.2, cell_type='lstm', epochs=10, teacher_forcing_ratio=0.5, clip=1.0, patience=5):  \n",
    "    print(f\"Using device: {device}\")\n",
    "    \n",
    "    # Create model\n",
    "    encoder = Encoder(\n",
    "        input_size=input_size,\n",
    "        embedding_size=embedding_size,\n",
    "        hidden_size=hidden_size,\n",
    "        n_layers=n_layers,\n",
    "        dropout=dropout,\n",
    "        cell_type=cell_type\n",
    "    ).to(device)\n",
    "    \n",
    "    decoder = Decoder(\n",
    "        output_size=output_size,\n",
    "        embedding_size=embedding_size,\n",
    "        hidden_size=hidden_size,\n",
    "        n_layers=n_layers,\n",
    "        dropout=dropout,\n",
    "        cell_type=cell_type\n",
    "    ).to(device)\n",
    "    \n",
    "    model = Seq2Seq(encoder, decoder, device).to(device)\n",
    "    \n",
    "    # Define optimizer and loss function\n",
    "    optimizer = optim.Adam(model.parameters(), lr=lr)\n",
    "    # # Define learning rate scheduler\n",
    "    # scheduler = optim.lr_scheduler.ReduceLROnPlateau(optimizer, mode='min', factor=0.5, patience=3)\n",
    "    criterion = nn.CrossEntropyLoss(ignore_index=train_dataset.target_char_to_idx['<PAD>'])\n",
    "\n",
    "    best_val_loss = float('inf')\n",
    "    patience_counter = 0\n",
    "\n",
    "    # Lists to store losses\n",
    "    train_losses = []\n",
    "    val_losses = []\n",
    "    best_model = None\n",
    "\n",
    "    # Training loop\n",
    "    print(\"Starting training...\")\n",
    "    pbar = trange(epochs, desc=\"Epoch\", dynamic_ncols=True)\n",
    "    for epoch in pbar:\n",
    "        # Train\n",
    "        train_loss = train(\n",
    "            model=model,\n",
    "            device=device,\n",
    "            dataloader=train_loader,\n",
    "            optimizer=optimizer,\n",
    "            criterion=criterion,\n",
    "            clip=clip,\n",
    "            teacher_forcing_ratio=teacher_forcing_ratio\n",
    "        )\n",
    "        train_losses.append(train_loss)\n",
    "        \n",
    "        # Validate\n",
    "        val_loss = evaluate(\n",
    "            model=model,\n",
    "            device=device,\n",
    "            dataloader=val_loader,\n",
    "            criterion=criterion\n",
    "        )\n",
    "        val_losses.append(val_loss)\n",
    "\n",
    "        # # Update learning rate based on validation loss\n",
    "        # scheduler.step(val_loss)\n",
    "\n",
    "        # Update tqdm bar description\n",
    "        pbar.set_description(f\"Epoch {epoch+1}/{epochs}\")\n",
    "        pbar.set_postfix(train_loss=f\"{train_loss:.4f}\", val_loss=f\"{val_loss:.4f}\")\n",
    "            \n",
    "        # Save best model\n",
    "        if val_loss < best_val_loss:\n",
    "            best_val_loss = val_loss\n",
    "            best_model = model\n",
    "            torch.save(model.state_dict(), 'best_vanilla_model.pth')\n",
    "        else:\n",
    "            patience_counter += 1\n",
    "            \n",
    "        # Early stopping\n",
    "        if patience_counter >= patience:\n",
    "            print(f\"Early stopping after {epoch+1} epochs!\")\n",
    "            break\n",
    "    \n",
    "    print(\"best model saved at: best_vanilla_model.pth\")\n",
    "\n",
    "    return train_losses, val_losses, best_model"
   ]
  },
  {
   "cell_type": "code",
   "execution_count": null,
   "id": "56e4ec39",
   "metadata": {},
   "outputs": [],
   "source": [
    "train_losses, val_losses, best_model = train_model(input_size=input_size, output_size=output_size, train_loader=train_loader, \n",
    "                                       val_loader=val_loader, device=device)"
   ]
  },
  {
   "cell_type": "markdown",
   "id": "a5d5d824",
   "metadata": {},
   "source": [
    "### Visualize training results"
   ]
  },
  {
   "cell_type": "code",
   "execution_count": 7,
   "id": "be7fe6cc",
   "metadata": {},
   "outputs": [],
   "source": [
    "import matplotlib.pyplot as plt"
   ]
  },
  {
   "cell_type": "code",
   "execution_count": null,
   "id": "53966fba",
   "metadata": {},
   "outputs": [],
   "source": [
    "# Plot loss curves\n",
    "plt.figure(figsize=(10, 5))\n",
    "plt.plot(train_losses, label='Train Loss')\n",
    "plt.plot(val_losses, label='Validation Loss')\n",
    "plt.xlabel('Epoch')\n",
    "plt.ylabel('Loss')\n",
    "plt.legend()\n",
    "plt.title('Training and Validation Loss')\n",
    "# plt.savefig('loss_plot.png')"
   ]
  },
  {
   "cell_type": "markdown",
   "id": "c6924fb4",
   "metadata": {},
   "source": [
    "## Hyperparameter Tuning with Wandb"
   ]
  },
  {
   "cell_type": "code",
   "execution_count": 8,
   "id": "26ba7ced",
   "metadata": {},
   "outputs": [],
   "source": [
    "import wandb"
   ]
  },
  {
   "cell_type": "code",
   "execution_count": 9,
   "id": "3c36307c",
   "metadata": {},
   "outputs": [],
   "source": [
    "BEST_VAL_LOSS = float('inf')\n",
    "BEST_VAL_ACC = 0"
   ]
  },
  {
   "cell_type": "code",
   "execution_count": 10,
   "id": "1cba31c2",
   "metadata": {},
   "outputs": [],
   "source": [
    "# Train the model with wandb integration\n",
    "def train_with_wandb(config=None):\n",
    "    global BEST_VAL_LOSS, BEST_VAL_ACC\n",
    "    \n",
    "    # Initialize a new wandb run\n",
    "    with wandb.init(config=config) as run:\n",
    "        # If called by wandb.agent, use the config set by sweep controller\n",
    "        config = wandb.config\n",
    "        \n",
    "        # Generate a descriptive name for the run based on key hyperparameters\n",
    "        run_name = (\n",
    "            f\"ct{config.cell_type}-tfr{config.teacher_forcing_ratio}-lr{config.learning_rate}-es{config.embedding_size}-hs{config.hidden_size}-\"\n",
    "            f\"nl{config.num_layers}-d{config.dropout}-bs{config.batch_size}\"\n",
    "        )\n",
    "        \n",
    "        run.name = run_name\n",
    "        \n",
    "        # Access hyperparameters as wandb.config\n",
    "        config = wandb.config\n",
    "        \n",
    "        # Set seed\n",
    "        set_seed(config.seed)\n",
    "        \n",
    "        # Device\n",
    "        device = torch.device('cuda' if torch.cuda.is_available() else 'cpu')\n",
    "        print(f\"Using device: {device}\")\n",
    "        \n",
    "        # Create save directory if it doesn't exist\n",
    "        if not os.path.exists('models'):\n",
    "            os.makedirs('models')\n",
    "        \n",
    "        # Dataset paths\n",
    "        train_path = 'dakshina_dataset_v1.0/ml/lexicons/ml.translit.sampled.train.tsv'\n",
    "        val_path = 'dakshina_dataset_v1.0/ml/lexicons/ml.translit.sampled.dev.tsv'\n",
    "\n",
    "        # Create dataloaders\n",
    "        train_dataset, train_loader = prepare_data(train_path, batch_size=config.batch_size)\n",
    "        val_dataset, val_loader = prepare_data(val_path, batch_size=config.batch_size)\n",
    "\n",
    "        # Make sure val dataset uses the same vocabulary as training\n",
    "        val_dataset.source_char_to_idx = train_dataset.source_char_to_idx\n",
    "        val_dataset.source_idx_to_char = train_dataset.source_idx_to_char\n",
    "        val_dataset.target_char_to_idx = train_dataset.target_char_to_idx\n",
    "        val_dataset.target_idx_to_char = train_dataset.target_idx_to_char\n",
    "        \n",
    "        # Create model\n",
    "        encoder = Encoder(\n",
    "            input_size=train_dataset.get_vocab_size('source'),\n",
    "            embedding_size=config.embedding_size,\n",
    "            hidden_size=config.hidden_size,\n",
    "            n_layers=config.num_layers,\n",
    "            dropout=config.dropout,\n",
    "            cell_type=config.cell_type\n",
    "        )\n",
    "        \n",
    "        decoder = Decoder(\n",
    "            output_size=train_dataset.get_vocab_size('target'),\n",
    "            embedding_size=config.embedding_size,\n",
    "            hidden_size=config.hidden_size,\n",
    "            n_layers=config.num_layers,\n",
    "            dropout=config.dropout,\n",
    "            cell_type=config.cell_type\n",
    "        )\n",
    "        \n",
    "        model = Seq2Seq(encoder, decoder, device).to(device)\n",
    "        \n",
    "        # Optimizer and criterion\n",
    "        optimizer = optim.Adam(model.parameters(), lr=config.learning_rate)\n",
    "        criterion = nn.CrossEntropyLoss(ignore_index=train_dataset.target_char_to_idx['<PAD>'])\n",
    "        \n",
    "        # Train model\n",
    "        best_val_loss = float('inf')\n",
    "        best_val_acc = 0\n",
    "        patience = config.patience\n",
    "        patience_counter = 0\n",
    "\n",
    "        pbar = trange(int(config.epochs), desc=\"Epoch\", dynamic_ncols=True)\n",
    "        for epoch in pbar:\n",
    "            # Train\n",
    "            train_loss = train(\n",
    "                model, device, train_loader, optimizer, criterion, \n",
    "                clip=config.clip, teacher_forcing_ratio=config.teacher_forcing_ratio\n",
    "            )\n",
    "            \n",
    "            # Evaluate\n",
    "            val_loss = evaluate(model, device, val_loader, criterion=criterion)\n",
    "\n",
    "            # Evaluate accuracy on validation set\n",
    "            correct = 0\n",
    "            total = 0\n",
    "            \n",
    "            with torch.no_grad():\n",
    "                for batch in val_loader:\n",
    "                    source_texts = batch['source_text']\n",
    "                    target_texts = batch['target_text']\n",
    "                    \n",
    "                    for i, source_text in enumerate(source_texts):\n",
    "                        pred_text = transliterate(model, device, val_dataset, source_text)\n",
    "                        \n",
    "                        if pred_text == target_texts[i]:\n",
    "                            correct += 1\n",
    "                        total += 1\n",
    "            \n",
    "            val_acc = correct / total\n",
    "\n",
    "            # Update tqdm bar description\n",
    "            pbar.set_description(f\"Epoch {epoch+1}/{config.epochs}\")\n",
    "            pbar.set_postfix(train_loss=f\"{train_loss:.4f}\", val_loss=f\"{val_loss:.4f}\", val_acc=f\"{val_acc:.4f}\")\n",
    "            \n",
    "            # Log to wandb\n",
    "            wandb.log({\n",
    "                'epoch': epoch + 1,\n",
    "                'train_loss': train_loss,\n",
    "                'val_loss': val_loss,\n",
    "                'val_accuracy':val_acc\n",
    "            })\n",
    "\n",
    "            # Save best model based on validation loss\n",
    "            if val_loss < best_val_loss:\n",
    "                best_val_loss = val_loss\n",
    "                best_val_acc = val_acc\n",
    "                model_path = os.path.join('models', f'model_{wandb.run.id}.pth')\n",
    "                torch.save(model.state_dict(), model_path)\n",
    "\n",
    "                if best_val_loss < BEST_VAL_LOSS:\n",
    "                    BEST_VAL_LOSS = best_val_loss\n",
    "                    BEST_VAL_ACC = best_val_acc\n",
    "                    torch.save(model.state_dict(), \"best_vanilla_model.pth\")\n",
    "                    \n",
    "            else:\n",
    "                patience_counter += 1\n",
    "            \n",
    "            # Early stopping\n",
    "            if patience_counter >= patience:\n",
    "                print(f\"Early stopping after {epoch+1} epochs!\")\n",
    "                break\n",
    "\n",
    "        # # Load best model for final evaluation\n",
    "        # model.load_state_dict(torch.load(os.path.join('models', f'model_{wandb.run.id}.pth')))\n",
    "        \n",
    "        # # Evaluate accuracy on validation set\n",
    "        # correct = 0\n",
    "        # total = 0\n",
    "        \n",
    "        # with torch.no_grad():\n",
    "        #     for batch in val_loader:\n",
    "        #         source_texts = batch['source_text']\n",
    "        #         target_texts = batch['target_text']\n",
    "                \n",
    "        #         for i, source_text in enumerate(source_texts):\n",
    "        #             pred_text = transliterate(best_model, device, val_dataset, source_text)\n",
    "                    \n",
    "        #             if pred_text == target_texts[i]:\n",
    "        #                 correct += 1\n",
    "        #             total += 1\n",
    "        \n",
    "        # val_accuracy = correct / total\n",
    "        # print(f'Validation Accuracy: {val_accuracy:.3f}')\n",
    "        \n",
    "        # print(f\"\\tBest model saved with val loss {best_val_loss:.3f} at model_{wandb.run.id}.pth\")\n",
    "        print(f\"\\tBest model saved with val acc {best_val_acc:.3f} at model_{wandb.run.id}.pth\")\n",
    "\n",
    "        # Log final metrics\n",
    "        wandb.log({\n",
    "            'best_val_loss': best_val_loss,\n",
    "            'best_val_accuracy': best_val_acc\n",
    "        })"
   ]
  },
  {
   "cell_type": "code",
   "execution_count": 11,
   "id": "3e8834fd",
   "metadata": {},
   "outputs": [],
   "source": [
    "# Define sweep configuration\n",
    "sweep_config = {\n",
    "    'method': 'bayes',\n",
    "    'name': 'sweep_vanilla',\n",
    "    'metric': {\n",
    "        'name': 'val_loss',\n",
    "        'goal': 'minimize'\n",
    "    },\n",
    "    'parameters': {\n",
    "        'seed': {\n",
    "            'value': 42\n",
    "        },\n",
    "        'learning_rate': {\n",
    "           'min': 0.0001, \n",
    "           'max': 0.01\n",
    "        },\n",
    "        'batch_size': {\n",
    "            'values': [32, 64]\n",
    "        },\n",
    "        'embedding_size': {\n",
    "            'values': [64, 128, 256]\n",
    "        },\n",
    "        'hidden_size': {\n",
    "            'values': [128, 256]\n",
    "        },\n",
    "        'num_layers': {\n",
    "            'values': [1, 2]\n",
    "        },\n",
    "        'dropout': {\n",
    "            'values': [0.1, 0.3]\n",
    "        },\n",
    "        'cell_type': {\n",
    "            'values': ['rnn', 'lstm', 'gru']\n",
    "        },\n",
    "        'teacher_forcing_ratio': {\n",
    "            'values': [0.5, 0.7]\n",
    "        },\n",
    "        'clip': {\n",
    "            'value': 1.0\n",
    "        },\n",
    "        'epochs': {\n",
    "            'value': 20\n",
    "        },\n",
    "        'patience': {\n",
    "            'value': 5\n",
    "        }\n",
    "    }\n",
    "}"
   ]
  },
  {
   "cell_type": "code",
   "execution_count": 12,
   "id": "1fc2782b",
   "metadata": {},
   "outputs": [
    {
     "name": "stderr",
     "output_type": "stream",
     "text": [
      "\u001b[34m\u001b[1mwandb\u001b[0m: Currently logged in as: \u001b[33mch21b021\u001b[0m (\u001b[33mch21b021-indian-institute-of-technology-madras\u001b[0m) to \u001b[32mhttps://api.wandb.ai\u001b[0m. Use \u001b[1m`wandb login --relogin`\u001b[0m to force relogin\n"
     ]
    },
    {
     "data": {
      "text/plain": [
       "True"
      ]
     },
     "execution_count": 12,
     "metadata": {},
     "output_type": "execute_result"
    }
   ],
   "source": [
    "os.environ[\"WANDB_NOTEBOOK_NAME\"] = \"vanilla.ipynb\"\n",
    "\n",
    "wandb.login()"
   ]
  },
  {
   "cell_type": "code",
   "execution_count": 13,
   "id": "05d1b1b7",
   "metadata": {},
   "outputs": [
    {
     "name": "stdout",
     "output_type": "stream",
     "text": [
      "Create sweep with ID: goazo3li\n",
      "Sweep URL: https://wandb.ai/ch21b021-indian-institute-of-technology-madras/DA6401-Assignment-3/sweeps/goazo3li\n"
     ]
    },
    {
     "name": "stderr",
     "output_type": "stream",
     "text": [
      "\u001b[34m\u001b[1mwandb\u001b[0m: Agent Starting Run: b0pab09l with config:\n",
      "\u001b[34m\u001b[1mwandb\u001b[0m: \tbatch_size: 64\n",
      "\u001b[34m\u001b[1mwandb\u001b[0m: \tcell_type: gru\n",
      "\u001b[34m\u001b[1mwandb\u001b[0m: \tclip: 1\n",
      "\u001b[34m\u001b[1mwandb\u001b[0m: \tdropout: 0.3\n",
      "\u001b[34m\u001b[1mwandb\u001b[0m: \tembedding_size: 128\n",
      "\u001b[34m\u001b[1mwandb\u001b[0m: \tepochs: 20\n",
      "\u001b[34m\u001b[1mwandb\u001b[0m: \thidden_size: 128\n",
      "\u001b[34m\u001b[1mwandb\u001b[0m: \tlearning_rate: 0.0008661112401271926\n",
      "\u001b[34m\u001b[1mwandb\u001b[0m: \tnum_layers: 1\n",
      "\u001b[34m\u001b[1mwandb\u001b[0m: \tpatience: 5\n",
      "\u001b[34m\u001b[1mwandb\u001b[0m: \tseed: 42\n",
      "\u001b[34m\u001b[1mwandb\u001b[0m: \tteacher_forcing_ratio: 0.5\n",
      "d:\\Anaconda\\Lib\\site-packages\\pydantic\\main.py:308: UserWarning: Pydantic serializer warnings:\n",
      "  Expected `list[str]` but got `tuple` - serialized value may not be as expected\n",
      "  Expected `list[str]` but got `tuple` - serialized value may not be as expected\n",
      "  return self.__pydantic_serializer__.to_python(\n"
     ]
    },
    {
     "data": {
      "text/html": [
       "Tracking run with wandb version 0.19.11"
      ],
      "text/plain": [
       "<IPython.core.display.HTML object>"
      ]
     },
     "metadata": {},
     "output_type": "display_data"
    },
    {
     "data": {
      "text/html": [
       "Run data is saved locally in <code>d:\\Ayaan\\IITM\\Courses\\Sem 8\\DA6401\\DA6401-Assignment-3\\wandb\\run-20250521_160219-b0pab09l</code>"
      ],
      "text/plain": [
       "<IPython.core.display.HTML object>"
      ]
     },
     "metadata": {},
     "output_type": "display_data"
    },
    {
     "data": {
      "text/html": [
       "Syncing run <strong><a href='https://wandb.ai/ch21b021-indian-institute-of-technology-madras/DA6401-Assignment-3/runs/b0pab09l' target=\"_blank\">expert-sweep-1</a></strong> to <a href='https://wandb.ai/ch21b021-indian-institute-of-technology-madras/DA6401-Assignment-3' target=\"_blank\">Weights & Biases</a> (<a href='https://wandb.me/developer-guide' target=\"_blank\">docs</a>)<br>Sweep page: <a href='https://wandb.ai/ch21b021-indian-institute-of-technology-madras/DA6401-Assignment-3/sweeps/goazo3li' target=\"_blank\">https://wandb.ai/ch21b021-indian-institute-of-technology-madras/DA6401-Assignment-3/sweeps/goazo3li</a>"
      ],
      "text/plain": [
       "<IPython.core.display.HTML object>"
      ]
     },
     "metadata": {},
     "output_type": "display_data"
    },
    {
     "data": {
      "text/html": [
       " View project at <a href='https://wandb.ai/ch21b021-indian-institute-of-technology-madras/DA6401-Assignment-3' target=\"_blank\">https://wandb.ai/ch21b021-indian-institute-of-technology-madras/DA6401-Assignment-3</a>"
      ],
      "text/plain": [
       "<IPython.core.display.HTML object>"
      ]
     },
     "metadata": {},
     "output_type": "display_data"
    },
    {
     "data": {
      "text/html": [
       " View sweep at <a href='https://wandb.ai/ch21b021-indian-institute-of-technology-madras/DA6401-Assignment-3/sweeps/goazo3li' target=\"_blank\">https://wandb.ai/ch21b021-indian-institute-of-technology-madras/DA6401-Assignment-3/sweeps/goazo3li</a>"
      ],
      "text/plain": [
       "<IPython.core.display.HTML object>"
      ]
     },
     "metadata": {},
     "output_type": "display_data"
    },
    {
     "data": {
      "text/html": [
       " View run at <a href='https://wandb.ai/ch21b021-indian-institute-of-technology-madras/DA6401-Assignment-3/runs/b0pab09l' target=\"_blank\">https://wandb.ai/ch21b021-indian-institute-of-technology-madras/DA6401-Assignment-3/runs/b0pab09l</a>"
      ],
      "text/plain": [
       "<IPython.core.display.HTML object>"
      ]
     },
     "metadata": {},
     "output_type": "display_data"
    },
    {
     "name": "stdout",
     "output_type": "stream",
     "text": [
      "Using device: cuda\n"
     ]
    },
    {
     "name": "stderr",
     "output_type": "stream",
     "text": [
      "Epoch 18/20:  85%|████████▌ | 17/20 [19:56<03:31, 70.39s/it, train_loss=0.4512, val_acc=0.3304, val_loss=1.1851]"
     ]
    },
    {
     "name": "stdout",
     "output_type": "stream",
     "text": [
      "Early stopping after 18 epochs!\n",
      "\tBest model saved with val acc 0.333 at model_b0pab09l.pth\n"
     ]
    },
    {
     "name": "stderr",
     "output_type": "stream",
     "text": [
      "\n"
     ]
    },
    {
     "data": {
      "text/html": [],
      "text/plain": [
       "<IPython.core.display.HTML object>"
      ]
     },
     "metadata": {},
     "output_type": "display_data"
    },
    {
     "data": {
      "text/html": [
       "<br>    <style><br>        .wandb-row {<br>            display: flex;<br>            flex-direction: row;<br>            flex-wrap: wrap;<br>            justify-content: flex-start;<br>            width: 100%;<br>        }<br>        .wandb-col {<br>            display: flex;<br>            flex-direction: column;<br>            flex-basis: 100%;<br>            flex: 1;<br>            padding: 10px;<br>        }<br>    </style><br><div class=\"wandb-row\"><div class=\"wandb-col\"><h3>Run history:</h3><br/><table class=\"wandb\"><tr><td>best_val_accuracy</td><td>▁</td></tr><tr><td>best_val_loss</td><td>▁</td></tr><tr><td>epoch</td><td>▁▁▂▂▃▃▃▄▄▅▅▆▆▆▇▇██</td></tr><tr><td>train_loss</td><td>█▄▃▃▂▂▂▂▂▂▁▁▁▁▁▁▁▁</td></tr><tr><td>val_accuracy</td><td>▁▃▄▅▆▆▇▇▇▇██▇█████</td></tr><tr><td>val_loss</td><td>█▅▄▃▃▂▂▂▁▁▁▁▁▁▁▁▁▁</td></tr></table><br/></div><div class=\"wandb-col\"><h3>Run summary:</h3><br/><table class=\"wandb\"><tr><td>best_val_accuracy</td><td>0.33274</td></tr><tr><td>best_val_loss</td><td>1.16535</td></tr><tr><td>epoch</td><td>18</td></tr><tr><td>train_loss</td><td>0.45121</td></tr><tr><td>val_accuracy</td><td>0.33044</td></tr><tr><td>val_loss</td><td>1.18508</td></tr></table><br/></div></div>"
      ],
      "text/plain": [
       "<IPython.core.display.HTML object>"
      ]
     },
     "metadata": {},
     "output_type": "display_data"
    },
    {
     "data": {
      "text/html": [
       " View run <strong style=\"color:#cdcd00\">ctgru-tfr0.5-lr0.0008661112401271926-es128-hs128-nl1-d0.3-bs64</strong> at: <a href='https://wandb.ai/ch21b021-indian-institute-of-technology-madras/DA6401-Assignment-3/runs/b0pab09l' target=\"_blank\">https://wandb.ai/ch21b021-indian-institute-of-technology-madras/DA6401-Assignment-3/runs/b0pab09l</a><br> View project at: <a href='https://wandb.ai/ch21b021-indian-institute-of-technology-madras/DA6401-Assignment-3' target=\"_blank\">https://wandb.ai/ch21b021-indian-institute-of-technology-madras/DA6401-Assignment-3</a><br>Synced 5 W&B file(s), 0 media file(s), 0 artifact file(s) and 0 other file(s)"
      ],
      "text/plain": [
       "<IPython.core.display.HTML object>"
      ]
     },
     "metadata": {},
     "output_type": "display_data"
    },
    {
     "data": {
      "text/html": [
       "Find logs at: <code>.\\wandb\\run-20250521_160219-b0pab09l\\logs</code>"
      ],
      "text/plain": [
       "<IPython.core.display.HTML object>"
      ]
     },
     "metadata": {},
     "output_type": "display_data"
    },
    {
     "name": "stderr",
     "output_type": "stream",
     "text": [
      "\u001b[34m\u001b[1mwandb\u001b[0m: Agent Starting Run: wgyh9292 with config:\n",
      "\u001b[34m\u001b[1mwandb\u001b[0m: \tbatch_size: 32\n",
      "\u001b[34m\u001b[1mwandb\u001b[0m: \tcell_type: rnn\n",
      "\u001b[34m\u001b[1mwandb\u001b[0m: \tclip: 1\n",
      "\u001b[34m\u001b[1mwandb\u001b[0m: \tdropout: 0.3\n",
      "\u001b[34m\u001b[1mwandb\u001b[0m: \tembedding_size: 128\n",
      "\u001b[34m\u001b[1mwandb\u001b[0m: \tepochs: 20\n",
      "\u001b[34m\u001b[1mwandb\u001b[0m: \thidden_size: 256\n",
      "\u001b[34m\u001b[1mwandb\u001b[0m: \tlearning_rate: 0.003188725147185221\n",
      "\u001b[34m\u001b[1mwandb\u001b[0m: \tnum_layers: 2\n",
      "\u001b[34m\u001b[1mwandb\u001b[0m: \tpatience: 5\n",
      "\u001b[34m\u001b[1mwandb\u001b[0m: \tseed: 42\n",
      "\u001b[34m\u001b[1mwandb\u001b[0m: \tteacher_forcing_ratio: 0.5\n",
      "d:\\Anaconda\\Lib\\site-packages\\pydantic\\main.py:308: UserWarning: Pydantic serializer warnings:\n",
      "  Expected `list[str]` but got `tuple` - serialized value may not be as expected\n",
      "  Expected `list[str]` but got `tuple` - serialized value may not be as expected\n",
      "  return self.__pydantic_serializer__.to_python(\n"
     ]
    },
    {
     "data": {
      "text/html": [
       "Tracking run with wandb version 0.19.11"
      ],
      "text/plain": [
       "<IPython.core.display.HTML object>"
      ]
     },
     "metadata": {},
     "output_type": "display_data"
    },
    {
     "data": {
      "text/html": [
       "Run data is saved locally in <code>d:\\Ayaan\\IITM\\Courses\\Sem 8\\DA6401\\DA6401-Assignment-3\\wandb\\run-20250521_162226-wgyh9292</code>"
      ],
      "text/plain": [
       "<IPython.core.display.HTML object>"
      ]
     },
     "metadata": {},
     "output_type": "display_data"
    },
    {
     "data": {
      "text/html": [
       "Syncing run <strong><a href='https://wandb.ai/ch21b021-indian-institute-of-technology-madras/DA6401-Assignment-3/runs/wgyh9292' target=\"_blank\">blooming-sweep-2</a></strong> to <a href='https://wandb.ai/ch21b021-indian-institute-of-technology-madras/DA6401-Assignment-3' target=\"_blank\">Weights & Biases</a> (<a href='https://wandb.me/developer-guide' target=\"_blank\">docs</a>)<br>Sweep page: <a href='https://wandb.ai/ch21b021-indian-institute-of-technology-madras/DA6401-Assignment-3/sweeps/goazo3li' target=\"_blank\">https://wandb.ai/ch21b021-indian-institute-of-technology-madras/DA6401-Assignment-3/sweeps/goazo3li</a>"
      ],
      "text/plain": [
       "<IPython.core.display.HTML object>"
      ]
     },
     "metadata": {},
     "output_type": "display_data"
    },
    {
     "data": {
      "text/html": [
       " View project at <a href='https://wandb.ai/ch21b021-indian-institute-of-technology-madras/DA6401-Assignment-3' target=\"_blank\">https://wandb.ai/ch21b021-indian-institute-of-technology-madras/DA6401-Assignment-3</a>"
      ],
      "text/plain": [
       "<IPython.core.display.HTML object>"
      ]
     },
     "metadata": {},
     "output_type": "display_data"
    },
    {
     "data": {
      "text/html": [
       " View sweep at <a href='https://wandb.ai/ch21b021-indian-institute-of-technology-madras/DA6401-Assignment-3/sweeps/goazo3li' target=\"_blank\">https://wandb.ai/ch21b021-indian-institute-of-technology-madras/DA6401-Assignment-3/sweeps/goazo3li</a>"
      ],
      "text/plain": [
       "<IPython.core.display.HTML object>"
      ]
     },
     "metadata": {},
     "output_type": "display_data"
    },
    {
     "data": {
      "text/html": [
       " View run at <a href='https://wandb.ai/ch21b021-indian-institute-of-technology-madras/DA6401-Assignment-3/runs/wgyh9292' target=\"_blank\">https://wandb.ai/ch21b021-indian-institute-of-technology-madras/DA6401-Assignment-3/runs/wgyh9292</a>"
      ],
      "text/plain": [
       "<IPython.core.display.HTML object>"
      ]
     },
     "metadata": {},
     "output_type": "display_data"
    },
    {
     "name": "stdout",
     "output_type": "stream",
     "text": [
      "Using device: cuda\n"
     ]
    },
    {
     "name": "stderr",
     "output_type": "stream",
     "text": [
      "Epoch 8/20:  35%|███▌      | 7/20 [14:16<26:31, 122.43s/it, train_loss=2.7110, val_acc=0.0000, val_loss=3.2826]"
     ]
    },
    {
     "name": "stdout",
     "output_type": "stream",
     "text": [
      "Early stopping after 8 epochs!\n",
      "\tBest model saved with val acc 0.000 at model_wgyh9292.pth\n"
     ]
    },
    {
     "name": "stderr",
     "output_type": "stream",
     "text": [
      "\n"
     ]
    },
    {
     "data": {
      "text/html": [],
      "text/plain": [
       "<IPython.core.display.HTML object>"
      ]
     },
     "metadata": {},
     "output_type": "display_data"
    },
    {
     "data": {
      "text/html": [
       "<br>    <style><br>        .wandb-row {<br>            display: flex;<br>            flex-direction: row;<br>            flex-wrap: wrap;<br>            justify-content: flex-start;<br>            width: 100%;<br>        }<br>        .wandb-col {<br>            display: flex;<br>            flex-direction: column;<br>            flex-basis: 100%;<br>            flex: 1;<br>            padding: 10px;<br>        }<br>    </style><br><div class=\"wandb-row\"><div class=\"wandb-col\"><h3>Run history:</h3><br/><table class=\"wandb\"><tr><td>best_val_accuracy</td><td>▁</td></tr><tr><td>best_val_loss</td><td>▁</td></tr><tr><td>epoch</td><td>▁▂▃▄▅▆▇█</td></tr><tr><td>train_loss</td><td>█▂▂▁▂▂▃▂</td></tr><tr><td>val_accuracy</td><td>▁▅▁▁█▁▁▁</td></tr><tr><td>val_loss</td><td>▅▂▁▆▂█▆▃</td></tr></table><br/></div><div class=\"wandb-col\"><h3>Run summary:</h3><br/><table class=\"wandb\"><tr><td>best_val_accuracy</td><td>0</td></tr><tr><td>best_val_loss</td><td>3.24454</td></tr><tr><td>epoch</td><td>8</td></tr><tr><td>train_loss</td><td>2.71098</td></tr><tr><td>val_accuracy</td><td>0</td></tr><tr><td>val_loss</td><td>3.2826</td></tr></table><br/></div></div>"
      ],
      "text/plain": [
       "<IPython.core.display.HTML object>"
      ]
     },
     "metadata": {},
     "output_type": "display_data"
    },
    {
     "data": {
      "text/html": [
       " View run <strong style=\"color:#cdcd00\">ctrnn-tfr0.5-lr0.003188725147185221-es128-hs256-nl2-d0.3-bs32</strong> at: <a href='https://wandb.ai/ch21b021-indian-institute-of-technology-madras/DA6401-Assignment-3/runs/wgyh9292' target=\"_blank\">https://wandb.ai/ch21b021-indian-institute-of-technology-madras/DA6401-Assignment-3/runs/wgyh9292</a><br> View project at: <a href='https://wandb.ai/ch21b021-indian-institute-of-technology-madras/DA6401-Assignment-3' target=\"_blank\">https://wandb.ai/ch21b021-indian-institute-of-technology-madras/DA6401-Assignment-3</a><br>Synced 5 W&B file(s), 0 media file(s), 0 artifact file(s) and 0 other file(s)"
      ],
      "text/plain": [
       "<IPython.core.display.HTML object>"
      ]
     },
     "metadata": {},
     "output_type": "display_data"
    },
    {
     "data": {
      "text/html": [
       "Find logs at: <code>.\\wandb\\run-20250521_162226-wgyh9292\\logs</code>"
      ],
      "text/plain": [
       "<IPython.core.display.HTML object>"
      ]
     },
     "metadata": {},
     "output_type": "display_data"
    },
    {
     "name": "stderr",
     "output_type": "stream",
     "text": [
      "\u001b[34m\u001b[1mwandb\u001b[0m: Agent Starting Run: varrx6m4 with config:\n",
      "\u001b[34m\u001b[1mwandb\u001b[0m: \tbatch_size: 32\n",
      "\u001b[34m\u001b[1mwandb\u001b[0m: \tcell_type: lstm\n",
      "\u001b[34m\u001b[1mwandb\u001b[0m: \tclip: 1\n",
      "\u001b[34m\u001b[1mwandb\u001b[0m: \tdropout: 0.3\n",
      "\u001b[34m\u001b[1mwandb\u001b[0m: \tembedding_size: 256\n",
      "\u001b[34m\u001b[1mwandb\u001b[0m: \tepochs: 20\n",
      "\u001b[34m\u001b[1mwandb\u001b[0m: \thidden_size: 128\n",
      "\u001b[34m\u001b[1mwandb\u001b[0m: \tlearning_rate: 0.00835685822013963\n",
      "\u001b[34m\u001b[1mwandb\u001b[0m: \tnum_layers: 1\n",
      "\u001b[34m\u001b[1mwandb\u001b[0m: \tpatience: 5\n",
      "\u001b[34m\u001b[1mwandb\u001b[0m: \tseed: 42\n",
      "\u001b[34m\u001b[1mwandb\u001b[0m: \tteacher_forcing_ratio: 0.5\n",
      "d:\\Anaconda\\Lib\\site-packages\\pydantic\\main.py:308: UserWarning: Pydantic serializer warnings:\n",
      "  Expected `list[str]` but got `tuple` - serialized value may not be as expected\n",
      "  Expected `list[str]` but got `tuple` - serialized value may not be as expected\n",
      "  return self.__pydantic_serializer__.to_python(\n"
     ]
    },
    {
     "data": {
      "text/html": [
       "Tracking run with wandb version 0.19.11"
      ],
      "text/plain": [
       "<IPython.core.display.HTML object>"
      ]
     },
     "metadata": {},
     "output_type": "display_data"
    },
    {
     "data": {
      "text/html": [
       "Run data is saved locally in <code>d:\\Ayaan\\IITM\\Courses\\Sem 8\\DA6401\\DA6401-Assignment-3\\wandb\\run-20250521_163653-varrx6m4</code>"
      ],
      "text/plain": [
       "<IPython.core.display.HTML object>"
      ]
     },
     "metadata": {},
     "output_type": "display_data"
    },
    {
     "data": {
      "text/html": [
       "Syncing run <strong><a href='https://wandb.ai/ch21b021-indian-institute-of-technology-madras/DA6401-Assignment-3/runs/varrx6m4' target=\"_blank\">icy-sweep-3</a></strong> to <a href='https://wandb.ai/ch21b021-indian-institute-of-technology-madras/DA6401-Assignment-3' target=\"_blank\">Weights & Biases</a> (<a href='https://wandb.me/developer-guide' target=\"_blank\">docs</a>)<br>Sweep page: <a href='https://wandb.ai/ch21b021-indian-institute-of-technology-madras/DA6401-Assignment-3/sweeps/goazo3li' target=\"_blank\">https://wandb.ai/ch21b021-indian-institute-of-technology-madras/DA6401-Assignment-3/sweeps/goazo3li</a>"
      ],
      "text/plain": [
       "<IPython.core.display.HTML object>"
      ]
     },
     "metadata": {},
     "output_type": "display_data"
    },
    {
     "data": {
      "text/html": [
       " View project at <a href='https://wandb.ai/ch21b021-indian-institute-of-technology-madras/DA6401-Assignment-3' target=\"_blank\">https://wandb.ai/ch21b021-indian-institute-of-technology-madras/DA6401-Assignment-3</a>"
      ],
      "text/plain": [
       "<IPython.core.display.HTML object>"
      ]
     },
     "metadata": {},
     "output_type": "display_data"
    },
    {
     "data": {
      "text/html": [
       " View sweep at <a href='https://wandb.ai/ch21b021-indian-institute-of-technology-madras/DA6401-Assignment-3/sweeps/goazo3li' target=\"_blank\">https://wandb.ai/ch21b021-indian-institute-of-technology-madras/DA6401-Assignment-3/sweeps/goazo3li</a>"
      ],
      "text/plain": [
       "<IPython.core.display.HTML object>"
      ]
     },
     "metadata": {},
     "output_type": "display_data"
    },
    {
     "data": {
      "text/html": [
       " View run at <a href='https://wandb.ai/ch21b021-indian-institute-of-technology-madras/DA6401-Assignment-3/runs/varrx6m4' target=\"_blank\">https://wandb.ai/ch21b021-indian-institute-of-technology-madras/DA6401-Assignment-3/runs/varrx6m4</a>"
      ],
      "text/plain": [
       "<IPython.core.display.HTML object>"
      ]
     },
     "metadata": {},
     "output_type": "display_data"
    },
    {
     "name": "stdout",
     "output_type": "stream",
     "text": [
      "Using device: cuda\n"
     ]
    },
    {
     "name": "stderr",
     "output_type": "stream",
     "text": [
      "Epoch 13/20:  60%|██████    | 12/20 [21:59<14:39, 109.96s/it, train_loss=1.1815, val_acc=0.1083, val_loss=1.8149]"
     ]
    },
    {
     "name": "stdout",
     "output_type": "stream",
     "text": [
      "Early stopping after 13 epochs!\n",
      "\tBest model saved with val acc 0.105 at model_varrx6m4.pth\n"
     ]
    },
    {
     "name": "stderr",
     "output_type": "stream",
     "text": [
      "\n"
     ]
    },
    {
     "data": {
      "text/html": [],
      "text/plain": [
       "<IPython.core.display.HTML object>"
      ]
     },
     "metadata": {},
     "output_type": "display_data"
    },
    {
     "data": {
      "text/html": [
       "<br>    <style><br>        .wandb-row {<br>            display: flex;<br>            flex-direction: row;<br>            flex-wrap: wrap;<br>            justify-content: flex-start;<br>            width: 100%;<br>        }<br>        .wandb-col {<br>            display: flex;<br>            flex-direction: column;<br>            flex-basis: 100%;<br>            flex: 1;<br>            padding: 10px;<br>        }<br>    </style><br><div class=\"wandb-row\"><div class=\"wandb-col\"><h3>Run history:</h3><br/><table class=\"wandb\"><tr><td>best_val_accuracy</td><td>▁</td></tr><tr><td>best_val_loss</td><td>▁</td></tr><tr><td>epoch</td><td>▁▂▂▃▃▄▅▅▆▆▇▇█</td></tr><tr><td>train_loss</td><td>█▄▃▂▂▂▁▁▁▁▁▁▁</td></tr><tr><td>val_accuracy</td><td>▁▃▄▅▆▆▆▇█▇███</td></tr><tr><td>val_loss</td><td>█▆▄▄▃▄▃▂▂▂▃▁▁</td></tr></table><br/></div><div class=\"wandb-col\"><h3>Run summary:</h3><br/><table class=\"wandb\"><tr><td>best_val_accuracy</td><td>0.10512</td></tr><tr><td>best_val_loss</td><td>1.80664</td></tr><tr><td>epoch</td><td>13</td></tr><tr><td>train_loss</td><td>1.18148</td></tr><tr><td>val_accuracy</td><td>0.10831</td></tr><tr><td>val_loss</td><td>1.81489</td></tr></table><br/></div></div>"
      ],
      "text/plain": [
       "<IPython.core.display.HTML object>"
      ]
     },
     "metadata": {},
     "output_type": "display_data"
    },
    {
     "data": {
      "text/html": [
       " View run <strong style=\"color:#cdcd00\">ctlstm-tfr0.5-lr0.00835685822013963-es256-hs128-nl1-d0.3-bs32</strong> at: <a href='https://wandb.ai/ch21b021-indian-institute-of-technology-madras/DA6401-Assignment-3/runs/varrx6m4' target=\"_blank\">https://wandb.ai/ch21b021-indian-institute-of-technology-madras/DA6401-Assignment-3/runs/varrx6m4</a><br> View project at: <a href='https://wandb.ai/ch21b021-indian-institute-of-technology-madras/DA6401-Assignment-3' target=\"_blank\">https://wandb.ai/ch21b021-indian-institute-of-technology-madras/DA6401-Assignment-3</a><br>Synced 5 W&B file(s), 0 media file(s), 0 artifact file(s) and 0 other file(s)"
      ],
      "text/plain": [
       "<IPython.core.display.HTML object>"
      ]
     },
     "metadata": {},
     "output_type": "display_data"
    },
    {
     "data": {
      "text/html": [
       "Find logs at: <code>.\\wandb\\run-20250521_163653-varrx6m4\\logs</code>"
      ],
      "text/plain": [
       "<IPython.core.display.HTML object>"
      ]
     },
     "metadata": {},
     "output_type": "display_data"
    },
    {
     "name": "stderr",
     "output_type": "stream",
     "text": [
      "\u001b[34m\u001b[1mwandb\u001b[0m: Sweep Agent: Waiting for job.\n",
      "\u001b[34m\u001b[1mwandb\u001b[0m: Job received.\n",
      "\u001b[34m\u001b[1mwandb\u001b[0m: Agent Starting Run: 8v4ef2js with config:\n",
      "\u001b[34m\u001b[1mwandb\u001b[0m: \tbatch_size: 32\n",
      "\u001b[34m\u001b[1mwandb\u001b[0m: \tcell_type: rnn\n",
      "\u001b[34m\u001b[1mwandb\u001b[0m: \tclip: 1\n",
      "\u001b[34m\u001b[1mwandb\u001b[0m: \tdropout: 0.1\n",
      "\u001b[34m\u001b[1mwandb\u001b[0m: \tembedding_size: 64\n",
      "\u001b[34m\u001b[1mwandb\u001b[0m: \tepochs: 20\n",
      "\u001b[34m\u001b[1mwandb\u001b[0m: \thidden_size: 256\n",
      "\u001b[34m\u001b[1mwandb\u001b[0m: \tlearning_rate: 0.005755694128839243\n",
      "\u001b[34m\u001b[1mwandb\u001b[0m: \tnum_layers: 1\n",
      "\u001b[34m\u001b[1mwandb\u001b[0m: \tpatience: 5\n",
      "\u001b[34m\u001b[1mwandb\u001b[0m: \tseed: 42\n",
      "\u001b[34m\u001b[1mwandb\u001b[0m: \tteacher_forcing_ratio: 0.7\n",
      "d:\\Anaconda\\Lib\\site-packages\\pydantic\\main.py:308: UserWarning: Pydantic serializer warnings:\n",
      "  Expected `list[str]` but got `tuple` - serialized value may not be as expected\n",
      "  Expected `list[str]` but got `tuple` - serialized value may not be as expected\n",
      "  return self.__pydantic_serializer__.to_python(\n"
     ]
    },
    {
     "data": {
      "text/html": [
       "Tracking run with wandb version 0.19.11"
      ],
      "text/plain": [
       "<IPython.core.display.HTML object>"
      ]
     },
     "metadata": {},
     "output_type": "display_data"
    },
    {
     "data": {
      "text/html": [
       "Run data is saved locally in <code>d:\\Ayaan\\IITM\\Courses\\Sem 8\\DA6401\\DA6401-Assignment-3\\wandb\\run-20250521_165909-8v4ef2js</code>"
      ],
      "text/plain": [
       "<IPython.core.display.HTML object>"
      ]
     },
     "metadata": {},
     "output_type": "display_data"
    },
    {
     "data": {
      "text/html": [
       "Syncing run <strong><a href='https://wandb.ai/ch21b021-indian-institute-of-technology-madras/DA6401-Assignment-3/runs/8v4ef2js' target=\"_blank\">comfy-sweep-4</a></strong> to <a href='https://wandb.ai/ch21b021-indian-institute-of-technology-madras/DA6401-Assignment-3' target=\"_blank\">Weights & Biases</a> (<a href='https://wandb.me/developer-guide' target=\"_blank\">docs</a>)<br>Sweep page: <a href='https://wandb.ai/ch21b021-indian-institute-of-technology-madras/DA6401-Assignment-3/sweeps/goazo3li' target=\"_blank\">https://wandb.ai/ch21b021-indian-institute-of-technology-madras/DA6401-Assignment-3/sweeps/goazo3li</a>"
      ],
      "text/plain": [
       "<IPython.core.display.HTML object>"
      ]
     },
     "metadata": {},
     "output_type": "display_data"
    },
    {
     "data": {
      "text/html": [
       " View project at <a href='https://wandb.ai/ch21b021-indian-institute-of-technology-madras/DA6401-Assignment-3' target=\"_blank\">https://wandb.ai/ch21b021-indian-institute-of-technology-madras/DA6401-Assignment-3</a>"
      ],
      "text/plain": [
       "<IPython.core.display.HTML object>"
      ]
     },
     "metadata": {},
     "output_type": "display_data"
    },
    {
     "data": {
      "text/html": [
       " View sweep at <a href='https://wandb.ai/ch21b021-indian-institute-of-technology-madras/DA6401-Assignment-3/sweeps/goazo3li' target=\"_blank\">https://wandb.ai/ch21b021-indian-institute-of-technology-madras/DA6401-Assignment-3/sweeps/goazo3li</a>"
      ],
      "text/plain": [
       "<IPython.core.display.HTML object>"
      ]
     },
     "metadata": {},
     "output_type": "display_data"
    },
    {
     "data": {
      "text/html": [
       " View run at <a href='https://wandb.ai/ch21b021-indian-institute-of-technology-madras/DA6401-Assignment-3/runs/8v4ef2js' target=\"_blank\">https://wandb.ai/ch21b021-indian-institute-of-technology-madras/DA6401-Assignment-3/runs/8v4ef2js</a>"
      ],
      "text/plain": [
       "<IPython.core.display.HTML object>"
      ]
     },
     "metadata": {},
     "output_type": "display_data"
    },
    {
     "name": "stdout",
     "output_type": "stream",
     "text": [
      "Using device: cuda\n"
     ]
    },
    {
     "name": "stderr",
     "output_type": "stream",
     "text": [
      "Epoch 10/20:  45%|████▌     | 9/20 [17:18<21:09, 115.39s/it, train_loss=2.6513, val_acc=0.0000, val_loss=3.8258]"
     ]
    },
    {
     "name": "stdout",
     "output_type": "stream",
     "text": [
      "Early stopping after 10 epochs!\n",
      "\tBest model saved with val acc 0.000 at model_8v4ef2js.pth\n"
     ]
    },
    {
     "name": "stderr",
     "output_type": "stream",
     "text": [
      "\n"
     ]
    },
    {
     "data": {
      "text/html": [],
      "text/plain": [
       "<IPython.core.display.HTML object>"
      ]
     },
     "metadata": {},
     "output_type": "display_data"
    },
    {
     "data": {
      "text/html": [
       "<br>    <style><br>        .wandb-row {<br>            display: flex;<br>            flex-direction: row;<br>            flex-wrap: wrap;<br>            justify-content: flex-start;<br>            width: 100%;<br>        }<br>        .wandb-col {<br>            display: flex;<br>            flex-direction: column;<br>            flex-basis: 100%;<br>            flex: 1;<br>            padding: 10px;<br>        }<br>    </style><br><div class=\"wandb-row\"><div class=\"wandb-col\"><h3>Run history:</h3><br/><table class=\"wandb\"><tr><td>best_val_accuracy</td><td>▁</td></tr><tr><td>best_val_loss</td><td>▁</td></tr><tr><td>epoch</td><td>▁▂▃▃▄▅▆▆▇█</td></tr><tr><td>train_loss</td><td>▅▁▂▄█▇▇▇██</td></tr><tr><td>val_accuracy</td><td>▁▁█▁▁▁▁▁▁▁</td></tr><tr><td>val_loss</td><td>▃▅▃▂█▃▃▁▁▄</td></tr></table><br/></div><div class=\"wandb-col\"><h3>Run summary:</h3><br/><table class=\"wandb\"><tr><td>best_val_accuracy</td><td>0</td></tr><tr><td>best_val_loss</td><td>3.71182</td></tr><tr><td>epoch</td><td>10</td></tr><tr><td>train_loss</td><td>2.65127</td></tr><tr><td>val_accuracy</td><td>0</td></tr><tr><td>val_loss</td><td>3.82575</td></tr></table><br/></div></div>"
      ],
      "text/plain": [
       "<IPython.core.display.HTML object>"
      ]
     },
     "metadata": {},
     "output_type": "display_data"
    },
    {
     "data": {
      "text/html": [
       " View run <strong style=\"color:#cdcd00\">ctrnn-tfr0.7-lr0.005755694128839243-es64-hs256-nl1-d0.1-bs32</strong> at: <a href='https://wandb.ai/ch21b021-indian-institute-of-technology-madras/DA6401-Assignment-3/runs/8v4ef2js' target=\"_blank\">https://wandb.ai/ch21b021-indian-institute-of-technology-madras/DA6401-Assignment-3/runs/8v4ef2js</a><br> View project at: <a href='https://wandb.ai/ch21b021-indian-institute-of-technology-madras/DA6401-Assignment-3' target=\"_blank\">https://wandb.ai/ch21b021-indian-institute-of-technology-madras/DA6401-Assignment-3</a><br>Synced 5 W&B file(s), 0 media file(s), 0 artifact file(s) and 0 other file(s)"
      ],
      "text/plain": [
       "<IPython.core.display.HTML object>"
      ]
     },
     "metadata": {},
     "output_type": "display_data"
    },
    {
     "data": {
      "text/html": [
       "Find logs at: <code>.\\wandb\\run-20250521_165909-8v4ef2js\\logs</code>"
      ],
      "text/plain": [
       "<IPython.core.display.HTML object>"
      ]
     },
     "metadata": {},
     "output_type": "display_data"
    },
    {
     "name": "stderr",
     "output_type": "stream",
     "text": [
      "\u001b[34m\u001b[1mwandb\u001b[0m: Agent Starting Run: d6tbsrff with config:\n",
      "\u001b[34m\u001b[1mwandb\u001b[0m: \tbatch_size: 64\n",
      "\u001b[34m\u001b[1mwandb\u001b[0m: \tcell_type: gru\n",
      "\u001b[34m\u001b[1mwandb\u001b[0m: \tclip: 1\n",
      "\u001b[34m\u001b[1mwandb\u001b[0m: \tdropout: 0.3\n",
      "\u001b[34m\u001b[1mwandb\u001b[0m: \tembedding_size: 256\n",
      "\u001b[34m\u001b[1mwandb\u001b[0m: \tepochs: 20\n",
      "\u001b[34m\u001b[1mwandb\u001b[0m: \thidden_size: 128\n",
      "\u001b[34m\u001b[1mwandb\u001b[0m: \tlearning_rate: 0.0010425257331770335\n",
      "\u001b[34m\u001b[1mwandb\u001b[0m: \tnum_layers: 1\n",
      "\u001b[34m\u001b[1mwandb\u001b[0m: \tpatience: 5\n",
      "\u001b[34m\u001b[1mwandb\u001b[0m: \tseed: 42\n",
      "\u001b[34m\u001b[1mwandb\u001b[0m: \tteacher_forcing_ratio: 0.5\n",
      "d:\\Anaconda\\Lib\\site-packages\\pydantic\\main.py:308: UserWarning: Pydantic serializer warnings:\n",
      "  Expected `list[str]` but got `tuple` - serialized value may not be as expected\n",
      "  Expected `list[str]` but got `tuple` - serialized value may not be as expected\n",
      "  return self.__pydantic_serializer__.to_python(\n"
     ]
    },
    {
     "data": {
      "text/html": [
       "creating run (0.4s)"
      ],
      "text/plain": [
       "<IPython.core.display.HTML object>"
      ]
     },
     "metadata": {},
     "output_type": "display_data"
    },
    {
     "data": {
      "text/html": [
       "Tracking run with wandb version 0.19.11"
      ],
      "text/plain": [
       "<IPython.core.display.HTML object>"
      ]
     },
     "metadata": {},
     "output_type": "display_data"
    },
    {
     "data": {
      "text/html": [
       "Run data is saved locally in <code>d:\\Ayaan\\IITM\\Courses\\Sem 8\\DA6401\\DA6401-Assignment-3\\wandb\\run-20250521_171639-d6tbsrff</code>"
      ],
      "text/plain": [
       "<IPython.core.display.HTML object>"
      ]
     },
     "metadata": {},
     "output_type": "display_data"
    },
    {
     "data": {
      "text/html": [
       "Syncing run <strong><a href='https://wandb.ai/ch21b021-indian-institute-of-technology-madras/DA6401-Assignment-3/runs/d6tbsrff' target=\"_blank\">sleek-sweep-5</a></strong> to <a href='https://wandb.ai/ch21b021-indian-institute-of-technology-madras/DA6401-Assignment-3' target=\"_blank\">Weights & Biases</a> (<a href='https://wandb.me/developer-guide' target=\"_blank\">docs</a>)<br>Sweep page: <a href='https://wandb.ai/ch21b021-indian-institute-of-technology-madras/DA6401-Assignment-3/sweeps/goazo3li' target=\"_blank\">https://wandb.ai/ch21b021-indian-institute-of-technology-madras/DA6401-Assignment-3/sweeps/goazo3li</a>"
      ],
      "text/plain": [
       "<IPython.core.display.HTML object>"
      ]
     },
     "metadata": {},
     "output_type": "display_data"
    },
    {
     "data": {
      "text/html": [
       " View project at <a href='https://wandb.ai/ch21b021-indian-institute-of-technology-madras/DA6401-Assignment-3' target=\"_blank\">https://wandb.ai/ch21b021-indian-institute-of-technology-madras/DA6401-Assignment-3</a>"
      ],
      "text/plain": [
       "<IPython.core.display.HTML object>"
      ]
     },
     "metadata": {},
     "output_type": "display_data"
    },
    {
     "data": {
      "text/html": [
       " View sweep at <a href='https://wandb.ai/ch21b021-indian-institute-of-technology-madras/DA6401-Assignment-3/sweeps/goazo3li' target=\"_blank\">https://wandb.ai/ch21b021-indian-institute-of-technology-madras/DA6401-Assignment-3/sweeps/goazo3li</a>"
      ],
      "text/plain": [
       "<IPython.core.display.HTML object>"
      ]
     },
     "metadata": {},
     "output_type": "display_data"
    },
    {
     "data": {
      "text/html": [
       " View run at <a href='https://wandb.ai/ch21b021-indian-institute-of-technology-madras/DA6401-Assignment-3/runs/d6tbsrff' target=\"_blank\">https://wandb.ai/ch21b021-indian-institute-of-technology-madras/DA6401-Assignment-3/runs/d6tbsrff</a>"
      ],
      "text/plain": [
       "<IPython.core.display.HTML object>"
      ]
     },
     "metadata": {},
     "output_type": "display_data"
    },
    {
     "name": "stdout",
     "output_type": "stream",
     "text": [
      "Using device: cuda\n"
     ]
    },
    {
     "name": "stderr",
     "output_type": "stream",
     "text": [
      "Epoch 17/20:  80%|████████  | 16/20 [18:47<04:41, 70.44s/it, train_loss=0.4846, val_acc=0.3007, val_loss=1.2601]"
     ]
    },
    {
     "name": "stdout",
     "output_type": "stream",
     "text": [
      "Early stopping after 17 epochs!\n",
      "\tBest model saved with val acc 0.311 at model_d6tbsrff.pth\n"
     ]
    },
    {
     "name": "stderr",
     "output_type": "stream",
     "text": [
      "\n"
     ]
    },
    {
     "data": {
      "text/html": [],
      "text/plain": [
       "<IPython.core.display.HTML object>"
      ]
     },
     "metadata": {},
     "output_type": "display_data"
    },
    {
     "data": {
      "text/html": [
       "<br>    <style><br>        .wandb-row {<br>            display: flex;<br>            flex-direction: row;<br>            flex-wrap: wrap;<br>            justify-content: flex-start;<br>            width: 100%;<br>        }<br>        .wandb-col {<br>            display: flex;<br>            flex-direction: column;<br>            flex-basis: 100%;<br>            flex: 1;<br>            padding: 10px;<br>        }<br>    </style><br><div class=\"wandb-row\"><div class=\"wandb-col\"><h3>Run history:</h3><br/><table class=\"wandb\"><tr><td>best_val_accuracy</td><td>▁</td></tr><tr><td>best_val_loss</td><td>▁</td></tr><tr><td>epoch</td><td>▁▁▂▂▃▃▄▄▅▅▅▆▆▇▇██</td></tr><tr><td>train_loss</td><td>█▄▃▃▂▂▂▂▂▂▁▁▁▁▁▁▁</td></tr><tr><td>val_accuracy</td><td>▁▃▄▅▆▆▆▇▇▇▇▇█████</td></tr><tr><td>val_loss</td><td>█▅▄▃▃▂▂▂▂▂▂▁▁▁▁▁▁</td></tr></table><br/></div><div class=\"wandb-col\"><h3>Run summary:</h3><br/><table class=\"wandb\"><tr><td>best_val_accuracy</td><td>0.31094</td></tr><tr><td>best_val_loss</td><td>1.2098</td></tr><tr><td>epoch</td><td>17</td></tr><tr><td>train_loss</td><td>0.48459</td></tr><tr><td>val_accuracy</td><td>0.30066</td></tr><tr><td>val_loss</td><td>1.26008</td></tr></table><br/></div></div>"
      ],
      "text/plain": [
       "<IPython.core.display.HTML object>"
      ]
     },
     "metadata": {},
     "output_type": "display_data"
    },
    {
     "data": {
      "text/html": [
       " View run <strong style=\"color:#cdcd00\">ctgru-tfr0.5-lr0.0010425257331770335-es256-hs128-nl1-d0.3-bs64</strong> at: <a href='https://wandb.ai/ch21b021-indian-institute-of-technology-madras/DA6401-Assignment-3/runs/d6tbsrff' target=\"_blank\">https://wandb.ai/ch21b021-indian-institute-of-technology-madras/DA6401-Assignment-3/runs/d6tbsrff</a><br> View project at: <a href='https://wandb.ai/ch21b021-indian-institute-of-technology-madras/DA6401-Assignment-3' target=\"_blank\">https://wandb.ai/ch21b021-indian-institute-of-technology-madras/DA6401-Assignment-3</a><br>Synced 5 W&B file(s), 0 media file(s), 0 artifact file(s) and 0 other file(s)"
      ],
      "text/plain": [
       "<IPython.core.display.HTML object>"
      ]
     },
     "metadata": {},
     "output_type": "display_data"
    },
    {
     "data": {
      "text/html": [
       "Find logs at: <code>.\\wandb\\run-20250521_171639-d6tbsrff\\logs</code>"
      ],
      "text/plain": [
       "<IPython.core.display.HTML object>"
      ]
     },
     "metadata": {},
     "output_type": "display_data"
    },
    {
     "name": "stderr",
     "output_type": "stream",
     "text": [
      "\u001b[34m\u001b[1mwandb\u001b[0m: Agent Starting Run: yov77fbe with config:\n",
      "\u001b[34m\u001b[1mwandb\u001b[0m: \tbatch_size: 64\n",
      "\u001b[34m\u001b[1mwandb\u001b[0m: \tcell_type: gru\n",
      "\u001b[34m\u001b[1mwandb\u001b[0m: \tclip: 1\n",
      "\u001b[34m\u001b[1mwandb\u001b[0m: \tdropout: 0.3\n",
      "\u001b[34m\u001b[1mwandb\u001b[0m: \tembedding_size: 128\n",
      "\u001b[34m\u001b[1mwandb\u001b[0m: \tepochs: 20\n",
      "\u001b[34m\u001b[1mwandb\u001b[0m: \thidden_size: 128\n",
      "\u001b[34m\u001b[1mwandb\u001b[0m: \tlearning_rate: 0.0040373669365282175\n",
      "\u001b[34m\u001b[1mwandb\u001b[0m: \tnum_layers: 1\n",
      "\u001b[34m\u001b[1mwandb\u001b[0m: \tpatience: 5\n",
      "\u001b[34m\u001b[1mwandb\u001b[0m: \tseed: 42\n",
      "\u001b[34m\u001b[1mwandb\u001b[0m: \tteacher_forcing_ratio: 0.5\n",
      "d:\\Anaconda\\Lib\\site-packages\\pydantic\\main.py:308: UserWarning: Pydantic serializer warnings:\n",
      "  Expected `list[str]` but got `tuple` - serialized value may not be as expected\n",
      "  Expected `list[str]` but got `tuple` - serialized value may not be as expected\n",
      "  return self.__pydantic_serializer__.to_python(\n"
     ]
    },
    {
     "data": {
      "text/html": [
       "Tracking run with wandb version 0.19.11"
      ],
      "text/plain": [
       "<IPython.core.display.HTML object>"
      ]
     },
     "metadata": {},
     "output_type": "display_data"
    },
    {
     "data": {
      "text/html": [
       "Run data is saved locally in <code>d:\\Ayaan\\IITM\\Courses\\Sem 8\\DA6401\\DA6401-Assignment-3\\wandb\\run-20250521_173537-yov77fbe</code>"
      ],
      "text/plain": [
       "<IPython.core.display.HTML object>"
      ]
     },
     "metadata": {},
     "output_type": "display_data"
    },
    {
     "data": {
      "text/html": [
       "Syncing run <strong><a href='https://wandb.ai/ch21b021-indian-institute-of-technology-madras/DA6401-Assignment-3/runs/yov77fbe' target=\"_blank\">wise-sweep-6</a></strong> to <a href='https://wandb.ai/ch21b021-indian-institute-of-technology-madras/DA6401-Assignment-3' target=\"_blank\">Weights & Biases</a> (<a href='https://wandb.me/developer-guide' target=\"_blank\">docs</a>)<br>Sweep page: <a href='https://wandb.ai/ch21b021-indian-institute-of-technology-madras/DA6401-Assignment-3/sweeps/goazo3li' target=\"_blank\">https://wandb.ai/ch21b021-indian-institute-of-technology-madras/DA6401-Assignment-3/sweeps/goazo3li</a>"
      ],
      "text/plain": [
       "<IPython.core.display.HTML object>"
      ]
     },
     "metadata": {},
     "output_type": "display_data"
    },
    {
     "data": {
      "text/html": [
       " View project at <a href='https://wandb.ai/ch21b021-indian-institute-of-technology-madras/DA6401-Assignment-3' target=\"_blank\">https://wandb.ai/ch21b021-indian-institute-of-technology-madras/DA6401-Assignment-3</a>"
      ],
      "text/plain": [
       "<IPython.core.display.HTML object>"
      ]
     },
     "metadata": {},
     "output_type": "display_data"
    },
    {
     "data": {
      "text/html": [
       " View sweep at <a href='https://wandb.ai/ch21b021-indian-institute-of-technology-madras/DA6401-Assignment-3/sweeps/goazo3li' target=\"_blank\">https://wandb.ai/ch21b021-indian-institute-of-technology-madras/DA6401-Assignment-3/sweeps/goazo3li</a>"
      ],
      "text/plain": [
       "<IPython.core.display.HTML object>"
      ]
     },
     "metadata": {},
     "output_type": "display_data"
    },
    {
     "data": {
      "text/html": [
       " View run at <a href='https://wandb.ai/ch21b021-indian-institute-of-technology-madras/DA6401-Assignment-3/runs/yov77fbe' target=\"_blank\">https://wandb.ai/ch21b021-indian-institute-of-technology-madras/DA6401-Assignment-3/runs/yov77fbe</a>"
      ],
      "text/plain": [
       "<IPython.core.display.HTML object>"
      ]
     },
     "metadata": {},
     "output_type": "display_data"
    },
    {
     "name": "stdout",
     "output_type": "stream",
     "text": [
      "Using device: cuda\n"
     ]
    },
    {
     "name": "stderr",
     "output_type": "stream",
     "text": [
      "Epoch 15/20:  70%|███████   | 14/20 [16:19<06:59, 69.98s/it, train_loss=0.5664, val_acc=0.2684, val_loss=1.3208]"
     ]
    },
    {
     "name": "stdout",
     "output_type": "stream",
     "text": [
      "Early stopping after 15 epochs!\n",
      "\tBest model saved with val acc 0.273 at model_yov77fbe.pth\n"
     ]
    },
    {
     "name": "stderr",
     "output_type": "stream",
     "text": [
      "\n"
     ]
    },
    {
     "data": {
      "text/html": [],
      "text/plain": [
       "<IPython.core.display.HTML object>"
      ]
     },
     "metadata": {},
     "output_type": "display_data"
    },
    {
     "data": {
      "text/html": [
       "<br>    <style><br>        .wandb-row {<br>            display: flex;<br>            flex-direction: row;<br>            flex-wrap: wrap;<br>            justify-content: flex-start;<br>            width: 100%;<br>        }<br>        .wandb-col {<br>            display: flex;<br>            flex-direction: column;<br>            flex-basis: 100%;<br>            flex: 1;<br>            padding: 10px;<br>        }<br>    </style><br><div class=\"wandb-row\"><div class=\"wandb-col\"><h3>Run history:</h3><br/><table class=\"wandb\"><tr><td>best_val_accuracy</td><td>▁</td></tr><tr><td>best_val_loss</td><td>▁</td></tr><tr><td>epoch</td><td>▁▁▂▃▃▃▄▅▅▅▆▇▇▇█</td></tr><tr><td>train_loss</td><td>█▄▃▃▂▂▂▂▁▁▁▁▁▁▁</td></tr><tr><td>val_accuracy</td><td>▁▄▅▆▆▇▇▇▇▇▇███▇</td></tr><tr><td>val_loss</td><td>█▅▃▂▃▂▂▂▂▂▁▁▁▁▂</td></tr></table><br/></div><div class=\"wandb-col\"><h3>Run summary:</h3><br/><table class=\"wandb\"><tr><td>best_val_accuracy</td><td>0.273</td></tr><tr><td>best_val_loss</td><td>1.26631</td></tr><tr><td>epoch</td><td>15</td></tr><tr><td>train_loss</td><td>0.56637</td></tr><tr><td>val_accuracy</td><td>0.26839</td></tr><tr><td>val_loss</td><td>1.32082</td></tr></table><br/></div></div>"
      ],
      "text/plain": [
       "<IPython.core.display.HTML object>"
      ]
     },
     "metadata": {},
     "output_type": "display_data"
    },
    {
     "data": {
      "text/html": [
       " View run <strong style=\"color:#cdcd00\">ctgru-tfr0.5-lr0.0040373669365282175-es128-hs128-nl1-d0.3-bs64</strong> at: <a href='https://wandb.ai/ch21b021-indian-institute-of-technology-madras/DA6401-Assignment-3/runs/yov77fbe' target=\"_blank\">https://wandb.ai/ch21b021-indian-institute-of-technology-madras/DA6401-Assignment-3/runs/yov77fbe</a><br> View project at: <a href='https://wandb.ai/ch21b021-indian-institute-of-technology-madras/DA6401-Assignment-3' target=\"_blank\">https://wandb.ai/ch21b021-indian-institute-of-technology-madras/DA6401-Assignment-3</a><br>Synced 5 W&B file(s), 0 media file(s), 0 artifact file(s) and 0 other file(s)"
      ],
      "text/plain": [
       "<IPython.core.display.HTML object>"
      ]
     },
     "metadata": {},
     "output_type": "display_data"
    },
    {
     "data": {
      "text/html": [
       "Find logs at: <code>.\\wandb\\run-20250521_173537-yov77fbe\\logs</code>"
      ],
      "text/plain": [
       "<IPython.core.display.HTML object>"
      ]
     },
     "metadata": {},
     "output_type": "display_data"
    },
    {
     "name": "stderr",
     "output_type": "stream",
     "text": [
      "\u001b[34m\u001b[1mwandb\u001b[0m: Agent Starting Run: rp21mtpq with config:\n",
      "\u001b[34m\u001b[1mwandb\u001b[0m: \tbatch_size: 64\n",
      "\u001b[34m\u001b[1mwandb\u001b[0m: \tcell_type: gru\n",
      "\u001b[34m\u001b[1mwandb\u001b[0m: \tclip: 1\n",
      "\u001b[34m\u001b[1mwandb\u001b[0m: \tdropout: 0.3\n",
      "\u001b[34m\u001b[1mwandb\u001b[0m: \tembedding_size: 256\n",
      "\u001b[34m\u001b[1mwandb\u001b[0m: \tepochs: 20\n",
      "\u001b[34m\u001b[1mwandb\u001b[0m: \thidden_size: 128\n",
      "\u001b[34m\u001b[1mwandb\u001b[0m: \tlearning_rate: 0.0009153932521338548\n",
      "\u001b[34m\u001b[1mwandb\u001b[0m: \tnum_layers: 1\n",
      "\u001b[34m\u001b[1mwandb\u001b[0m: \tpatience: 5\n",
      "\u001b[34m\u001b[1mwandb\u001b[0m: \tseed: 42\n",
      "\u001b[34m\u001b[1mwandb\u001b[0m: \tteacher_forcing_ratio: 0.5\n",
      "d:\\Anaconda\\Lib\\site-packages\\pydantic\\main.py:308: UserWarning: Pydantic serializer warnings:\n",
      "  Expected `list[str]` but got `tuple` - serialized value may not be as expected\n",
      "  Expected `list[str]` but got `tuple` - serialized value may not be as expected\n",
      "  return self.__pydantic_serializer__.to_python(\n"
     ]
    },
    {
     "data": {
      "text/html": [
       "Tracking run with wandb version 0.19.11"
      ],
      "text/plain": [
       "<IPython.core.display.HTML object>"
      ]
     },
     "metadata": {},
     "output_type": "display_data"
    },
    {
     "data": {
      "text/html": [
       "Run data is saved locally in <code>d:\\Ayaan\\IITM\\Courses\\Sem 8\\DA6401\\DA6401-Assignment-3\\wandb\\run-20250521_175206-rp21mtpq</code>"
      ],
      "text/plain": [
       "<IPython.core.display.HTML object>"
      ]
     },
     "metadata": {},
     "output_type": "display_data"
    },
    {
     "data": {
      "text/html": [
       "Syncing run <strong><a href='https://wandb.ai/ch21b021-indian-institute-of-technology-madras/DA6401-Assignment-3/runs/rp21mtpq' target=\"_blank\">fine-sweep-7</a></strong> to <a href='https://wandb.ai/ch21b021-indian-institute-of-technology-madras/DA6401-Assignment-3' target=\"_blank\">Weights & Biases</a> (<a href='https://wandb.me/developer-guide' target=\"_blank\">docs</a>)<br>Sweep page: <a href='https://wandb.ai/ch21b021-indian-institute-of-technology-madras/DA6401-Assignment-3/sweeps/goazo3li' target=\"_blank\">https://wandb.ai/ch21b021-indian-institute-of-technology-madras/DA6401-Assignment-3/sweeps/goazo3li</a>"
      ],
      "text/plain": [
       "<IPython.core.display.HTML object>"
      ]
     },
     "metadata": {},
     "output_type": "display_data"
    },
    {
     "data": {
      "text/html": [
       " View project at <a href='https://wandb.ai/ch21b021-indian-institute-of-technology-madras/DA6401-Assignment-3' target=\"_blank\">https://wandb.ai/ch21b021-indian-institute-of-technology-madras/DA6401-Assignment-3</a>"
      ],
      "text/plain": [
       "<IPython.core.display.HTML object>"
      ]
     },
     "metadata": {},
     "output_type": "display_data"
    },
    {
     "data": {
      "text/html": [
       " View sweep at <a href='https://wandb.ai/ch21b021-indian-institute-of-technology-madras/DA6401-Assignment-3/sweeps/goazo3li' target=\"_blank\">https://wandb.ai/ch21b021-indian-institute-of-technology-madras/DA6401-Assignment-3/sweeps/goazo3li</a>"
      ],
      "text/plain": [
       "<IPython.core.display.HTML object>"
      ]
     },
     "metadata": {},
     "output_type": "display_data"
    },
    {
     "data": {
      "text/html": [
       " View run at <a href='https://wandb.ai/ch21b021-indian-institute-of-technology-madras/DA6401-Assignment-3/runs/rp21mtpq' target=\"_blank\">https://wandb.ai/ch21b021-indian-institute-of-technology-madras/DA6401-Assignment-3/runs/rp21mtpq</a>"
      ],
      "text/plain": [
       "<IPython.core.display.HTML object>"
      ]
     },
     "metadata": {},
     "output_type": "display_data"
    },
    {
     "name": "stdout",
     "output_type": "stream",
     "text": [
      "Using device: cuda\n"
     ]
    },
    {
     "name": "stderr",
     "output_type": "stream",
     "text": [
      "Epoch 17/20:  80%|████████  | 16/20 [18:36<04:39, 69.78s/it, train_loss=0.4852, val_acc=0.3093, val_loss=1.2411]"
     ]
    },
    {
     "name": "stdout",
     "output_type": "stream",
     "text": [
      "Early stopping after 17 epochs!\n",
      "\tBest model saved with val acc 0.308 at model_rp21mtpq.pth\n"
     ]
    },
    {
     "name": "stderr",
     "output_type": "stream",
     "text": [
      "\n"
     ]
    },
    {
     "data": {
      "text/html": [],
      "text/plain": [
       "<IPython.core.display.HTML object>"
      ]
     },
     "metadata": {},
     "output_type": "display_data"
    },
    {
     "data": {
      "text/html": [
       "<br>    <style><br>        .wandb-row {<br>            display: flex;<br>            flex-direction: row;<br>            flex-wrap: wrap;<br>            justify-content: flex-start;<br>            width: 100%;<br>        }<br>        .wandb-col {<br>            display: flex;<br>            flex-direction: column;<br>            flex-basis: 100%;<br>            flex: 1;<br>            padding: 10px;<br>        }<br>    </style><br><div class=\"wandb-row\"><div class=\"wandb-col\"><h3>Run history:</h3><br/><table class=\"wandb\"><tr><td>best_val_accuracy</td><td>▁</td></tr><tr><td>best_val_loss</td><td>▁</td></tr><tr><td>epoch</td><td>▁▁▂▂▃▃▄▄▅▅▅▆▆▇▇██</td></tr><tr><td>train_loss</td><td>█▄▃▃▂▂▂▂▂▂▁▁▁▁▁▁▁</td></tr><tr><td>val_accuracy</td><td>▁▃▄▅▆▆▇▇▇▇█▇█████</td></tr><tr><td>val_loss</td><td>█▅▄▃▃▂▁▂▁▁▁▁▁▁▁▁▁</td></tr></table><br/></div><div class=\"wandb-col\"><h3>Run summary:</h3><br/><table class=\"wandb\"><tr><td>best_val_accuracy</td><td>0.30792</td></tr><tr><td>best_val_loss</td><td>1.23816</td></tr><tr><td>epoch</td><td>17</td></tr><tr><td>train_loss</td><td>0.48521</td></tr><tr><td>val_accuracy</td><td>0.30934</td></tr><tr><td>val_loss</td><td>1.24106</td></tr></table><br/></div></div>"
      ],
      "text/plain": [
       "<IPython.core.display.HTML object>"
      ]
     },
     "metadata": {},
     "output_type": "display_data"
    },
    {
     "data": {
      "text/html": [
       " View run <strong style=\"color:#cdcd00\">ctgru-tfr0.5-lr0.0009153932521338548-es256-hs128-nl1-d0.3-bs64</strong> at: <a href='https://wandb.ai/ch21b021-indian-institute-of-technology-madras/DA6401-Assignment-3/runs/rp21mtpq' target=\"_blank\">https://wandb.ai/ch21b021-indian-institute-of-technology-madras/DA6401-Assignment-3/runs/rp21mtpq</a><br> View project at: <a href='https://wandb.ai/ch21b021-indian-institute-of-technology-madras/DA6401-Assignment-3' target=\"_blank\">https://wandb.ai/ch21b021-indian-institute-of-technology-madras/DA6401-Assignment-3</a><br>Synced 5 W&B file(s), 0 media file(s), 0 artifact file(s) and 0 other file(s)"
      ],
      "text/plain": [
       "<IPython.core.display.HTML object>"
      ]
     },
     "metadata": {},
     "output_type": "display_data"
    },
    {
     "data": {
      "text/html": [
       "Find logs at: <code>.\\wandb\\run-20250521_175206-rp21mtpq\\logs</code>"
      ],
      "text/plain": [
       "<IPython.core.display.HTML object>"
      ]
     },
     "metadata": {},
     "output_type": "display_data"
    },
    {
     "name": "stderr",
     "output_type": "stream",
     "text": [
      "\u001b[34m\u001b[1mwandb\u001b[0m: Agent Starting Run: o0eocgra with config:\n",
      "\u001b[34m\u001b[1mwandb\u001b[0m: \tbatch_size: 64\n",
      "\u001b[34m\u001b[1mwandb\u001b[0m: \tcell_type: gru\n",
      "\u001b[34m\u001b[1mwandb\u001b[0m: \tclip: 1\n",
      "\u001b[34m\u001b[1mwandb\u001b[0m: \tdropout: 0.3\n",
      "\u001b[34m\u001b[1mwandb\u001b[0m: \tembedding_size: 256\n",
      "\u001b[34m\u001b[1mwandb\u001b[0m: \tepochs: 20\n",
      "\u001b[34m\u001b[1mwandb\u001b[0m: \thidden_size: 128\n",
      "\u001b[34m\u001b[1mwandb\u001b[0m: \tlearning_rate: 0.0019665897671907132\n",
      "\u001b[34m\u001b[1mwandb\u001b[0m: \tnum_layers: 1\n",
      "\u001b[34m\u001b[1mwandb\u001b[0m: \tpatience: 5\n",
      "\u001b[34m\u001b[1mwandb\u001b[0m: \tseed: 42\n",
      "\u001b[34m\u001b[1mwandb\u001b[0m: \tteacher_forcing_ratio: 0.5\n",
      "d:\\Anaconda\\Lib\\site-packages\\pydantic\\main.py:308: UserWarning: Pydantic serializer warnings:\n",
      "  Expected `list[str]` but got `tuple` - serialized value may not be as expected\n",
      "  Expected `list[str]` but got `tuple` - serialized value may not be as expected\n",
      "  return self.__pydantic_serializer__.to_python(\n"
     ]
    },
    {
     "data": {
      "text/html": [
       "Tracking run with wandb version 0.19.11"
      ],
      "text/plain": [
       "<IPython.core.display.HTML object>"
      ]
     },
     "metadata": {},
     "output_type": "display_data"
    },
    {
     "data": {
      "text/html": [
       "Run data is saved locally in <code>d:\\Ayaan\\IITM\\Courses\\Sem 8\\DA6401\\DA6401-Assignment-3\\wandb\\run-20250521_181050-o0eocgra</code>"
      ],
      "text/plain": [
       "<IPython.core.display.HTML object>"
      ]
     },
     "metadata": {},
     "output_type": "display_data"
    },
    {
     "data": {
      "text/html": [
       "Syncing run <strong><a href='https://wandb.ai/ch21b021-indian-institute-of-technology-madras/DA6401-Assignment-3/runs/o0eocgra' target=\"_blank\">hopeful-sweep-8</a></strong> to <a href='https://wandb.ai/ch21b021-indian-institute-of-technology-madras/DA6401-Assignment-3' target=\"_blank\">Weights & Biases</a> (<a href='https://wandb.me/developer-guide' target=\"_blank\">docs</a>)<br>Sweep page: <a href='https://wandb.ai/ch21b021-indian-institute-of-technology-madras/DA6401-Assignment-3/sweeps/goazo3li' target=\"_blank\">https://wandb.ai/ch21b021-indian-institute-of-technology-madras/DA6401-Assignment-3/sweeps/goazo3li</a>"
      ],
      "text/plain": [
       "<IPython.core.display.HTML object>"
      ]
     },
     "metadata": {},
     "output_type": "display_data"
    },
    {
     "data": {
      "text/html": [
       " View project at <a href='https://wandb.ai/ch21b021-indian-institute-of-technology-madras/DA6401-Assignment-3' target=\"_blank\">https://wandb.ai/ch21b021-indian-institute-of-technology-madras/DA6401-Assignment-3</a>"
      ],
      "text/plain": [
       "<IPython.core.display.HTML object>"
      ]
     },
     "metadata": {},
     "output_type": "display_data"
    },
    {
     "data": {
      "text/html": [
       " View sweep at <a href='https://wandb.ai/ch21b021-indian-institute-of-technology-madras/DA6401-Assignment-3/sweeps/goazo3li' target=\"_blank\">https://wandb.ai/ch21b021-indian-institute-of-technology-madras/DA6401-Assignment-3/sweeps/goazo3li</a>"
      ],
      "text/plain": [
       "<IPython.core.display.HTML object>"
      ]
     },
     "metadata": {},
     "output_type": "display_data"
    },
    {
     "data": {
      "text/html": [
       " View run at <a href='https://wandb.ai/ch21b021-indian-institute-of-technology-madras/DA6401-Assignment-3/runs/o0eocgra' target=\"_blank\">https://wandb.ai/ch21b021-indian-institute-of-technology-madras/DA6401-Assignment-3/runs/o0eocgra</a>"
      ],
      "text/plain": [
       "<IPython.core.display.HTML object>"
      ]
     },
     "metadata": {},
     "output_type": "display_data"
    },
    {
     "name": "stdout",
     "output_type": "stream",
     "text": [
      "Using device: cuda\n"
     ]
    },
    {
     "name": "stderr",
     "output_type": "stream",
     "text": [
      "Epoch 13/20:  60%|██████    | 12/20 [14:41<09:47, 73.47s/it, train_loss=0.5621, val_acc=0.2711, val_loss=1.3244]"
     ]
    },
    {
     "name": "stdout",
     "output_type": "stream",
     "text": [
      "Early stopping after 13 epochs!\n",
      "\tBest model saved with val acc 0.267 at model_o0eocgra.pth\n"
     ]
    },
    {
     "name": "stderr",
     "output_type": "stream",
     "text": [
      "\n"
     ]
    },
    {
     "data": {
      "text/html": [],
      "text/plain": [
       "<IPython.core.display.HTML object>"
      ]
     },
     "metadata": {},
     "output_type": "display_data"
    },
    {
     "data": {
      "text/html": [
       "<br>    <style><br>        .wandb-row {<br>            display: flex;<br>            flex-direction: row;<br>            flex-wrap: wrap;<br>            justify-content: flex-start;<br>            width: 100%;<br>        }<br>        .wandb-col {<br>            display: flex;<br>            flex-direction: column;<br>            flex-basis: 100%;<br>            flex: 1;<br>            padding: 10px;<br>        }<br>    </style><br><div class=\"wandb-row\"><div class=\"wandb-col\"><h3>Run history:</h3><br/><table class=\"wandb\"><tr><td>best_val_accuracy</td><td>▁</td></tr><tr><td>best_val_loss</td><td>▁</td></tr><tr><td>epoch</td><td>▁▂▂▃▃▄▅▅▆▆▇▇█</td></tr><tr><td>train_loss</td><td>█▄▃▃▂▂▂▂▁▁▁▁▁</td></tr><tr><td>val_accuracy</td><td>▁▃▅▅▆▆▇▇█▇███</td></tr><tr><td>val_loss</td><td>█▆▄▃▄▂▂▂▁▂▁▁▁</td></tr></table><br/></div><div class=\"wandb-col\"><h3>Run summary:</h3><br/><table class=\"wandb\"><tr><td>best_val_accuracy</td><td>0.26733</td></tr><tr><td>best_val_loss</td><td>1.3038</td></tr><tr><td>epoch</td><td>13</td></tr><tr><td>train_loss</td><td>0.56208</td></tr><tr><td>val_accuracy</td><td>0.27105</td></tr><tr><td>val_loss</td><td>1.32437</td></tr></table><br/></div></div>"
      ],
      "text/plain": [
       "<IPython.core.display.HTML object>"
      ]
     },
     "metadata": {},
     "output_type": "display_data"
    },
    {
     "data": {
      "text/html": [
       " View run <strong style=\"color:#cdcd00\">ctgru-tfr0.5-lr0.0019665897671907132-es256-hs128-nl1-d0.3-bs64</strong> at: <a href='https://wandb.ai/ch21b021-indian-institute-of-technology-madras/DA6401-Assignment-3/runs/o0eocgra' target=\"_blank\">https://wandb.ai/ch21b021-indian-institute-of-technology-madras/DA6401-Assignment-3/runs/o0eocgra</a><br> View project at: <a href='https://wandb.ai/ch21b021-indian-institute-of-technology-madras/DA6401-Assignment-3' target=\"_blank\">https://wandb.ai/ch21b021-indian-institute-of-technology-madras/DA6401-Assignment-3</a><br>Synced 5 W&B file(s), 0 media file(s), 0 artifact file(s) and 0 other file(s)"
      ],
      "text/plain": [
       "<IPython.core.display.HTML object>"
      ]
     },
     "metadata": {},
     "output_type": "display_data"
    },
    {
     "data": {
      "text/html": [
       "Find logs at: <code>.\\wandb\\run-20250521_181050-o0eocgra\\logs</code>"
      ],
      "text/plain": [
       "<IPython.core.display.HTML object>"
      ]
     },
     "metadata": {},
     "output_type": "display_data"
    },
    {
     "name": "stderr",
     "output_type": "stream",
     "text": [
      "\u001b[34m\u001b[1mwandb\u001b[0m: Agent Starting Run: ddy5e93g with config:\n",
      "\u001b[34m\u001b[1mwandb\u001b[0m: \tbatch_size: 64\n",
      "\u001b[34m\u001b[1mwandb\u001b[0m: \tcell_type: gru\n",
      "\u001b[34m\u001b[1mwandb\u001b[0m: \tclip: 1\n",
      "\u001b[34m\u001b[1mwandb\u001b[0m: \tdropout: 0.3\n",
      "\u001b[34m\u001b[1mwandb\u001b[0m: \tembedding_size: 256\n",
      "\u001b[34m\u001b[1mwandb\u001b[0m: \tepochs: 20\n",
      "\u001b[34m\u001b[1mwandb\u001b[0m: \thidden_size: 128\n",
      "\u001b[34m\u001b[1mwandb\u001b[0m: \tlearning_rate: 0.0008502742453661464\n",
      "\u001b[34m\u001b[1mwandb\u001b[0m: \tnum_layers: 1\n",
      "\u001b[34m\u001b[1mwandb\u001b[0m: \tpatience: 5\n",
      "\u001b[34m\u001b[1mwandb\u001b[0m: \tseed: 42\n",
      "\u001b[34m\u001b[1mwandb\u001b[0m: \tteacher_forcing_ratio: 0.7\n",
      "d:\\Anaconda\\Lib\\site-packages\\pydantic\\main.py:308: UserWarning: Pydantic serializer warnings:\n",
      "  Expected `list[str]` but got `tuple` - serialized value may not be as expected\n",
      "  Expected `list[str]` but got `tuple` - serialized value may not be as expected\n",
      "  return self.__pydantic_serializer__.to_python(\n"
     ]
    },
    {
     "data": {
      "text/html": [
       "Tracking run with wandb version 0.19.11"
      ],
      "text/plain": [
       "<IPython.core.display.HTML object>"
      ]
     },
     "metadata": {},
     "output_type": "display_data"
    },
    {
     "data": {
      "text/html": [
       "Run data is saved locally in <code>d:\\Ayaan\\IITM\\Courses\\Sem 8\\DA6401\\DA6401-Assignment-3\\wandb\\run-20250521_182539-ddy5e93g</code>"
      ],
      "text/plain": [
       "<IPython.core.display.HTML object>"
      ]
     },
     "metadata": {},
     "output_type": "display_data"
    },
    {
     "data": {
      "text/html": [
       "Syncing run <strong><a href='https://wandb.ai/ch21b021-indian-institute-of-technology-madras/DA6401-Assignment-3/runs/ddy5e93g' target=\"_blank\">skilled-sweep-9</a></strong> to <a href='https://wandb.ai/ch21b021-indian-institute-of-technology-madras/DA6401-Assignment-3' target=\"_blank\">Weights & Biases</a> (<a href='https://wandb.me/developer-guide' target=\"_blank\">docs</a>)<br>Sweep page: <a href='https://wandb.ai/ch21b021-indian-institute-of-technology-madras/DA6401-Assignment-3/sweeps/goazo3li' target=\"_blank\">https://wandb.ai/ch21b021-indian-institute-of-technology-madras/DA6401-Assignment-3/sweeps/goazo3li</a>"
      ],
      "text/plain": [
       "<IPython.core.display.HTML object>"
      ]
     },
     "metadata": {},
     "output_type": "display_data"
    },
    {
     "data": {
      "text/html": [
       " View project at <a href='https://wandb.ai/ch21b021-indian-institute-of-technology-madras/DA6401-Assignment-3' target=\"_blank\">https://wandb.ai/ch21b021-indian-institute-of-technology-madras/DA6401-Assignment-3</a>"
      ],
      "text/plain": [
       "<IPython.core.display.HTML object>"
      ]
     },
     "metadata": {},
     "output_type": "display_data"
    },
    {
     "data": {
      "text/html": [
       " View sweep at <a href='https://wandb.ai/ch21b021-indian-institute-of-technology-madras/DA6401-Assignment-3/sweeps/goazo3li' target=\"_blank\">https://wandb.ai/ch21b021-indian-institute-of-technology-madras/DA6401-Assignment-3/sweeps/goazo3li</a>"
      ],
      "text/plain": [
       "<IPython.core.display.HTML object>"
      ]
     },
     "metadata": {},
     "output_type": "display_data"
    },
    {
     "data": {
      "text/html": [
       " View run at <a href='https://wandb.ai/ch21b021-indian-institute-of-technology-madras/DA6401-Assignment-3/runs/ddy5e93g' target=\"_blank\">https://wandb.ai/ch21b021-indian-institute-of-technology-madras/DA6401-Assignment-3/runs/ddy5e93g</a>"
      ],
      "text/plain": [
       "<IPython.core.display.HTML object>"
      ]
     },
     "metadata": {},
     "output_type": "display_data"
    },
    {
     "name": "stdout",
     "output_type": "stream",
     "text": [
      "Using device: cuda\n"
     ]
    },
    {
     "name": "stderr",
     "output_type": "stream",
     "text": [
      "Epoch 13/20:  60%|██████    | 12/20 [15:18<10:12, 76.54s/it, train_loss=0.4496, val_acc=0.3058, val_loss=1.4973]"
     ]
    },
    {
     "name": "stdout",
     "output_type": "stream",
     "text": [
      "Early stopping after 13 epochs!\n",
      "\tBest model saved with val acc 0.307 at model_ddy5e93g.pth\n"
     ]
    },
    {
     "name": "stderr",
     "output_type": "stream",
     "text": [
      "\n"
     ]
    },
    {
     "data": {
      "text/html": [],
      "text/plain": [
       "<IPython.core.display.HTML object>"
      ]
     },
     "metadata": {},
     "output_type": "display_data"
    },
    {
     "data": {
      "text/html": [
       "<br>    <style><br>        .wandb-row {<br>            display: flex;<br>            flex-direction: row;<br>            flex-wrap: wrap;<br>            justify-content: flex-start;<br>            width: 100%;<br>        }<br>        .wandb-col {<br>            display: flex;<br>            flex-direction: column;<br>            flex-basis: 100%;<br>            flex: 1;<br>            padding: 10px;<br>        }<br>    </style><br><div class=\"wandb-row\"><div class=\"wandb-col\"><h3>Run history:</h3><br/><table class=\"wandb\"><tr><td>best_val_accuracy</td><td>▁</td></tr><tr><td>best_val_loss</td><td>▁</td></tr><tr><td>epoch</td><td>▁▂▂▃▃▄▅▅▆▆▇▇█</td></tr><tr><td>train_loss</td><td>█▄▃▃▂▂▂▂▁▁▁▁▁</td></tr><tr><td>val_accuracy</td><td>▁▃▄▆▆▆▇▇▇▇███</td></tr><tr><td>val_loss</td><td>█▅▃▃▃▂▂▂▁▂▂▁▁</td></tr></table><br/></div><div class=\"wandb-col\"><h3>Run summary:</h3><br/><table class=\"wandb\"><tr><td>best_val_accuracy</td><td>0.30686</td></tr><tr><td>best_val_loss</td><td>1.44959</td></tr><tr><td>epoch</td><td>13</td></tr><tr><td>train_loss</td><td>0.44965</td></tr><tr><td>val_accuracy</td><td>0.3058</td></tr><tr><td>val_loss</td><td>1.4973</td></tr></table><br/></div></div>"
      ],
      "text/plain": [
       "<IPython.core.display.HTML object>"
      ]
     },
     "metadata": {},
     "output_type": "display_data"
    },
    {
     "data": {
      "text/html": [
       " View run <strong style=\"color:#cdcd00\">ctgru-tfr0.7-lr0.0008502742453661464-es256-hs128-nl1-d0.3-bs64</strong> at: <a href='https://wandb.ai/ch21b021-indian-institute-of-technology-madras/DA6401-Assignment-3/runs/ddy5e93g' target=\"_blank\">https://wandb.ai/ch21b021-indian-institute-of-technology-madras/DA6401-Assignment-3/runs/ddy5e93g</a><br> View project at: <a href='https://wandb.ai/ch21b021-indian-institute-of-technology-madras/DA6401-Assignment-3' target=\"_blank\">https://wandb.ai/ch21b021-indian-institute-of-technology-madras/DA6401-Assignment-3</a><br>Synced 5 W&B file(s), 0 media file(s), 0 artifact file(s) and 0 other file(s)"
      ],
      "text/plain": [
       "<IPython.core.display.HTML object>"
      ]
     },
     "metadata": {},
     "output_type": "display_data"
    },
    {
     "data": {
      "text/html": [
       "Find logs at: <code>.\\wandb\\run-20250521_182539-ddy5e93g\\logs</code>"
      ],
      "text/plain": [
       "<IPython.core.display.HTML object>"
      ]
     },
     "metadata": {},
     "output_type": "display_data"
    },
    {
     "name": "stderr",
     "output_type": "stream",
     "text": [
      "\u001b[34m\u001b[1mwandb\u001b[0m: Agent Starting Run: t6e1jybw with config:\n",
      "\u001b[34m\u001b[1mwandb\u001b[0m: \tbatch_size: 64\n",
      "\u001b[34m\u001b[1mwandb\u001b[0m: \tcell_type: gru\n",
      "\u001b[34m\u001b[1mwandb\u001b[0m: \tclip: 1\n",
      "\u001b[34m\u001b[1mwandb\u001b[0m: \tdropout: 0.3\n",
      "\u001b[34m\u001b[1mwandb\u001b[0m: \tembedding_size: 256\n",
      "\u001b[34m\u001b[1mwandb\u001b[0m: \tepochs: 20\n",
      "\u001b[34m\u001b[1mwandb\u001b[0m: \thidden_size: 128\n",
      "\u001b[34m\u001b[1mwandb\u001b[0m: \tlearning_rate: 0.004677245912475413\n",
      "\u001b[34m\u001b[1mwandb\u001b[0m: \tnum_layers: 1\n",
      "\u001b[34m\u001b[1mwandb\u001b[0m: \tpatience: 5\n",
      "\u001b[34m\u001b[1mwandb\u001b[0m: \tseed: 42\n",
      "\u001b[34m\u001b[1mwandb\u001b[0m: \tteacher_forcing_ratio: 0.5\n",
      "d:\\Anaconda\\Lib\\site-packages\\pydantic\\main.py:308: UserWarning: Pydantic serializer warnings:\n",
      "  Expected `list[str]` but got `tuple` - serialized value may not be as expected\n",
      "  Expected `list[str]` but got `tuple` - serialized value may not be as expected\n",
      "  return self.__pydantic_serializer__.to_python(\n"
     ]
    },
    {
     "data": {
      "text/html": [
       "Tracking run with wandb version 0.19.11"
      ],
      "text/plain": [
       "<IPython.core.display.HTML object>"
      ]
     },
     "metadata": {},
     "output_type": "display_data"
    },
    {
     "data": {
      "text/html": [
       "Run data is saved locally in <code>d:\\Ayaan\\IITM\\Courses\\Sem 8\\DA6401\\DA6401-Assignment-3\\wandb\\run-20250521_184109-t6e1jybw</code>"
      ],
      "text/plain": [
       "<IPython.core.display.HTML object>"
      ]
     },
     "metadata": {},
     "output_type": "display_data"
    },
    {
     "data": {
      "text/html": [
       "Syncing run <strong><a href='https://wandb.ai/ch21b021-indian-institute-of-technology-madras/DA6401-Assignment-3/runs/t6e1jybw' target=\"_blank\">classic-sweep-10</a></strong> to <a href='https://wandb.ai/ch21b021-indian-institute-of-technology-madras/DA6401-Assignment-3' target=\"_blank\">Weights & Biases</a> (<a href='https://wandb.me/developer-guide' target=\"_blank\">docs</a>)<br>Sweep page: <a href='https://wandb.ai/ch21b021-indian-institute-of-technology-madras/DA6401-Assignment-3/sweeps/goazo3li' target=\"_blank\">https://wandb.ai/ch21b021-indian-institute-of-technology-madras/DA6401-Assignment-3/sweeps/goazo3li</a>"
      ],
      "text/plain": [
       "<IPython.core.display.HTML object>"
      ]
     },
     "metadata": {},
     "output_type": "display_data"
    },
    {
     "data": {
      "text/html": [
       " View project at <a href='https://wandb.ai/ch21b021-indian-institute-of-technology-madras/DA6401-Assignment-3' target=\"_blank\">https://wandb.ai/ch21b021-indian-institute-of-technology-madras/DA6401-Assignment-3</a>"
      ],
      "text/plain": [
       "<IPython.core.display.HTML object>"
      ]
     },
     "metadata": {},
     "output_type": "display_data"
    },
    {
     "data": {
      "text/html": [
       " View sweep at <a href='https://wandb.ai/ch21b021-indian-institute-of-technology-madras/DA6401-Assignment-3/sweeps/goazo3li' target=\"_blank\">https://wandb.ai/ch21b021-indian-institute-of-technology-madras/DA6401-Assignment-3/sweeps/goazo3li</a>"
      ],
      "text/plain": [
       "<IPython.core.display.HTML object>"
      ]
     },
     "metadata": {},
     "output_type": "display_data"
    },
    {
     "data": {
      "text/html": [
       " View run at <a href='https://wandb.ai/ch21b021-indian-institute-of-technology-madras/DA6401-Assignment-3/runs/t6e1jybw' target=\"_blank\">https://wandb.ai/ch21b021-indian-institute-of-technology-madras/DA6401-Assignment-3/runs/t6e1jybw</a>"
      ],
      "text/plain": [
       "<IPython.core.display.HTML object>"
      ]
     },
     "metadata": {},
     "output_type": "display_data"
    },
    {
     "name": "stdout",
     "output_type": "stream",
     "text": [
      "Using device: cuda\n"
     ]
    },
    {
     "name": "stderr",
     "output_type": "stream",
     "text": [
      "Epoch 15/20:  70%|███████   | 14/20 [16:39<07:08, 71.40s/it, train_loss=0.8083, val_acc=0.1861, val_loss=1.5659]"
     ]
    },
    {
     "name": "stdout",
     "output_type": "stream",
     "text": [
      "Early stopping after 15 epochs!\n",
      "\tBest model saved with val acc 0.185 at model_t6e1jybw.pth\n"
     ]
    },
    {
     "name": "stderr",
     "output_type": "stream",
     "text": [
      "\n"
     ]
    },
    {
     "data": {
      "text/html": [],
      "text/plain": [
       "<IPython.core.display.HTML object>"
      ]
     },
     "metadata": {},
     "output_type": "display_data"
    },
    {
     "data": {
      "text/html": [
       "<br>    <style><br>        .wandb-row {<br>            display: flex;<br>            flex-direction: row;<br>            flex-wrap: wrap;<br>            justify-content: flex-start;<br>            width: 100%;<br>        }<br>        .wandb-col {<br>            display: flex;<br>            flex-direction: column;<br>            flex-basis: 100%;<br>            flex: 1;<br>            padding: 10px;<br>        }<br>    </style><br><div class=\"wandb-row\"><div class=\"wandb-col\"><h3>Run history:</h3><br/><table class=\"wandb\"><tr><td>best_val_accuracy</td><td>▁</td></tr><tr><td>best_val_loss</td><td>▁</td></tr><tr><td>epoch</td><td>▁▁▂▃▃▃▄▅▅▅▆▇▇▇█</td></tr><tr><td>train_loss</td><td>█▄▃▃▂▂▂▂▂▁▁▁▁▁▁</td></tr><tr><td>val_accuracy</td><td>▁▃▅▅▆▆▇█▇██████</td></tr><tr><td>val_loss</td><td>█▆▄▄▄▃▃▂▂▁▁▁▂▁▂</td></tr></table><br/></div><div class=\"wandb-col\"><h3>Run summary:</h3><br/><table class=\"wandb\"><tr><td>best_val_accuracy</td><td>0.18472</td></tr><tr><td>best_val_loss</td><td>1.53117</td></tr><tr><td>epoch</td><td>15</td></tr><tr><td>train_loss</td><td>0.80833</td></tr><tr><td>val_accuracy</td><td>0.18614</td></tr><tr><td>val_loss</td><td>1.56587</td></tr></table><br/></div></div>"
      ],
      "text/plain": [
       "<IPython.core.display.HTML object>"
      ]
     },
     "metadata": {},
     "output_type": "display_data"
    },
    {
     "data": {
      "text/html": [
       " View run <strong style=\"color:#cdcd00\">ctgru-tfr0.5-lr0.004677245912475413-es256-hs128-nl1-d0.3-bs64</strong> at: <a href='https://wandb.ai/ch21b021-indian-institute-of-technology-madras/DA6401-Assignment-3/runs/t6e1jybw' target=\"_blank\">https://wandb.ai/ch21b021-indian-institute-of-technology-madras/DA6401-Assignment-3/runs/t6e1jybw</a><br> View project at: <a href='https://wandb.ai/ch21b021-indian-institute-of-technology-madras/DA6401-Assignment-3' target=\"_blank\">https://wandb.ai/ch21b021-indian-institute-of-technology-madras/DA6401-Assignment-3</a><br>Synced 5 W&B file(s), 0 media file(s), 0 artifact file(s) and 0 other file(s)"
      ],
      "text/plain": [
       "<IPython.core.display.HTML object>"
      ]
     },
     "metadata": {},
     "output_type": "display_data"
    },
    {
     "data": {
      "text/html": [
       "Find logs at: <code>.\\wandb\\run-20250521_184109-t6e1jybw\\logs</code>"
      ],
      "text/plain": [
       "<IPython.core.display.HTML object>"
      ]
     },
     "metadata": {},
     "output_type": "display_data"
    },
    {
     "name": "stderr",
     "output_type": "stream",
     "text": [
      "\u001b[34m\u001b[1mwandb\u001b[0m: Agent Starting Run: t12qt17c with config:\n",
      "\u001b[34m\u001b[1mwandb\u001b[0m: \tbatch_size: 64\n",
      "\u001b[34m\u001b[1mwandb\u001b[0m: \tcell_type: gru\n",
      "\u001b[34m\u001b[1mwandb\u001b[0m: \tclip: 1\n",
      "\u001b[34m\u001b[1mwandb\u001b[0m: \tdropout: 0.3\n",
      "\u001b[34m\u001b[1mwandb\u001b[0m: \tembedding_size: 128\n",
      "\u001b[34m\u001b[1mwandb\u001b[0m: \tepochs: 20\n",
      "\u001b[34m\u001b[1mwandb\u001b[0m: \thidden_size: 128\n",
      "\u001b[34m\u001b[1mwandb\u001b[0m: \tlearning_rate: 0.00080662118079231\n",
      "\u001b[34m\u001b[1mwandb\u001b[0m: \tnum_layers: 1\n",
      "\u001b[34m\u001b[1mwandb\u001b[0m: \tpatience: 5\n",
      "\u001b[34m\u001b[1mwandb\u001b[0m: \tseed: 42\n",
      "\u001b[34m\u001b[1mwandb\u001b[0m: \tteacher_forcing_ratio: 0.5\n",
      "d:\\Anaconda\\Lib\\site-packages\\pydantic\\main.py:308: UserWarning: Pydantic serializer warnings:\n",
      "  Expected `list[str]` but got `tuple` - serialized value may not be as expected\n",
      "  Expected `list[str]` but got `tuple` - serialized value may not be as expected\n",
      "  return self.__pydantic_serializer__.to_python(\n"
     ]
    },
    {
     "data": {
      "text/html": [
       "Tracking run with wandb version 0.19.11"
      ],
      "text/plain": [
       "<IPython.core.display.HTML object>"
      ]
     },
     "metadata": {},
     "output_type": "display_data"
    },
    {
     "data": {
      "text/html": [
       "Run data is saved locally in <code>d:\\Ayaan\\IITM\\Courses\\Sem 8\\DA6401\\DA6401-Assignment-3\\wandb\\run-20250521_185757-t12qt17c</code>"
      ],
      "text/plain": [
       "<IPython.core.display.HTML object>"
      ]
     },
     "metadata": {},
     "output_type": "display_data"
    },
    {
     "data": {
      "text/html": [
       "Syncing run <strong><a href='https://wandb.ai/ch21b021-indian-institute-of-technology-madras/DA6401-Assignment-3/runs/t12qt17c' target=\"_blank\">dry-sweep-11</a></strong> to <a href='https://wandb.ai/ch21b021-indian-institute-of-technology-madras/DA6401-Assignment-3' target=\"_blank\">Weights & Biases</a> (<a href='https://wandb.me/developer-guide' target=\"_blank\">docs</a>)<br>Sweep page: <a href='https://wandb.ai/ch21b021-indian-institute-of-technology-madras/DA6401-Assignment-3/sweeps/goazo3li' target=\"_blank\">https://wandb.ai/ch21b021-indian-institute-of-technology-madras/DA6401-Assignment-3/sweeps/goazo3li</a>"
      ],
      "text/plain": [
       "<IPython.core.display.HTML object>"
      ]
     },
     "metadata": {},
     "output_type": "display_data"
    },
    {
     "data": {
      "text/html": [
       " View project at <a href='https://wandb.ai/ch21b021-indian-institute-of-technology-madras/DA6401-Assignment-3' target=\"_blank\">https://wandb.ai/ch21b021-indian-institute-of-technology-madras/DA6401-Assignment-3</a>"
      ],
      "text/plain": [
       "<IPython.core.display.HTML object>"
      ]
     },
     "metadata": {},
     "output_type": "display_data"
    },
    {
     "data": {
      "text/html": [
       " View sweep at <a href='https://wandb.ai/ch21b021-indian-institute-of-technology-madras/DA6401-Assignment-3/sweeps/goazo3li' target=\"_blank\">https://wandb.ai/ch21b021-indian-institute-of-technology-madras/DA6401-Assignment-3/sweeps/goazo3li</a>"
      ],
      "text/plain": [
       "<IPython.core.display.HTML object>"
      ]
     },
     "metadata": {},
     "output_type": "display_data"
    },
    {
     "data": {
      "text/html": [
       " View run at <a href='https://wandb.ai/ch21b021-indian-institute-of-technology-madras/DA6401-Assignment-3/runs/t12qt17c' target=\"_blank\">https://wandb.ai/ch21b021-indian-institute-of-technology-madras/DA6401-Assignment-3/runs/t12qt17c</a>"
      ],
      "text/plain": [
       "<IPython.core.display.HTML object>"
      ]
     },
     "metadata": {},
     "output_type": "display_data"
    },
    {
     "name": "stdout",
     "output_type": "stream",
     "text": [
      "Using device: cuda\n"
     ]
    },
    {
     "name": "stderr",
     "output_type": "stream",
     "text": [
      "Epoch 16/20:  75%|███████▌  | 15/20 [19:21<06:27, 77.44s/it, train_loss=0.4765, val_acc=0.3246, val_loss=1.1913]"
     ]
    },
    {
     "name": "stdout",
     "output_type": "stream",
     "text": [
      "Early stopping after 16 epochs!\n",
      "\tBest model saved with val acc 0.327 at model_t12qt17c.pth\n"
     ]
    },
    {
     "name": "stderr",
     "output_type": "stream",
     "text": [
      "\n"
     ]
    },
    {
     "data": {
      "text/html": [],
      "text/plain": [
       "<IPython.core.display.HTML object>"
      ]
     },
     "metadata": {},
     "output_type": "display_data"
    },
    {
     "data": {
      "text/html": [
       "<br>    <style><br>        .wandb-row {<br>            display: flex;<br>            flex-direction: row;<br>            flex-wrap: wrap;<br>            justify-content: flex-start;<br>            width: 100%;<br>        }<br>        .wandb-col {<br>            display: flex;<br>            flex-direction: column;<br>            flex-basis: 100%;<br>            flex: 1;<br>            padding: 10px;<br>        }<br>    </style><br><div class=\"wandb-row\"><div class=\"wandb-col\"><h3>Run history:</h3><br/><table class=\"wandb\"><tr><td>best_val_accuracy</td><td>▁</td></tr><tr><td>best_val_loss</td><td>▁</td></tr><tr><td>epoch</td><td>▁▁▂▂▃▃▄▄▅▅▆▆▇▇██</td></tr><tr><td>train_loss</td><td>█▄▃▃▂▂▂▂▂▁▁▁▁▁▁▁</td></tr><tr><td>val_accuracy</td><td>▁▃▄▅▆▆▇▇▇▇▇▇████</td></tr><tr><td>val_loss</td><td>█▅▄▃▃▂▂▂▂▂▁▂▂▁▁▁</td></tr></table><br/></div><div class=\"wandb-col\"><h3>Run summary:</h3><br/><table class=\"wandb\"><tr><td>best_val_accuracy</td><td>0.32654</td></tr><tr><td>best_val_loss</td><td>1.15021</td></tr><tr><td>epoch</td><td>16</td></tr><tr><td>train_loss</td><td>0.47652</td></tr><tr><td>val_accuracy</td><td>0.32459</td></tr><tr><td>val_loss</td><td>1.19125</td></tr></table><br/></div></div>"
      ],
      "text/plain": [
       "<IPython.core.display.HTML object>"
      ]
     },
     "metadata": {},
     "output_type": "display_data"
    },
    {
     "data": {
      "text/html": [
       " View run <strong style=\"color:#cdcd00\">ctgru-tfr0.5-lr0.00080662118079231-es128-hs128-nl1-d0.3-bs64</strong> at: <a href='https://wandb.ai/ch21b021-indian-institute-of-technology-madras/DA6401-Assignment-3/runs/t12qt17c' target=\"_blank\">https://wandb.ai/ch21b021-indian-institute-of-technology-madras/DA6401-Assignment-3/runs/t12qt17c</a><br> View project at: <a href='https://wandb.ai/ch21b021-indian-institute-of-technology-madras/DA6401-Assignment-3' target=\"_blank\">https://wandb.ai/ch21b021-indian-institute-of-technology-madras/DA6401-Assignment-3</a><br>Synced 5 W&B file(s), 0 media file(s), 0 artifact file(s) and 0 other file(s)"
      ],
      "text/plain": [
       "<IPython.core.display.HTML object>"
      ]
     },
     "metadata": {},
     "output_type": "display_data"
    },
    {
     "data": {
      "text/html": [
       "Find logs at: <code>.\\wandb\\run-20250521_185757-t12qt17c\\logs</code>"
      ],
      "text/plain": [
       "<IPython.core.display.HTML object>"
      ]
     },
     "metadata": {},
     "output_type": "display_data"
    },
    {
     "name": "stderr",
     "output_type": "stream",
     "text": [
      "\u001b[34m\u001b[1mwandb\u001b[0m: Sweep Agent: Waiting for job.\n",
      "\u001b[34m\u001b[1mwandb\u001b[0m: Job received.\n",
      "\u001b[34m\u001b[1mwandb\u001b[0m: Agent Starting Run: 7xumr5o5 with config:\n",
      "\u001b[34m\u001b[1mwandb\u001b[0m: \tbatch_size: 64\n",
      "\u001b[34m\u001b[1mwandb\u001b[0m: \tcell_type: gru\n",
      "\u001b[34m\u001b[1mwandb\u001b[0m: \tclip: 1\n",
      "\u001b[34m\u001b[1mwandb\u001b[0m: \tdropout: 0.3\n",
      "\u001b[34m\u001b[1mwandb\u001b[0m: \tembedding_size: 256\n",
      "\u001b[34m\u001b[1mwandb\u001b[0m: \tepochs: 20\n",
      "\u001b[34m\u001b[1mwandb\u001b[0m: \thidden_size: 128\n",
      "\u001b[34m\u001b[1mwandb\u001b[0m: \tlearning_rate: 0.0010943557294746198\n",
      "\u001b[34m\u001b[1mwandb\u001b[0m: \tnum_layers: 1\n",
      "\u001b[34m\u001b[1mwandb\u001b[0m: \tpatience: 5\n",
      "\u001b[34m\u001b[1mwandb\u001b[0m: \tseed: 42\n",
      "\u001b[34m\u001b[1mwandb\u001b[0m: \tteacher_forcing_ratio: 0.5\n",
      "d:\\Anaconda\\Lib\\site-packages\\pydantic\\main.py:308: UserWarning: Pydantic serializer warnings:\n",
      "  Expected `list[str]` but got `tuple` - serialized value may not be as expected\n",
      "  Expected `list[str]` but got `tuple` - serialized value may not be as expected\n",
      "  return self.__pydantic_serializer__.to_python(\n"
     ]
    },
    {
     "data": {
      "text/html": [
       "Tracking run with wandb version 0.19.11"
      ],
      "text/plain": [
       "<IPython.core.display.HTML object>"
      ]
     },
     "metadata": {},
     "output_type": "display_data"
    },
    {
     "data": {
      "text/html": [
       "Run data is saved locally in <code>d:\\Ayaan\\IITM\\Courses\\Sem 8\\DA6401\\DA6401-Assignment-3\\wandb\\run-20250521_191735-7xumr5o5</code>"
      ],
      "text/plain": [
       "<IPython.core.display.HTML object>"
      ]
     },
     "metadata": {},
     "output_type": "display_data"
    },
    {
     "data": {
      "text/html": [
       "Syncing run <strong><a href='https://wandb.ai/ch21b021-indian-institute-of-technology-madras/DA6401-Assignment-3/runs/7xumr5o5' target=\"_blank\">northern-sweep-12</a></strong> to <a href='https://wandb.ai/ch21b021-indian-institute-of-technology-madras/DA6401-Assignment-3' target=\"_blank\">Weights & Biases</a> (<a href='https://wandb.me/developer-guide' target=\"_blank\">docs</a>)<br>Sweep page: <a href='https://wandb.ai/ch21b021-indian-institute-of-technology-madras/DA6401-Assignment-3/sweeps/goazo3li' target=\"_blank\">https://wandb.ai/ch21b021-indian-institute-of-technology-madras/DA6401-Assignment-3/sweeps/goazo3li</a>"
      ],
      "text/plain": [
       "<IPython.core.display.HTML object>"
      ]
     },
     "metadata": {},
     "output_type": "display_data"
    },
    {
     "data": {
      "text/html": [
       " View project at <a href='https://wandb.ai/ch21b021-indian-institute-of-technology-madras/DA6401-Assignment-3' target=\"_blank\">https://wandb.ai/ch21b021-indian-institute-of-technology-madras/DA6401-Assignment-3</a>"
      ],
      "text/plain": [
       "<IPython.core.display.HTML object>"
      ]
     },
     "metadata": {},
     "output_type": "display_data"
    },
    {
     "data": {
      "text/html": [
       " View sweep at <a href='https://wandb.ai/ch21b021-indian-institute-of-technology-madras/DA6401-Assignment-3/sweeps/goazo3li' target=\"_blank\">https://wandb.ai/ch21b021-indian-institute-of-technology-madras/DA6401-Assignment-3/sweeps/goazo3li</a>"
      ],
      "text/plain": [
       "<IPython.core.display.HTML object>"
      ]
     },
     "metadata": {},
     "output_type": "display_data"
    },
    {
     "data": {
      "text/html": [
       " View run at <a href='https://wandb.ai/ch21b021-indian-institute-of-technology-madras/DA6401-Assignment-3/runs/7xumr5o5' target=\"_blank\">https://wandb.ai/ch21b021-indian-institute-of-technology-madras/DA6401-Assignment-3/runs/7xumr5o5</a>"
      ],
      "text/plain": [
       "<IPython.core.display.HTML object>"
      ]
     },
     "metadata": {},
     "output_type": "display_data"
    },
    {
     "name": "stdout",
     "output_type": "stream",
     "text": [
      "Using device: cuda\n"
     ]
    },
    {
     "name": "stderr",
     "output_type": "stream",
     "text": [
      "Epoch 18/20:  85%|████████▌ | 17/20 [21:19<03:45, 75.26s/it, train_loss=0.4735, val_acc=0.2960, val_loss=1.2904]"
     ]
    },
    {
     "name": "stdout",
     "output_type": "stream",
     "text": [
      "Early stopping after 18 epochs!\n",
      "\tBest model saved with val acc 0.294 at model_7xumr5o5.pth\n"
     ]
    },
    {
     "name": "stderr",
     "output_type": "stream",
     "text": [
      "\n"
     ]
    },
    {
     "data": {
      "text/html": [],
      "text/plain": [
       "<IPython.core.display.HTML object>"
      ]
     },
     "metadata": {},
     "output_type": "display_data"
    },
    {
     "data": {
      "text/html": [
       "<br>    <style><br>        .wandb-row {<br>            display: flex;<br>            flex-direction: row;<br>            flex-wrap: wrap;<br>            justify-content: flex-start;<br>            width: 100%;<br>        }<br>        .wandb-col {<br>            display: flex;<br>            flex-direction: column;<br>            flex-basis: 100%;<br>            flex: 1;<br>            padding: 10px;<br>        }<br>    </style><br><div class=\"wandb-row\"><div class=\"wandb-col\"><h3>Run history:</h3><br/><table class=\"wandb\"><tr><td>best_val_accuracy</td><td>▁</td></tr><tr><td>best_val_loss</td><td>▁</td></tr><tr><td>epoch</td><td>▁▁▂▂▃▃▃▄▄▅▅▆▆▆▇▇██</td></tr><tr><td>train_loss</td><td>█▄▃▃▃▂▂▂▂▂▁▁▁▁▁▁▁▁</td></tr><tr><td>val_accuracy</td><td>▁▃▄▅▆▆▆▇▇▇████████</td></tr><tr><td>val_loss</td><td>█▅▄▃▂▂▂▂▂▂▁▁▁▁▁▁▂▁</td></tr></table><br/></div><div class=\"wandb-col\"><h3>Run summary:</h3><br/><table class=\"wandb\"><tr><td>best_val_accuracy</td><td>0.2941</td></tr><tr><td>best_val_loss</td><td>1.24886</td></tr><tr><td>epoch</td><td>18</td></tr><tr><td>train_loss</td><td>0.47353</td></tr><tr><td>val_accuracy</td><td>0.29605</td></tr><tr><td>val_loss</td><td>1.29044</td></tr></table><br/></div></div>"
      ],
      "text/plain": [
       "<IPython.core.display.HTML object>"
      ]
     },
     "metadata": {},
     "output_type": "display_data"
    },
    {
     "data": {
      "text/html": [
       " View run <strong style=\"color:#cdcd00\">ctgru-tfr0.5-lr0.0010943557294746198-es256-hs128-nl1-d0.3-bs64</strong> at: <a href='https://wandb.ai/ch21b021-indian-institute-of-technology-madras/DA6401-Assignment-3/runs/7xumr5o5' target=\"_blank\">https://wandb.ai/ch21b021-indian-institute-of-technology-madras/DA6401-Assignment-3/runs/7xumr5o5</a><br> View project at: <a href='https://wandb.ai/ch21b021-indian-institute-of-technology-madras/DA6401-Assignment-3' target=\"_blank\">https://wandb.ai/ch21b021-indian-institute-of-technology-madras/DA6401-Assignment-3</a><br>Synced 5 W&B file(s), 0 media file(s), 0 artifact file(s) and 0 other file(s)"
      ],
      "text/plain": [
       "<IPython.core.display.HTML object>"
      ]
     },
     "metadata": {},
     "output_type": "display_data"
    },
    {
     "data": {
      "text/html": [
       "Find logs at: <code>.\\wandb\\run-20250521_191735-7xumr5o5\\logs</code>"
      ],
      "text/plain": [
       "<IPython.core.display.HTML object>"
      ]
     },
     "metadata": {},
     "output_type": "display_data"
    },
    {
     "name": "stderr",
     "output_type": "stream",
     "text": [
      "\u001b[34m\u001b[1mwandb\u001b[0m: Sweep Agent: Waiting for job.\n",
      "\u001b[34m\u001b[1mwandb\u001b[0m: Job received.\n",
      "\u001b[34m\u001b[1mwandb\u001b[0m: Agent Starting Run: gxr2uo6q with config:\n",
      "\u001b[34m\u001b[1mwandb\u001b[0m: \tbatch_size: 64\n",
      "\u001b[34m\u001b[1mwandb\u001b[0m: \tcell_type: gru\n",
      "\u001b[34m\u001b[1mwandb\u001b[0m: \tclip: 1\n",
      "\u001b[34m\u001b[1mwandb\u001b[0m: \tdropout: 0.3\n",
      "\u001b[34m\u001b[1mwandb\u001b[0m: \tembedding_size: 256\n",
      "\u001b[34m\u001b[1mwandb\u001b[0m: \tepochs: 20\n",
      "\u001b[34m\u001b[1mwandb\u001b[0m: \thidden_size: 128\n",
      "\u001b[34m\u001b[1mwandb\u001b[0m: \tlearning_rate: 0.004108875385328682\n",
      "\u001b[34m\u001b[1mwandb\u001b[0m: \tnum_layers: 1\n",
      "\u001b[34m\u001b[1mwandb\u001b[0m: \tpatience: 5\n",
      "\u001b[34m\u001b[1mwandb\u001b[0m: \tseed: 42\n",
      "\u001b[34m\u001b[1mwandb\u001b[0m: \tteacher_forcing_ratio: 0.5\n",
      "d:\\Anaconda\\Lib\\site-packages\\pydantic\\main.py:308: UserWarning: Pydantic serializer warnings:\n",
      "  Expected `list[str]` but got `tuple` - serialized value may not be as expected\n",
      "  Expected `list[str]` but got `tuple` - serialized value may not be as expected\n",
      "  return self.__pydantic_serializer__.to_python(\n"
     ]
    },
    {
     "data": {
      "text/html": [
       "Tracking run with wandb version 0.19.11"
      ],
      "text/plain": [
       "<IPython.core.display.HTML object>"
      ]
     },
     "metadata": {},
     "output_type": "display_data"
    },
    {
     "data": {
      "text/html": [
       "Run data is saved locally in <code>d:\\Ayaan\\IITM\\Courses\\Sem 8\\DA6401\\DA6401-Assignment-3\\wandb\\run-20250521_193911-gxr2uo6q</code>"
      ],
      "text/plain": [
       "<IPython.core.display.HTML object>"
      ]
     },
     "metadata": {},
     "output_type": "display_data"
    },
    {
     "data": {
      "text/html": [
       "Syncing run <strong><a href='https://wandb.ai/ch21b021-indian-institute-of-technology-madras/DA6401-Assignment-3/runs/gxr2uo6q' target=\"_blank\">wise-sweep-13</a></strong> to <a href='https://wandb.ai/ch21b021-indian-institute-of-technology-madras/DA6401-Assignment-3' target=\"_blank\">Weights & Biases</a> (<a href='https://wandb.me/developer-guide' target=\"_blank\">docs</a>)<br>Sweep page: <a href='https://wandb.ai/ch21b021-indian-institute-of-technology-madras/DA6401-Assignment-3/sweeps/goazo3li' target=\"_blank\">https://wandb.ai/ch21b021-indian-institute-of-technology-madras/DA6401-Assignment-3/sweeps/goazo3li</a>"
      ],
      "text/plain": [
       "<IPython.core.display.HTML object>"
      ]
     },
     "metadata": {},
     "output_type": "display_data"
    },
    {
     "data": {
      "text/html": [
       " View project at <a href='https://wandb.ai/ch21b021-indian-institute-of-technology-madras/DA6401-Assignment-3' target=\"_blank\">https://wandb.ai/ch21b021-indian-institute-of-technology-madras/DA6401-Assignment-3</a>"
      ],
      "text/plain": [
       "<IPython.core.display.HTML object>"
      ]
     },
     "metadata": {},
     "output_type": "display_data"
    },
    {
     "data": {
      "text/html": [
       " View sweep at <a href='https://wandb.ai/ch21b021-indian-institute-of-technology-madras/DA6401-Assignment-3/sweeps/goazo3li' target=\"_blank\">https://wandb.ai/ch21b021-indian-institute-of-technology-madras/DA6401-Assignment-3/sweeps/goazo3li</a>"
      ],
      "text/plain": [
       "<IPython.core.display.HTML object>"
      ]
     },
     "metadata": {},
     "output_type": "display_data"
    },
    {
     "data": {
      "text/html": [
       " View run at <a href='https://wandb.ai/ch21b021-indian-institute-of-technology-madras/DA6401-Assignment-3/runs/gxr2uo6q' target=\"_blank\">https://wandb.ai/ch21b021-indian-institute-of-technology-madras/DA6401-Assignment-3/runs/gxr2uo6q</a>"
      ],
      "text/plain": [
       "<IPython.core.display.HTML object>"
      ]
     },
     "metadata": {},
     "output_type": "display_data"
    },
    {
     "name": "stdout",
     "output_type": "stream",
     "text": [
      "Using device: cuda\n"
     ]
    },
    {
     "name": "stderr",
     "output_type": "stream",
     "text": [
      "Epoch 17/20:  80%|████████  | 16/20 [20:51<05:12, 78.22s/it, train_loss=0.7244, val_acc=0.2237, val_loss=1.4798]"
     ]
    },
    {
     "name": "stdout",
     "output_type": "stream",
     "text": [
      "Early stopping after 17 epochs!\n",
      "\tBest model saved with val acc 0.217 at model_gxr2uo6q.pth\n"
     ]
    },
    {
     "name": "stderr",
     "output_type": "stream",
     "text": [
      "\n"
     ]
    },
    {
     "data": {
      "text/html": [],
      "text/plain": [
       "<IPython.core.display.HTML object>"
      ]
     },
     "metadata": {},
     "output_type": "display_data"
    },
    {
     "data": {
      "text/html": [
       "<br>    <style><br>        .wandb-row {<br>            display: flex;<br>            flex-direction: row;<br>            flex-wrap: wrap;<br>            justify-content: flex-start;<br>            width: 100%;<br>        }<br>        .wandb-col {<br>            display: flex;<br>            flex-direction: column;<br>            flex-basis: 100%;<br>            flex: 1;<br>            padding: 10px;<br>        }<br>    </style><br><div class=\"wandb-row\"><div class=\"wandb-col\"><h3>Run history:</h3><br/><table class=\"wandb\"><tr><td>best_val_accuracy</td><td>▁</td></tr><tr><td>best_val_loss</td><td>▁</td></tr><tr><td>epoch</td><td>▁▁▂▂▃▃▄▄▅▅▅▆▆▇▇██</td></tr><tr><td>train_loss</td><td>█▄▄▃▃▂▂▂▂▂▁▁▁▁▁▁▁</td></tr><tr><td>val_accuracy</td><td>▁▃▄▅▆▆▆▇▇▇▇█▇████</td></tr><tr><td>val_loss</td><td>█▅▄▄▃▃▃▃▂▁▁▁▁▁▁▁▁</td></tr></table><br/></div><div class=\"wandb-col\"><h3>Run summary:</h3><br/><table class=\"wandb\"><tr><td>best_val_accuracy</td><td>0.21734</td></tr><tr><td>best_val_loss</td><td>1.46608</td></tr><tr><td>epoch</td><td>17</td></tr><tr><td>train_loss</td><td>0.72436</td></tr><tr><td>val_accuracy</td><td>0.22372</td></tr><tr><td>val_loss</td><td>1.47981</td></tr></table><br/></div></div>"
      ],
      "text/plain": [
       "<IPython.core.display.HTML object>"
      ]
     },
     "metadata": {},
     "output_type": "display_data"
    },
    {
     "data": {
      "text/html": [
       " View run <strong style=\"color:#cdcd00\">ctgru-tfr0.5-lr0.004108875385328682-es256-hs128-nl1-d0.3-bs64</strong> at: <a href='https://wandb.ai/ch21b021-indian-institute-of-technology-madras/DA6401-Assignment-3/runs/gxr2uo6q' target=\"_blank\">https://wandb.ai/ch21b021-indian-institute-of-technology-madras/DA6401-Assignment-3/runs/gxr2uo6q</a><br> View project at: <a href='https://wandb.ai/ch21b021-indian-institute-of-technology-madras/DA6401-Assignment-3' target=\"_blank\">https://wandb.ai/ch21b021-indian-institute-of-technology-madras/DA6401-Assignment-3</a><br>Synced 5 W&B file(s), 0 media file(s), 0 artifact file(s) and 0 other file(s)"
      ],
      "text/plain": [
       "<IPython.core.display.HTML object>"
      ]
     },
     "metadata": {},
     "output_type": "display_data"
    },
    {
     "data": {
      "text/html": [
       "Find logs at: <code>.\\wandb\\run-20250521_193911-gxr2uo6q\\logs</code>"
      ],
      "text/plain": [
       "<IPython.core.display.HTML object>"
      ]
     },
     "metadata": {},
     "output_type": "display_data"
    },
    {
     "name": "stderr",
     "output_type": "stream",
     "text": [
      "\u001b[34m\u001b[1mwandb\u001b[0m: Agent Starting Run: arah4s8c with config:\n",
      "\u001b[34m\u001b[1mwandb\u001b[0m: \tbatch_size: 64\n",
      "\u001b[34m\u001b[1mwandb\u001b[0m: \tcell_type: gru\n",
      "\u001b[34m\u001b[1mwandb\u001b[0m: \tclip: 1\n",
      "\u001b[34m\u001b[1mwandb\u001b[0m: \tdropout: 0.3\n",
      "\u001b[34m\u001b[1mwandb\u001b[0m: \tembedding_size: 128\n",
      "\u001b[34m\u001b[1mwandb\u001b[0m: \tepochs: 20\n",
      "\u001b[34m\u001b[1mwandb\u001b[0m: \thidden_size: 128\n",
      "\u001b[34m\u001b[1mwandb\u001b[0m: \tlearning_rate: 0.002582458384243965\n",
      "\u001b[34m\u001b[1mwandb\u001b[0m: \tnum_layers: 2\n",
      "\u001b[34m\u001b[1mwandb\u001b[0m: \tpatience: 5\n",
      "\u001b[34m\u001b[1mwandb\u001b[0m: \tseed: 42\n",
      "\u001b[34m\u001b[1mwandb\u001b[0m: \tteacher_forcing_ratio: 0.5\n",
      "d:\\Anaconda\\Lib\\site-packages\\pydantic\\main.py:308: UserWarning: Pydantic serializer warnings:\n",
      "  Expected `list[str]` but got `tuple` - serialized value may not be as expected\n",
      "  Expected `list[str]` but got `tuple` - serialized value may not be as expected\n",
      "  return self.__pydantic_serializer__.to_python(\n"
     ]
    },
    {
     "data": {
      "text/html": [
       "Tracking run with wandb version 0.19.11"
      ],
      "text/plain": [
       "<IPython.core.display.HTML object>"
      ]
     },
     "metadata": {},
     "output_type": "display_data"
    },
    {
     "data": {
      "text/html": [
       "Run data is saved locally in <code>d:\\Ayaan\\IITM\\Courses\\Sem 8\\DA6401\\DA6401-Assignment-3\\wandb\\run-20250521_200013-arah4s8c</code>"
      ],
      "text/plain": [
       "<IPython.core.display.HTML object>"
      ]
     },
     "metadata": {},
     "output_type": "display_data"
    },
    {
     "data": {
      "text/html": [
       "Syncing run <strong><a href='https://wandb.ai/ch21b021-indian-institute-of-technology-madras/DA6401-Assignment-3/runs/arah4s8c' target=\"_blank\">kind-sweep-14</a></strong> to <a href='https://wandb.ai/ch21b021-indian-institute-of-technology-madras/DA6401-Assignment-3' target=\"_blank\">Weights & Biases</a> (<a href='https://wandb.me/developer-guide' target=\"_blank\">docs</a>)<br>Sweep page: <a href='https://wandb.ai/ch21b021-indian-institute-of-technology-madras/DA6401-Assignment-3/sweeps/goazo3li' target=\"_blank\">https://wandb.ai/ch21b021-indian-institute-of-technology-madras/DA6401-Assignment-3/sweeps/goazo3li</a>"
      ],
      "text/plain": [
       "<IPython.core.display.HTML object>"
      ]
     },
     "metadata": {},
     "output_type": "display_data"
    },
    {
     "data": {
      "text/html": [
       " View project at <a href='https://wandb.ai/ch21b021-indian-institute-of-technology-madras/DA6401-Assignment-3' target=\"_blank\">https://wandb.ai/ch21b021-indian-institute-of-technology-madras/DA6401-Assignment-3</a>"
      ],
      "text/plain": [
       "<IPython.core.display.HTML object>"
      ]
     },
     "metadata": {},
     "output_type": "display_data"
    },
    {
     "data": {
      "text/html": [
       " View sweep at <a href='https://wandb.ai/ch21b021-indian-institute-of-technology-madras/DA6401-Assignment-3/sweeps/goazo3li' target=\"_blank\">https://wandb.ai/ch21b021-indian-institute-of-technology-madras/DA6401-Assignment-3/sweeps/goazo3li</a>"
      ],
      "text/plain": [
       "<IPython.core.display.HTML object>"
      ]
     },
     "metadata": {},
     "output_type": "display_data"
    },
    {
     "data": {
      "text/html": [
       " View run at <a href='https://wandb.ai/ch21b021-indian-institute-of-technology-madras/DA6401-Assignment-3/runs/arah4s8c' target=\"_blank\">https://wandb.ai/ch21b021-indian-institute-of-technology-madras/DA6401-Assignment-3/runs/arah4s8c</a>"
      ],
      "text/plain": [
       "<IPython.core.display.HTML object>"
      ]
     },
     "metadata": {},
     "output_type": "display_data"
    },
    {
     "name": "stdout",
     "output_type": "stream",
     "text": [
      "Using device: cuda\n"
     ]
    },
    {
     "name": "stderr",
     "output_type": "stream",
     "text": [
      "Epoch 12/20:  55%|█████▌    | 11/20 [16:46<13:43, 91.49s/it, train_loss=0.5524, val_acc=0.3207, val_loss=1.1998]"
     ]
    },
    {
     "name": "stdout",
     "output_type": "stream",
     "text": [
      "Early stopping after 12 epochs!\n",
      "\tBest model saved with val acc 0.326 at model_arah4s8c.pth\n"
     ]
    },
    {
     "name": "stderr",
     "output_type": "stream",
     "text": [
      "\n"
     ]
    },
    {
     "data": {
      "text/html": [],
      "text/plain": [
       "<IPython.core.display.HTML object>"
      ]
     },
     "metadata": {},
     "output_type": "display_data"
    },
    {
     "data": {
      "text/html": [
       "<br>    <style><br>        .wandb-row {<br>            display: flex;<br>            flex-direction: row;<br>            flex-wrap: wrap;<br>            justify-content: flex-start;<br>            width: 100%;<br>        }<br>        .wandb-col {<br>            display: flex;<br>            flex-direction: column;<br>            flex-basis: 100%;<br>            flex: 1;<br>            padding: 10px;<br>        }<br>    </style><br><div class=\"wandb-row\"><div class=\"wandb-col\"><h3>Run history:</h3><br/><table class=\"wandb\"><tr><td>best_val_accuracy</td><td>▁</td></tr><tr><td>best_val_loss</td><td>▁</td></tr><tr><td>epoch</td><td>▁▂▂▃▄▄▅▅▆▇▇█</td></tr><tr><td>train_loss</td><td>█▄▃▂▂▂▁▁▁▁▁▁</td></tr><tr><td>val_accuracy</td><td>▁▄▅▆▇▇▇▇████</td></tr><tr><td>val_loss</td><td>█▄▄▂▃▁▁▃▁▁▁▂</td></tr></table><br/></div><div class=\"wandb-col\"><h3>Run summary:</h3><br/><table class=\"wandb\"><tr><td>best_val_accuracy</td><td>0.32601</td></tr><tr><td>best_val_loss</td><td>1.16229</td></tr><tr><td>epoch</td><td>12</td></tr><tr><td>train_loss</td><td>0.55244</td></tr><tr><td>val_accuracy</td><td>0.32069</td></tr><tr><td>val_loss</td><td>1.19976</td></tr></table><br/></div></div>"
      ],
      "text/plain": [
       "<IPython.core.display.HTML object>"
      ]
     },
     "metadata": {},
     "output_type": "display_data"
    },
    {
     "data": {
      "text/html": [
       " View run <strong style=\"color:#cdcd00\">ctgru-tfr0.5-lr0.002582458384243965-es128-hs128-nl2-d0.3-bs64</strong> at: <a href='https://wandb.ai/ch21b021-indian-institute-of-technology-madras/DA6401-Assignment-3/runs/arah4s8c' target=\"_blank\">https://wandb.ai/ch21b021-indian-institute-of-technology-madras/DA6401-Assignment-3/runs/arah4s8c</a><br> View project at: <a href='https://wandb.ai/ch21b021-indian-institute-of-technology-madras/DA6401-Assignment-3' target=\"_blank\">https://wandb.ai/ch21b021-indian-institute-of-technology-madras/DA6401-Assignment-3</a><br>Synced 5 W&B file(s), 0 media file(s), 0 artifact file(s) and 0 other file(s)"
      ],
      "text/plain": [
       "<IPython.core.display.HTML object>"
      ]
     },
     "metadata": {},
     "output_type": "display_data"
    },
    {
     "data": {
      "text/html": [
       "Find logs at: <code>.\\wandb\\run-20250521_200013-arah4s8c\\logs</code>"
      ],
      "text/plain": [
       "<IPython.core.display.HTML object>"
      ]
     },
     "metadata": {},
     "output_type": "display_data"
    },
    {
     "name": "stderr",
     "output_type": "stream",
     "text": [
      "\u001b[34m\u001b[1mwandb\u001b[0m: Sweep Agent: Waiting for job.\n",
      "\u001b[34m\u001b[1mwandb\u001b[0m: Job received.\n",
      "\u001b[34m\u001b[1mwandb\u001b[0m: Agent Starting Run: sufjutft with config:\n",
      "\u001b[34m\u001b[1mwandb\u001b[0m: \tbatch_size: 64\n",
      "\u001b[34m\u001b[1mwandb\u001b[0m: \tcell_type: gru\n",
      "\u001b[34m\u001b[1mwandb\u001b[0m: \tclip: 1\n",
      "\u001b[34m\u001b[1mwandb\u001b[0m: \tdropout: 0.3\n",
      "\u001b[34m\u001b[1mwandb\u001b[0m: \tembedding_size: 128\n",
      "\u001b[34m\u001b[1mwandb\u001b[0m: \tepochs: 20\n",
      "\u001b[34m\u001b[1mwandb\u001b[0m: \thidden_size: 256\n",
      "\u001b[34m\u001b[1mwandb\u001b[0m: \tlearning_rate: 0.004918313031676984\n",
      "\u001b[34m\u001b[1mwandb\u001b[0m: \tnum_layers: 2\n",
      "\u001b[34m\u001b[1mwandb\u001b[0m: \tpatience: 5\n",
      "\u001b[34m\u001b[1mwandb\u001b[0m: \tseed: 42\n",
      "\u001b[34m\u001b[1mwandb\u001b[0m: \tteacher_forcing_ratio: 0.7\n",
      "d:\\Anaconda\\Lib\\site-packages\\pydantic\\main.py:308: UserWarning: Pydantic serializer warnings:\n",
      "  Expected `list[str]` but got `tuple` - serialized value may not be as expected\n",
      "  Expected `list[str]` but got `tuple` - serialized value may not be as expected\n",
      "  return self.__pydantic_serializer__.to_python(\n"
     ]
    },
    {
     "data": {
      "text/html": [
       "Tracking run with wandb version 0.19.11"
      ],
      "text/plain": [
       "<IPython.core.display.HTML object>"
      ]
     },
     "metadata": {},
     "output_type": "display_data"
    },
    {
     "data": {
      "text/html": [
       "Run data is saved locally in <code>d:\\Ayaan\\IITM\\Courses\\Sem 8\\DA6401\\DA6401-Assignment-3\\wandb\\run-20250521_201726-sufjutft</code>"
      ],
      "text/plain": [
       "<IPython.core.display.HTML object>"
      ]
     },
     "metadata": {},
     "output_type": "display_data"
    },
    {
     "data": {
      "text/html": [
       "Syncing run <strong><a href='https://wandb.ai/ch21b021-indian-institute-of-technology-madras/DA6401-Assignment-3/runs/sufjutft' target=\"_blank\">trim-sweep-15</a></strong> to <a href='https://wandb.ai/ch21b021-indian-institute-of-technology-madras/DA6401-Assignment-3' target=\"_blank\">Weights & Biases</a> (<a href='https://wandb.me/developer-guide' target=\"_blank\">docs</a>)<br>Sweep page: <a href='https://wandb.ai/ch21b021-indian-institute-of-technology-madras/DA6401-Assignment-3/sweeps/goazo3li' target=\"_blank\">https://wandb.ai/ch21b021-indian-institute-of-technology-madras/DA6401-Assignment-3/sweeps/goazo3li</a>"
      ],
      "text/plain": [
       "<IPython.core.display.HTML object>"
      ]
     },
     "metadata": {},
     "output_type": "display_data"
    },
    {
     "data": {
      "text/html": [
       " View project at <a href='https://wandb.ai/ch21b021-indian-institute-of-technology-madras/DA6401-Assignment-3' target=\"_blank\">https://wandb.ai/ch21b021-indian-institute-of-technology-madras/DA6401-Assignment-3</a>"
      ],
      "text/plain": [
       "<IPython.core.display.HTML object>"
      ]
     },
     "metadata": {},
     "output_type": "display_data"
    },
    {
     "data": {
      "text/html": [
       " View sweep at <a href='https://wandb.ai/ch21b021-indian-institute-of-technology-madras/DA6401-Assignment-3/sweeps/goazo3li' target=\"_blank\">https://wandb.ai/ch21b021-indian-institute-of-technology-madras/DA6401-Assignment-3/sweeps/goazo3li</a>"
      ],
      "text/plain": [
       "<IPython.core.display.HTML object>"
      ]
     },
     "metadata": {},
     "output_type": "display_data"
    },
    {
     "data": {
      "text/html": [
       " View run at <a href='https://wandb.ai/ch21b021-indian-institute-of-technology-madras/DA6401-Assignment-3/runs/sufjutft' target=\"_blank\">https://wandb.ai/ch21b021-indian-institute-of-technology-madras/DA6401-Assignment-3/runs/sufjutft</a>"
      ],
      "text/plain": [
       "<IPython.core.display.HTML object>"
      ]
     },
     "metadata": {},
     "output_type": "display_data"
    },
    {
     "name": "stdout",
     "output_type": "stream",
     "text": [
      "Using device: cuda\n"
     ]
    },
    {
     "name": "stderr",
     "output_type": "stream",
     "text": [
      "Epoch 8/20:  35%|███▌      | 7/20 [11:56<22:10, 102.35s/it, train_loss=0.8939, val_acc=0.1822, val_loss=1.7384]"
     ]
    },
    {
     "name": "stdout",
     "output_type": "stream",
     "text": [
      "Early stopping after 8 epochs!\n",
      "\tBest model saved with val acc 0.182 at model_sufjutft.pth\n"
     ]
    },
    {
     "name": "stderr",
     "output_type": "stream",
     "text": [
      "\n"
     ]
    },
    {
     "data": {
      "text/html": [],
      "text/plain": [
       "<IPython.core.display.HTML object>"
      ]
     },
     "metadata": {},
     "output_type": "display_data"
    },
    {
     "data": {
      "text/html": [
       "<br>    <style><br>        .wandb-row {<br>            display: flex;<br>            flex-direction: row;<br>            flex-wrap: wrap;<br>            justify-content: flex-start;<br>            width: 100%;<br>        }<br>        .wandb-col {<br>            display: flex;<br>            flex-direction: column;<br>            flex-basis: 100%;<br>            flex: 1;<br>            padding: 10px;<br>        }<br>    </style><br><div class=\"wandb-row\"><div class=\"wandb-col\"><h3>Run history:</h3><br/><table class=\"wandb\"><tr><td>best_val_accuracy</td><td>▁</td></tr><tr><td>best_val_loss</td><td>▁</td></tr><tr><td>epoch</td><td>▁▂▃▄▅▆▇█</td></tr><tr><td>train_loss</td><td>█▁▁▁▁▁▂▁</td></tr><tr><td>val_accuracy</td><td>▃▁█▆▅▅▅▆</td></tr><tr><td>val_loss</td><td>▆█▄▁█▄▂▂</td></tr></table><br/></div><div class=\"wandb-col\"><h3>Run summary:</h3><br/><table class=\"wandb\"><tr><td>best_val_accuracy</td><td>0.18206</td></tr><tr><td>best_val_loss</td><td>1.71876</td></tr><tr><td>epoch</td><td>8</td></tr><tr><td>train_loss</td><td>0.89385</td></tr><tr><td>val_accuracy</td><td>0.18224</td></tr><tr><td>val_loss</td><td>1.73838</td></tr></table><br/></div></div>"
      ],
      "text/plain": [
       "<IPython.core.display.HTML object>"
      ]
     },
     "metadata": {},
     "output_type": "display_data"
    },
    {
     "data": {
      "text/html": [
       " View run <strong style=\"color:#cdcd00\">ctgru-tfr0.7-lr0.004918313031676984-es128-hs256-nl2-d0.3-bs64</strong> at: <a href='https://wandb.ai/ch21b021-indian-institute-of-technology-madras/DA6401-Assignment-3/runs/sufjutft' target=\"_blank\">https://wandb.ai/ch21b021-indian-institute-of-technology-madras/DA6401-Assignment-3/runs/sufjutft</a><br> View project at: <a href='https://wandb.ai/ch21b021-indian-institute-of-technology-madras/DA6401-Assignment-3' target=\"_blank\">https://wandb.ai/ch21b021-indian-institute-of-technology-madras/DA6401-Assignment-3</a><br>Synced 5 W&B file(s), 0 media file(s), 0 artifact file(s) and 0 other file(s)"
      ],
      "text/plain": [
       "<IPython.core.display.HTML object>"
      ]
     },
     "metadata": {},
     "output_type": "display_data"
    },
    {
     "data": {
      "text/html": [
       "Find logs at: <code>.\\wandb\\run-20250521_201726-sufjutft\\logs</code>"
      ],
      "text/plain": [
       "<IPython.core.display.HTML object>"
      ]
     },
     "metadata": {},
     "output_type": "display_data"
    }
   ],
   "source": [
    "sweep_id = wandb.sweep(sweep_config, project='DA6401-Assignment-3')\n",
    "\n",
    "# Run the sweep\n",
    "wandb.agent(sweep_id, train_with_wandb, count=15)"
   ]
  },
  {
   "cell_type": "markdown",
   "id": "79485214",
   "metadata": {},
   "source": [
    "# Model Inference"
   ]
  },
  {
   "cell_type": "code",
   "execution_count": null,
   "id": "28e47cd2",
   "metadata": {},
   "outputs": [],
   "source": [
    "def analyze_errors(predictions):\n",
    "    \"\"\"\n",
    "    Analyze the errors made by the model\n",
    "    \"\"\"\n",
    "    # Analyze error patterns\n",
    "    errors = [(source, pred, target) for source, pred, target in predictions if pred != target]\n",
    "    \n",
    "    # # Error by length\n",
    "    # length_errors = {}\n",
    "    # for source, _, target in errors:\n",
    "    #     length = len(source)\n",
    "    #     if length not in length_errors:\n",
    "    #         length_errors[length] = 0\n",
    "    #     length_errors[length] += 1\n",
    "    \n",
    "    # # Sort by length\n",
    "    # sorted_length_errors = {k: v for k, v in sorted(length_errors.items())}\n",
    "    \n",
    "    # plt.figure(figsize=(10, 6))\n",
    "    # plt.bar(sorted_length_errors.keys(), sorted_length_errors.values())\n",
    "    # plt.xlabel('Source Length')\n",
    "    # plt.ylabel('Number of Errors')\n",
    "    # plt.title('Errors by Source Length')\n",
    "    # plt.savefig('predictions_vanilla/errors_by_length.png')\n",
    "    \n",
    "    # Sample error analysis\n",
    "    print(\"\\nSample Error Analysis:\")\n",
    "    for i, (source, pred, target) in enumerate(errors[:10]):\n",
    "        print(f'Source: {source}')\n",
    "        print(f'Prediction: {pred}')\n",
    "        print(f'Target: {target}')\n",
    "        print()"
   ]
  },
  {
   "cell_type": "code",
   "execution_count": 26,
   "id": "85e2f6ea",
   "metadata": {},
   "outputs": [],
   "source": [
    "def test_model(config, model_path):\n",
    "    # Load datasets\n",
    "    train_dataset_path = \"dakshina_dataset_v1.0/ml/lexicons/ml.translit.sampled.train.tsv\"\n",
    "    test_dataset_path = \"dakshina_dataset_v1.0/ml/lexicons/ml.translit.sampled.test.tsv\"\n",
    "    \n",
    "    train_dataset, _ = prepare_data(train_dataset_path, batch_size=config['batch_size'], shuffle=False)\n",
    "    test_dataset, test_dataloader = prepare_data(test_dataset_path, batch_size=config['batch_size'], shuffle=False)\n",
    "    \n",
    "    # Make sure test dataset uses the same vocabulary as training\n",
    "    test_dataset.source_char_to_idx = train_dataset.source_char_to_idx\n",
    "    test_dataset.source_idx_to_char = train_dataset.source_idx_to_char\n",
    "    test_dataset.target_char_to_idx = train_dataset.target_char_to_idx\n",
    "    test_dataset.target_idx_to_char = train_dataset.target_idx_to_char\n",
    "\n",
    "    # Initialize model with best configuration\n",
    "    input_size = train_dataset.get_vocab_size('source')\n",
    "    output_size = train_dataset.get_vocab_size('target')\n",
    "        \n",
    "    # Device\n",
    "    device = torch.device('cuda' if torch.cuda.is_available() else 'cpu')\n",
    "    print(f\"Using device: {device}\")    \n",
    "\n",
    "    encoder = Encoder(\n",
    "        input_size=input_size, \n",
    "        embedding_size=config['embedding_size'], \n",
    "        hidden_size=config['hidden_size'], \n",
    "        n_layers=config['num_layers'], \n",
    "        dropout=config['dropout'],\n",
    "        cell_type=config['cell_type']\n",
    "    )\n",
    "    \n",
    "    decoder = Decoder(\n",
    "        output_size=output_size, \n",
    "        embedding_size=config['embedding_size'], \n",
    "        hidden_size=config['hidden_size'], \n",
    "        n_layers=config['num_layers'], \n",
    "        dropout=config['dropout'],\n",
    "        cell_type=config['cell_type']\n",
    "    )\n",
    "    \n",
    "    model = Seq2Seq(encoder, decoder, device).to(device)\n",
    "    \n",
    "    # Load model parameters\n",
    "    model.load_state_dict(torch.load(model_path))\n",
    "    \n",
    "    # Evaluate on test set\n",
    "    test_accuracy, test_predictions = calculate_accuracy(model, device, test_dataloader, test_dataset)\n",
    "    \n",
    "    print(f'Test Accuracy: {test_accuracy:.3f}')\n",
    "    \n",
    "    # Save predictions to file\n",
    "    with open('predictions_vanilla/test_predictions.txt', 'w', encoding='utf-8') as f:\n",
    "        for source, pred, target in test_predictions:\n",
    "            f.write(f'Source: {source}\\n')\n",
    "            f.write(f'Prediction: {pred}\\n')\n",
    "            f.write(f'Target: {target}\\n\\n')\n",
    "    \n",
    "    analyze_errors(test_predictions)\n",
    "\n",
    "    return test_accuracy, test_predictions"
   ]
  },
  {
   "cell_type": "code",
   "execution_count": 77,
   "id": "69ece1ad",
   "metadata": {},
   "outputs": [],
   "source": [
    "import matplotlib.font_manager as fm\n",
    "import math\n",
    "import pandas as pd"
   ]
  },
  {
   "cell_type": "code",
   "execution_count": 96,
   "id": "6b0ee2e6",
   "metadata": {},
   "outputs": [],
   "source": [
    "# Path to a font that supports Malayalam\n",
    "MALAYALAM_FONT_PATH = \"D:/Ayaan/IITM/Courses/Sem 8/DA6401/Noto_Sans_Malayalam/Noto_Sans_Malayalam/NotoSansMalayalam-VariableFont_wdth,wght.ttf\""
   ]
  },
  {
   "cell_type": "code",
   "execution_count": 81,
   "id": "84f734b8",
   "metadata": {},
   "outputs": [],
   "source": [
    "def visualize_predictions(predictions, num_correct=5, num_incorrect=5):\n",
    "    global MALAYALAM_FONT_PATH\n",
    "    \n",
    "    # Separate correct and incorrect predictions\n",
    "    correct_preds = [(src, pred, tgt) for src, pred, tgt in predictions if pred == tgt]\n",
    "    incorrect_preds = [(src, pred, tgt) for src, pred, tgt in predictions if pred != tgt]\n",
    "    \n",
    "    random.seed(42)\n",
    "\n",
    "    # Sample predictions\n",
    "    sample_correct = random.sample(correct_preds, min(num_correct, len(correct_preds)))\n",
    "    sample_incorrect = random.sample(incorrect_preds, min(num_incorrect, len(incorrect_preds)))\n",
    "    samples = sample_correct + sample_incorrect\n",
    "    \n",
    "    total_samples = len(samples)\n",
    "    ncols = 5\n",
    "    nrows = math.ceil(total_samples / ncols)\n",
    "    \n",
    "    fig, axes = plt.subplots(nrows=nrows, ncols=ncols, figsize=(15, nrows * 1.5))\n",
    "    axes = axes.flatten() if total_samples > 1 else [axes]\n",
    "\n",
    "    # Load and set Malayalam font if available\n",
    "    if os.path.exists(MALAYALAM_FONT_PATH):\n",
    "        font_prop = fm.FontProperties(fname=MALAYALAM_FONT_PATH)\n",
    "    else:\n",
    "        font_prop = None\n",
    "\n",
    "    for i, ax in enumerate(axes):\n",
    "        ax.axis('off')\n",
    "        if i >= total_samples:\n",
    "            continue\n",
    "        \n",
    "        src, pred, tgt = samples[i]\n",
    "        is_correct = pred == tgt\n",
    "        color = 'green' if is_correct else 'red'\n",
    "\n",
    "        # Compose text\n",
    "        text = f\"Input: {src}\\nPrediction: {pred}\\nTarget: {tgt}\"\n",
    "\n",
    "        # Add text with optional font\n",
    "        ax.text(0.01, 0.5, text, fontsize=12, color=color, va='center', ha='left',\n",
    "                fontproperties=font_prop, wrap=True)\n",
    "\n",
    "    plt.tight_layout()\n",
    "    plt.show()\n",
    "\n",
    "    # Create a DataFrame\n",
    "    df = pd.DataFrame(samples, columns=[\"Input\", \"Prediction\", \"Target\"])\n",
    "    df[\"Correct\"] = df[\"Prediction\"] == df[\"Target\"]\n",
    "    df[\"Status\"] = df[\"Correct\"].map({True: \"Correct\", False: \"False\"})\n",
    "    df.drop('Correct', axis=1, inplace=True)\n",
    "\n",
    "    return fig, df"
   ]
  },
  {
   "cell_type": "code",
   "execution_count": 88,
   "id": "97707f8a",
   "metadata": {},
   "outputs": [],
   "source": [
    "from collections import Counter, defaultdict\n",
    "import seaborn as sns\n",
    "import pandas as pd\n",
    "import matplotlib as mpl"
   ]
  },
  {
   "cell_type": "code",
   "execution_count": 101,
   "id": "f5059065",
   "metadata": {},
   "outputs": [],
   "source": [
    "# Create confusion matrix for the most common errors\n",
    "def create_character_confusion_matrix(predictions, top_n=10):\n",
    "    \"\"\"\n",
    "    Create a confusion matrix for top N most confused characters\n",
    "    Args:\n",
    "        predictions: List of (source, prediction, target) tuples\n",
    "        top_n: Number of top confused character pairs to show\n",
    "    \n",
    "    Returns:\n",
    "        fig: Confusion matrix figure\n",
    "    \"\"\"\n",
    "    # Character level confusion counts\n",
    "    char_confusions = defaultdict(Counter)\n",
    "    \n",
    "    for _, pred, target in predictions:\n",
    "        if pred == target:\n",
    "            continue  # Skip correct predictions\n",
    "        \n",
    "        # Use dynamic programming to find the minimum edit distance and alignment\n",
    "        m, n = len(pred), len(target)\n",
    "        dp = [[0] * (n + 1) for _ in range(m + 1)]\n",
    "        \n",
    "        # Initialize dp matrix\n",
    "        for i in range(m + 1):\n",
    "            dp[i][0] = i\n",
    "        for j in range(n + 1):\n",
    "            dp[0][j] = j\n",
    "        \n",
    "        # Fill dp matrix\n",
    "        for i in range(1, m + 1):\n",
    "            for j in range(1, n + 1):\n",
    "                if pred[i-1] == target[j-1]:\n",
    "                    dp[i][j] = dp[i-1][j-1]\n",
    "                else:\n",
    "                    dp[i][j] = 1 + min(dp[i-1][j],      # deletion\n",
    "                                       dp[i][j-1],      # insertion\n",
    "                                       dp[i-1][j-1])    # substitution\n",
    "        \n",
    "        # Backtrack to find alignment\n",
    "        i, j = m, n\n",
    "        while i > 0 and j > 0:\n",
    "            if pred[i-1] == target[j-1]:\n",
    "                i -= 1\n",
    "                j -= 1\n",
    "            else:\n",
    "                min_op = min(dp[i-1][j], dp[i][j-1], dp[i-1][j-1])\n",
    "                if dp[i-1][j-1] == min_op:  # substitution\n",
    "                    char_confusions[target[j-1]][pred[i-1]] += 1\n",
    "                    i -= 1\n",
    "                    j -= 1\n",
    "                elif dp[i-1][j] == min_op:  # deletion\n",
    "                    char_confusions[target[j-1]]['_DEL_'] += 1\n",
    "                    i -= 1\n",
    "                else:  # insertion\n",
    "                    char_confusions['_INS_'][pred[i-1]] += 1\n",
    "                    j -= 1\n",
    "    \n",
    "    # Find the most confused characters\n",
    "    all_confusions = []\n",
    "    for true_char, pred_counts in char_confusions.items():\n",
    "        for pred_char, count in pred_counts.items():\n",
    "            all_confusions.append((true_char, pred_char, count))\n",
    "    \n",
    "    # Sort by count in descending order\n",
    "    all_confusions.sort(key=lambda x: x[2], reverse=True)\n",
    "    \n",
    "    # Take top N\n",
    "    top_confusions = all_confusions[:top_n]\n",
    "    \n",
    "    # Create confusion matrix dataframe\n",
    "    true_chars = [t for t, _, _ in top_confusions]\n",
    "    pred_chars = [p for _, p, _ in top_confusions]\n",
    "    \n",
    "    unique_chars = sorted(set(true_chars + pred_chars))\n",
    "    conf_matrix = pd.DataFrame(0, index=unique_chars, columns=unique_chars)\n",
    "    \n",
    "    for true_char, pred_char, count in top_confusions:\n",
    "        conf_matrix.loc[true_char, pred_char] = count\n",
    "    \n",
    "    # Load and set Malayalam font if available\n",
    "    if os.path.exists(MALAYALAM_FONT_PATH):\n",
    "        font_prop = fm.FontProperties(fname=MALAYALAM_FONT_PATH)\n",
    "        fontname = font_prop.get_name()\n",
    "\n",
    "        # Set global font\n",
    "        mpl.rcParams['font.family'] = fontname\n",
    "    else:\n",
    "        font_prop = None\n",
    "    \n",
    "    # Plot\n",
    "    plt.figure(figsize=(12, 10))\n",
    "    ax = sns.heatmap(conf_matrix, annot=True, fmt='d', cmap='Blues', \n",
    "                     cbar=False, linewidths=0.5, linecolor='gray',\n",
    "                     annot_kws={'fontproperties': font_prop} if font_prop else None)\n",
    "\n",
    "    ax.set_title(f'Top {top_n} Character Confusion Pairs', fontsize=16, fontproperties=font_prop)\n",
    "    ax.set_xlabel('Predicted Character', fontsize=14, fontproperties=font_prop)\n",
    "    ax.set_ylabel('True Character', fontsize=14, fontproperties=font_prop)\n",
    "\n",
    "    # Update tick labels font\n",
    "    for label in ax.get_xticklabels():\n",
    "        label.set_fontproperties(font_prop)\n",
    "    for label in ax.get_yticklabels():\n",
    "        label.set_fontproperties(font_prop)\n",
    "\n",
    "    plt.xticks(rotation=45, ha='right')\n",
    "    plt.yticks(rotation=0)\n",
    "    plt.tight_layout()\n",
    "    plt.show()\n",
    "\n",
    "    # Convert to dataframe\n",
    "    df = pd.DataFrame(top_confusions, columns=[\"True Character\", \"Predicted Character\", \"Count\"])\n",
    "\n",
    "    return plt, df"
   ]
  },
  {
   "cell_type": "code",
   "execution_count": null,
   "id": "158bbe66",
   "metadata": {},
   "outputs": [],
   "source": [
    "# Create a directory for predictions if it doesn't exist\n",
    "if not os.path.exists('predictions_vanilla'):\n",
    "    os.makedirs('predictions_vanilla')"
   ]
  },
  {
   "cell_type": "code",
   "execution_count": null,
   "id": "12b52238",
   "metadata": {},
   "outputs": [],
   "source": [
    "best_config = {'embedding_size': 128, 'hidden_size': 128, 'num_layers': 1, 'dropout': 0.3, 'cell_type': \"gru\", 'batch_size': 64}\n",
    "best_model_path = \"models/model_b0pab09l.pth\"\n",
    "\n",
    "test_accuracy, predictions = test_model(config=best_config, model_path=best_model_path)"
   ]
  },
  {
   "cell_type": "code",
   "execution_count": null,
   "id": "f3788167",
   "metadata": {},
   "outputs": [],
   "source": [
    "# Create a more creative visualization with color coding\n",
    "pred_fig, pred_df = visualize_predictions(predictions)\n",
    "\n",
    "pred_df"
   ]
  },
  {
   "cell_type": "code",
   "execution_count": null,
   "id": "f7cfd123",
   "metadata": {},
   "outputs": [],
   "source": [
    "# Analyze the most common errors\n",
    "conf_fig, conf_df = create_character_confusion_matrix(predictions, top_n=20)\n",
    "\n",
    "conf_df"
   ]
  },
  {
   "cell_type": "code",
   "execution_count": null,
   "id": "4b43a536",
   "metadata": {},
   "outputs": [],
   "source": [
    "def test_with_wandb(run_name, config, model_path):\n",
    "    # Initialize wandb\n",
    "    wandb.init(project=\"DA6401-Assignment-3\", name=run_name, tags=[\"test\", \"vanilla\", \"evaluation\"])\n",
    "    \n",
    "    test_accuracy, predictions = test_model(config=config, model_path=model_path)\n",
    "    # Log to wandb\n",
    "    wandb.log({\"test_accuracy\": test_accuracy})\n",
    "\n",
    "    pred_fig, pred_df = visualize_predictions(predictions)\n",
    "    pred_table = wandb.Table(dataframe=pred_df)\n",
    "    # Log to wandb\n",
    "    wandb.log({\"sample_predictions_table\": pred_table})\n",
    "    wandb.log({\"sample_predictions\": wandb.Image(pred_fig)})\n",
    "    \n",
    "    conf_mat, conf_df = create_character_confusion_matrix(predictions)\n",
    "    # Log to wandb\n",
    "    wandb.log({\"character_confusions_table\": wandb.Image(conf_mat)})\n",
    "    conf_table = wandb.Table(dataframe=conf_df)\n",
    "    wandb.log({\"character_confusions\": conf_table})"
   ]
  },
  {
   "cell_type": "code",
   "execution_count": 106,
   "id": "4ba38535",
   "metadata": {},
   "outputs": [
    {
     "data": {
      "text/html": [
       "Changes to your `wandb` environment variables will be ignored because your `wandb` session has already started. For more information on how to modify your settings with `wandb.init()` arguments, please refer to <a href='https://wandb.me/wandb-init' target=\"_blank\">the W&B docs</a>."
      ],
      "text/plain": [
       "<IPython.core.display.HTML object>"
      ]
     },
     "metadata": {},
     "output_type": "display_data"
    },
    {
     "data": {
      "text/html": [
       "Ignoring project 'DA6401-Assignment-3' when running a sweep."
      ],
      "text/plain": [
       "<IPython.core.display.HTML object>"
      ]
     },
     "metadata": {},
     "output_type": "display_data"
    },
    {
     "data": {
      "text/html": [
       "Finishing previous runs because reinit is set to 'default'."
      ],
      "text/plain": [
       "<IPython.core.display.HTML object>"
      ]
     },
     "metadata": {},
     "output_type": "display_data"
    },
    {
     "data": {
      "text/html": [],
      "text/plain": [
       "<IPython.core.display.HTML object>"
      ]
     },
     "metadata": {},
     "output_type": "display_data"
    },
    {
     "data": {
      "text/html": [
       "<br>    <style><br>        .wandb-row {<br>            display: flex;<br>            flex-direction: row;<br>            flex-wrap: wrap;<br>            justify-content: flex-start;<br>            width: 100%;<br>        }<br>        .wandb-col {<br>            display: flex;<br>            flex-direction: column;<br>            flex-basis: 100%;<br>            flex: 1;<br>            padding: 10px;<br>        }<br>    </style><br><div class=\"wandb-row\"><div class=\"wandb-col\"><h3>Run history:</h3><br/><table class=\"wandb\"><tr><td>test_accuracy</td><td>▁</td></tr></table><br/></div><div class=\"wandb-col\"><h3>Run summary:</h3><br/><table class=\"wandb\"><tr><td>test_accuracy</td><td>0.31979</td></tr></table><br/></div></div>"
      ],
      "text/plain": [
       "<IPython.core.display.HTML object>"
      ]
     },
     "metadata": {},
     "output_type": "display_data"
    },
    {
     "data": {
      "text/html": [
       " View run <strong style=\"color:#cdcd00\">test-vanilla-evaluation</strong> at: <a href='https://wandb.ai/ch21b021-indian-institute-of-technology-madras/DA6401-Assignment-3/runs/sufjutft' target=\"_blank\">https://wandb.ai/ch21b021-indian-institute-of-technology-madras/DA6401-Assignment-3/runs/sufjutft</a><br> View project at: <a href='https://wandb.ai/ch21b021-indian-institute-of-technology-madras/DA6401-Assignment-3' target=\"_blank\">https://wandb.ai/ch21b021-indian-institute-of-technology-madras/DA6401-Assignment-3</a><br>Synced 5 W&B file(s), 4 media file(s), 4 artifact file(s) and 0 other file(s)"
      ],
      "text/plain": [
       "<IPython.core.display.HTML object>"
      ]
     },
     "metadata": {},
     "output_type": "display_data"
    },
    {
     "data": {
      "text/html": [
       "Find logs at: <code>.\\wandb\\run-20250521_215438-sufjutft\\logs</code>"
      ],
      "text/plain": [
       "<IPython.core.display.HTML object>"
      ]
     },
     "metadata": {},
     "output_type": "display_data"
    },
    {
     "name": "stderr",
     "output_type": "stream",
     "text": [
      "d:\\Anaconda\\Lib\\site-packages\\pydantic\\main.py:308: UserWarning: Pydantic serializer warnings:\n",
      "  Expected `list[str]` but got `tuple` - serialized value may not be as expected\n",
      "  Expected `list[str]` but got `tuple` - serialized value may not be as expected\n",
      "  return self.__pydantic_serializer__.to_python(\n"
     ]
    },
    {
     "data": {
      "text/html": [
       "Tracking run with wandb version 0.19.11"
      ],
      "text/plain": [
       "<IPython.core.display.HTML object>"
      ]
     },
     "metadata": {},
     "output_type": "display_data"
    },
    {
     "data": {
      "text/html": [
       "Run data is saved locally in <code>d:\\Ayaan\\IITM\\Courses\\Sem 8\\DA6401\\DA6401-Assignment-3\\wandb\\run-20250521_221545-sufjutft</code>"
      ],
      "text/plain": [
       "<IPython.core.display.HTML object>"
      ]
     },
     "metadata": {},
     "output_type": "display_data"
    },
    {
     "data": {
      "text/html": [
       "Syncing run <strong><a href='https://wandb.ai/ch21b021-indian-institute-of-technology-madras/DA6401-Assignment-3/runs/sufjutft' target=\"_blank\">test-vanilla-evaluation</a></strong> to <a href='https://wandb.ai/ch21b021-indian-institute-of-technology-madras/DA6401-Assignment-3' target=\"_blank\">Weights & Biases</a> (<a href='https://wandb.me/developer-guide' target=\"_blank\">docs</a>)<br>Sweep page: <a href='https://wandb.ai/ch21b021-indian-institute-of-technology-madras/DA6401-Assignment-3/sweeps/goazo3li' target=\"_blank\">https://wandb.ai/ch21b021-indian-institute-of-technology-madras/DA6401-Assignment-3/sweeps/goazo3li</a>"
      ],
      "text/plain": [
       "<IPython.core.display.HTML object>"
      ]
     },
     "metadata": {},
     "output_type": "display_data"
    },
    {
     "data": {
      "text/html": [
       " View project at <a href='https://wandb.ai/ch21b021-indian-institute-of-technology-madras/DA6401-Assignment-3' target=\"_blank\">https://wandb.ai/ch21b021-indian-institute-of-technology-madras/DA6401-Assignment-3</a>"
      ],
      "text/plain": [
       "<IPython.core.display.HTML object>"
      ]
     },
     "metadata": {},
     "output_type": "display_data"
    },
    {
     "data": {
      "text/html": [
       " View sweep at <a href='https://wandb.ai/ch21b021-indian-institute-of-technology-madras/DA6401-Assignment-3/sweeps/goazo3li' target=\"_blank\">https://wandb.ai/ch21b021-indian-institute-of-technology-madras/DA6401-Assignment-3/sweeps/goazo3li</a>"
      ],
      "text/plain": [
       "<IPython.core.display.HTML object>"
      ]
     },
     "metadata": {},
     "output_type": "display_data"
    },
    {
     "data": {
      "text/html": [
       " View run at <a href='https://wandb.ai/ch21b021-indian-institute-of-technology-madras/DA6401-Assignment-3/runs/sufjutft' target=\"_blank\">https://wandb.ai/ch21b021-indian-institute-of-technology-madras/DA6401-Assignment-3/runs/sufjutft</a>"
      ],
      "text/plain": [
       "<IPython.core.display.HTML object>"
      ]
     },
     "metadata": {},
     "output_type": "display_data"
    },
    {
     "name": "stdout",
     "output_type": "stream",
     "text": [
      "Using device: cuda\n"
     ]
    },
    {
     "name": "stderr",
     "output_type": "stream",
     "text": [
      "findfont: Font family 'Noto Sans Malayalam' not found.\n",
      "findfont: Font family 'Noto Sans Malayalam' not found.\n",
      "findfont: Font family 'Noto Sans Malayalam' not found.\n",
      "findfont: Font family 'Noto Sans Malayalam' not found.\n",
      "findfont: Font family 'Noto Sans Malayalam' not found.\n",
      "findfont: Font family 'Noto Sans Malayalam' not found.\n",
      "findfont: Font family 'Noto Sans Malayalam' not found.\n",
      "findfont: Font family 'Noto Sans Malayalam' not found.\n",
      "findfont: Font family 'Noto Sans Malayalam' not found.\n",
      "findfont: Font family 'Noto Sans Malayalam' not found.\n",
      "findfont: Font family 'Noto Sans Malayalam' not found.\n",
      "findfont: Font family 'Noto Sans Malayalam' not found.\n",
      "findfont: Font family 'Noto Sans Malayalam' not found.\n",
      "findfont: Font family 'Noto Sans Malayalam' not found.\n",
      "findfont: Font family 'Noto Sans Malayalam' not found.\n",
      "findfont: Font family 'Noto Sans Malayalam' not found.\n",
      "findfont: Font family 'Noto Sans Malayalam' not found.\n",
      "findfont: Font family 'Noto Sans Malayalam' not found.\n",
      "findfont: Font family 'Noto Sans Malayalam' not found.\n",
      "findfont: Font family 'Noto Sans Malayalam' not found.\n",
      "findfont: Font family 'Noto Sans Malayalam' not found.\n",
      "findfont: Font family 'Noto Sans Malayalam' not found.\n",
      "findfont: Font family 'Noto Sans Malayalam' not found.\n",
      "findfont: Font family 'Noto Sans Malayalam' not found.\n",
      "findfont: Font family 'Noto Sans Malayalam' not found.\n",
      "findfont: Font family 'Noto Sans Malayalam' not found.\n",
      "findfont: Font family 'Noto Sans Malayalam' not found.\n",
      "findfont: Font family 'Noto Sans Malayalam' not found.\n",
      "findfont: Font family 'Noto Sans Malayalam' not found.\n",
      "findfont: Font family 'Noto Sans Malayalam' not found.\n",
      "findfont: Font family 'Noto Sans Malayalam' not found.\n",
      "findfont: Font family 'Noto Sans Malayalam' not found.\n",
      "findfont: Font family 'Noto Sans Malayalam' not found.\n",
      "findfont: Font family 'Noto Sans Malayalam' not found.\n",
      "findfont: Font family 'Noto Sans Malayalam' not found.\n"
     ]
    },
    {
     "name": "stdout",
     "output_type": "stream",
     "text": [
      "Test Accuracy: 0.320\n"
     ]
    },
    {
     "name": "stderr",
     "output_type": "stream",
     "text": [
      "findfont: Font family 'Noto Sans Malayalam' not found.\n",
      "findfont: Font family 'Noto Sans Malayalam' not found.\n",
      "findfont: Font family 'Noto Sans Malayalam' not found.\n",
      "findfont: Font family 'Noto Sans Malayalam' not found.\n",
      "findfont: Font family 'Noto Sans Malayalam' not found.\n",
      "findfont: Font family 'Noto Sans Malayalam' not found.\n",
      "findfont: Font family 'Noto Sans Malayalam' not found.\n",
      "findfont: Font family 'Noto Sans Malayalam' not found.\n",
      "findfont: Font family 'Noto Sans Malayalam' not found.\n",
      "findfont: Font family 'Noto Sans Malayalam' not found.\n",
      "findfont: Font family 'Noto Sans Malayalam' not found.\n",
      "findfont: Font family 'Noto Sans Malayalam' not found.\n",
      "findfont: Font family 'Noto Sans Malayalam' not found.\n",
      "findfont: Font family 'Noto Sans Malayalam' not found.\n",
      "findfont: Font family 'Noto Sans Malayalam' not found.\n",
      "findfont: Font family 'Noto Sans Malayalam' not found.\n"
     ]
    },
    {
     "name": "stdout",
     "output_type": "stream",
     "text": [
      "\n",
      "Sample Error Analysis:\n",
      "Source: adisthaanamaakkiyaanu\n",
      "Prediction: അടിസ്ഥാനമാക്കായാണ്\n",
      "Target: അടിസ്ഥാനമാക്കിയാണ്\n",
      "\n",
      "Source: atisthaanamaakkiyaanu\n",
      "Prediction: അടിസ്ഥാനമാക്കായാണ്\n",
      "Target: അടിസ്ഥാനമാക്കിയാണ്\n",
      "\n",
      "Source: adisthaanamaakkiya\n",
      "Prediction: അടിസ്ഥാനമാക്കായി\n",
      "Target: അടിസ്ഥാനമാക്കിയ\n",
      "\n",
      "Source: adayaalamaayi\n",
      "Prediction: അടയലമായി\n",
      "Target: അടയാളമായി\n",
      "\n",
      "Source: atayaalamaayi\n",
      "Prediction: അടയലമായി\n",
      "Target: അടയാളമായി\n",
      "\n",
      "Source: angathwavum\n",
      "Prediction: അഗ്വത്വവും\n",
      "Target: അംഗത്വവും\n",
      "\n",
      "Source: ambaassador\n",
      "Prediction: അമ്സാസർ\n",
      "Target: അംബാസഡർ\n",
      "\n",
      "Source: accountukal\n",
      "Prediction: അക്കോട്ടുകൾ\n",
      "Target: അക്കൗണ്ടുകൾ\n",
      "\n",
      "Source: akksundukal\n",
      "Prediction: അക്കുടുക്കൽ\n",
      "Target: അക്കൗണ്ടുകൾ\n",
      "\n",
      "Source: adayalamayi\n",
      "Prediction: അടലയമായി\n",
      "Target: അടയാളമായി\n",
      "\n"
     ]
    },
    {
     "name": "stderr",
     "output_type": "stream",
     "text": [
      "findfont: Font family 'Noto Sans Malayalam' not found.\n",
      "findfont: Font family 'Noto Sans Malayalam' not found.\n",
      "findfont: Font family 'Noto Sans Malayalam' not found.\n",
      "findfont: Font family 'Noto Sans Malayalam' not found.\n",
      "findfont: Font family 'Noto Sans Malayalam' not found.\n",
      "findfont: Font family 'Noto Sans Malayalam' not found.\n",
      "findfont: Font family 'Noto Sans Malayalam' not found.\n",
      "findfont: Font family 'Noto Sans Malayalam' not found.\n",
      "findfont: Font family 'Noto Sans Malayalam' not found.\n",
      "findfont: Font family 'Noto Sans Malayalam' not found.\n",
      "findfont: Font family 'Noto Sans Malayalam' not found.\n",
      "findfont: Font family 'Noto Sans Malayalam' not found.\n",
      "findfont: Font family 'Noto Sans Malayalam' not found.\n",
      "findfont: Font family 'Noto Sans Malayalam' not found.\n",
      "findfont: Font family 'Noto Sans Malayalam' not found.\n",
      "findfont: Font family 'Noto Sans Malayalam' not found.\n",
      "findfont: Font family 'Noto Sans Malayalam' not found.\n",
      "findfont: Font family 'Noto Sans Malayalam' not found.\n",
      "findfont: Font family 'Noto Sans Malayalam' not found.\n",
      "findfont: Font family 'Noto Sans Malayalam' not found.\n",
      "findfont: Font family 'Noto Sans Malayalam' not found.\n",
      "findfont: Font family 'Noto Sans Malayalam' not found.\n",
      "findfont: Font family 'Noto Sans Malayalam' not found.\n",
      "findfont: Font family 'Noto Sans Malayalam' not found.\n",
      "findfont: Font family 'Noto Sans Malayalam' not found.\n",
      "findfont: Font family 'Noto Sans Malayalam' not found.\n",
      "findfont: Font family 'Noto Sans Malayalam' not found.\n",
      "findfont: Font family 'Noto Sans Malayalam' not found.\n",
      "findfont: Font family 'Noto Sans Malayalam' not found.\n",
      "findfont: Font family 'Noto Sans Malayalam' not found.\n",
      "findfont: Font family 'Noto Sans Malayalam' not found.\n",
      "findfont: Font family 'Noto Sans Malayalam' not found.\n",
      "findfont: Font family 'Noto Sans Malayalam' not found.\n"
     ]
    },
    {
     "data": {
      "image/png": "[encoded data removed]",
      "text/plain": [
       "<Figure size 1000x600 with 1 Axes>"
      ]
     },
     "metadata": {},
     "output_type": "display_data"
    },
    {
     "data": {
      "image/png": "[encoded data removed]",
      "text/plain": [
       "<Figure size 1500x300 with 10 Axes>"
      ]
     },
     "metadata": {},
     "output_type": "display_data"
    },
    {
     "name": "stderr",
     "output_type": "stream",
     "text": [
      "findfont: Font family 'Noto Sans Malayalam' not found.\n",
      "findfont: Font family 'Noto Sans Malayalam' not found.\n",
      "findfont: Font family 'Noto Sans Malayalam' not found.\n",
      "findfont: Font family 'Noto Sans Malayalam' not found.\n",
      "d:\\Anaconda\\Lib\\site-packages\\seaborn\\utils.py:61: UserWarning: Glyph 3349 (\\N{MALAYALAM LETTER KA}) missing from current font.\n",
      "  fig.canvas.draw()\n",
      "d:\\Anaconda\\Lib\\site-packages\\seaborn\\utils.py:61: UserWarning: Matplotlib currently does not support Malayalam natively.\n",
      "  fig.canvas.draw()\n",
      "findfont: Font family 'Noto Sans Malayalam' not found.\n",
      "d:\\Anaconda\\Lib\\site-packages\\seaborn\\utils.py:61: UserWarning: Glyph 3376 (\\N{MALAYALAM LETTER RA}) missing from current font.\n",
      "  fig.canvas.draw()\n",
      "findfont: Font family 'Noto Sans Malayalam' not found.\n",
      "d:\\Anaconda\\Lib\\site-packages\\seaborn\\utils.py:61: UserWarning: Glyph 3381 (\\N{MALAYALAM LETTER VA}) missing from current font.\n",
      "  fig.canvas.draw()\n",
      "findfont: Font family 'Noto Sans Malayalam' not found.\n",
      "d:\\Anaconda\\Lib\\site-packages\\seaborn\\utils.py:61: UserWarning: Glyph 3390 (\\N{MALAYALAM VOWEL SIGN AA}) missing from current font.\n",
      "  fig.canvas.draw()\n",
      "findfont: Font family 'Noto Sans Malayalam' not found.\n",
      "d:\\Anaconda\\Lib\\site-packages\\seaborn\\utils.py:61: UserWarning: Glyph 3391 (\\N{MALAYALAM VOWEL SIGN I}) missing from current font.\n",
      "  fig.canvas.draw()\n",
      "findfont: Font family 'Noto Sans Malayalam' not found.\n",
      "d:\\Anaconda\\Lib\\site-packages\\seaborn\\utils.py:61: UserWarning: Glyph 3393 (\\N{MALAYALAM VOWEL SIGN U}) missing from current font.\n",
      "  fig.canvas.draw()\n",
      "findfont: Font family 'Noto Sans Malayalam' not found.\n",
      "d:\\Anaconda\\Lib\\site-packages\\seaborn\\utils.py:61: UserWarning: Glyph 3405 (\\N{MALAYALAM SIGN VIRAMA}) missing from current font.\n",
      "  fig.canvas.draw()\n",
      "findfont: Font family 'Noto Sans Malayalam' not found.\n",
      "findfont: Font family 'Noto Sans Malayalam' not found.\n",
      "findfont: Font family 'Noto Sans Malayalam' not found.\n",
      "findfont: Font family 'Noto Sans Malayalam' not found.\n",
      "findfont: Font family 'Noto Sans Malayalam' not found.\n",
      "findfont: Font family 'Noto Sans Malayalam' not found.\n",
      "findfont: Font family 'Noto Sans Malayalam' not found.\n",
      "findfont: Font family 'Noto Sans Malayalam' not found.\n",
      "findfont: Font family 'Noto Sans Malayalam' not found.\n",
      "findfont: Font family 'Noto Sans Malayalam' not found.\n",
      "findfont: Font family 'Noto Sans Malayalam' not found.\n",
      "findfont: Font family 'Noto Sans Malayalam' not found.\n",
      "findfont: Font family 'Noto Sans Malayalam' not found.\n",
      "findfont: Font family 'Noto Sans Malayalam' not found.\n",
      "findfont: Font family 'Noto Sans Malayalam' not found.\n",
      "findfont: Font family 'Noto Sans Malayalam' not found.\n",
      "findfont: Font family 'Noto Sans Malayalam' not found.\n",
      "findfont: Font family 'Noto Sans Malayalam' not found.\n"
     ]
    },
    {
     "data": {
      "image/png": "[encoded data removed]",
      "text/plain": [
       "<Figure size 1200x1000 with 1 Axes>"
      ]
     },
     "metadata": {},
     "output_type": "display_data"
    },
    {
     "data": {
      "text/plain": [
       "<Figure size 640x480 with 0 Axes>"
      ]
     },
     "metadata": {},
     "output_type": "display_data"
    }
   ],
   "source": [
    "run_name=\"test-vanilla-evaluation\"\n",
    "\n",
    "test_with_wandb(run_name=run_name, config=best_config, model_path=best_model_path)"
   ]
  }
 ],
 "metadata": {
  "kernelspec": {
   "display_name": "base",
   "language": "python",
   "name": "python3"
  },
  "language_info": {
   "codemirror_mode": {
    "name": "ipython",
    "version": 3
   },
   "file_extension": ".py",
   "mimetype": "text/x-python",
   "name": "python",
   "nbconvert_exporter": "python",
   "pygments_lexer": "ipython3",
   "version": "3.12.4"
  }
 },
 "nbformat": 4,
 "nbformat_minor": 5
}
