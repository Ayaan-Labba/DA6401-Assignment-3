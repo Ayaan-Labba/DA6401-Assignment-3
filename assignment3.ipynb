{
 "cells": [
  {
   "cell_type": "markdown",
   "id": "324553e2",
   "metadata": {},
   "source": [
    "# Assignment 3"
   ]
  },
  {
   "cell_type": "markdown",
   "id": "bf866e12",
   "metadata": {},
   "source": [
    "Import required libraries"
   ]
  },
  {
   "cell_type": "code",
   "execution_count": 1,
   "id": "1ad1abe1",
   "metadata": {},
   "outputs": [],
   "source": [
    "import torch\n",
    "import random\n",
    "import os\n",
    "import numpy as np"
   ]
  },
  {
   "cell_type": "code",
   "execution_count": 2,
   "id": "2828c2f2",
   "metadata": {},
   "outputs": [],
   "source": [
    "# Set seeds for reproducibility\n",
    "def set_seed(seed=42):\n",
    "    random.seed(seed)\n",
    "    np.random.seed(seed)\n",
    "    torch.manual_seed(seed)\n",
    "    torch.cuda.manual_seed_all(seed)\n",
    "    torch.backends.cudnn.deterministic = True\n",
    "\n",
    "set_seed(42)"
   ]
  },
  {
   "cell_type": "code",
   "execution_count": 3,
   "id": "4ceec1b5",
   "metadata": {},
   "outputs": [
    {
     "name": "stdout",
     "output_type": "stream",
     "text": [
      "Using device: cuda\n"
     ]
    }
   ],
   "source": [
    "# Check for CUDA\n",
    "device = torch.device('cuda' if torch.cuda.is_available() else 'cpu')\n",
    "print(f\"Using device: {device}\")"
   ]
  },
  {
   "cell_type": "markdown",
   "id": "a426aca2",
   "metadata": {},
   "source": [
    "## Load and Prepare Data"
   ]
  },
  {
   "cell_type": "code",
   "execution_count": 4,
   "id": "689ca7c3",
   "metadata": {},
   "outputs": [],
   "source": [
    "import pandas\n",
    "from torch.utils.data import Dataset, DataLoader\n",
    "\n",
    "from dataset import TransliterationDataset, collate_fn"
   ]
  },
  {
   "cell_type": "code",
   "execution_count": 5,
   "id": "4009cc0a",
   "metadata": {},
   "outputs": [],
   "source": [
    "def prepare_data(dataset_path, batch_size=64, shuffle=True):\n",
    "    dataset = TransliterationDataset(dataset_path)\n",
    "    data_loader = DataLoader(\n",
    "        dataset, \n",
    "        batch_size=batch_size, \n",
    "        shuffle=shuffle, \n",
    "        collate_fn=collate_fn\n",
    "    )\n",
    "\n",
    "    return dataset, data_loader"
   ]
  },
  {
   "cell_type": "code",
   "execution_count": 6,
   "id": "673fca47",
   "metadata": {},
   "outputs": [],
   "source": [
    "# Dataset paths\n",
    "train_path = 'dakshina_dataset_v1.0/ml/lexicons/ml.translit.sampled.train.tsv'\n",
    "val_path = 'dakshina_dataset_v1.0/ml/lexicons/ml.translit.sampled.dev.tsv'\n",
    "test_path = 'dakshina_dataset_v1.0/ml/lexicons/ml.translit.sampled.test.tsv'\n",
    "\n",
    "# Create dataloaders\n",
    "train_dataset, train_loader = prepare_data(train_path, batch_size=64)\n",
    "val_dataset, val_loader = prepare_data(val_path, batch_size=64)\n",
    "test_dataset, test_loader = prepare_data(test_path, batch_size=64)"
   ]
  },
  {
   "cell_type": "code",
   "execution_count": 7,
   "id": "204978fa",
   "metadata": {},
   "outputs": [
    {
     "name": "stdout",
     "output_type": "stream",
     "text": [
      "Source vocabulary size: 29\n",
      "Target vocabulary size: 73\n"
     ]
    }
   ],
   "source": [
    "# Model parameters\n",
    "input_size = train_dataset.get_vocab_size('source')\n",
    "output_size = train_dataset.get_vocab_size('target')\n",
    "\n",
    "# Print vocabulary sizes\n",
    "print(f\"Source vocabulary size: {input_size}\")\n",
    "print(f\"Target vocabulary size: {output_size}\")"
   ]
  },
  {
   "cell_type": "code",
   "execution_count": null,
   "id": "9f1f7a9b",
   "metadata": {},
   "outputs": [
    {
     "name": "stdout",
     "output_type": "stream",
     "text": [
      "1\n",
      "1\n",
      "1\n"
     ]
    }
   ],
   "source": [
    "# print(train_dataset.target_char_to_idx['<PAD>'])\n",
    "# print(val_dataset.target_char_to_idx['<PAD>'])\n",
    "# print(test_dataset.target_char_to_idx['<PAD>'])"
   ]
  },
  {
   "cell_type": "markdown",
   "id": "8455d86a",
   "metadata": {},
   "source": [
    "## Train Model"
   ]
  },
  {
   "cell_type": "code",
   "execution_count": 9,
   "id": "e881045a",
   "metadata": {},
   "outputs": [],
   "source": [
    "import torch.nn as nn\n",
    "import torch.nn.functional as F\n",
    "import torch.optim as optim\n",
    "from tqdm import trange\n",
    "\n",
    "from models import Encoder, Decoder, Seq2Seq\n",
    "from training import train, evaluate, transliterate, calculate_accuracy"
   ]
  },
  {
   "cell_type": "code",
   "execution_count": 12,
   "id": "07f57ab1",
   "metadata": {},
   "outputs": [],
   "source": [
    "def train_model(input_size, output_size, train_loader, val_loader, device, embedding_size=256, hidden_size=256, \n",
    "                n_layers=1, dropout=0.2, cell_type='lstm', epochs=10, teacher_forcing_ratio=0.2, clip=1.0):  \n",
    "    print(f\"Using device: {device}\")\n",
    "    \n",
    "    # Create model\n",
    "    encoder = Encoder(\n",
    "        input_size=input_size,\n",
    "        embedding_size=embedding_size,\n",
    "        hidden_size=hidden_size,\n",
    "        n_layers=n_layers,\n",
    "        dropout=dropout,\n",
    "        cell_type=cell_type\n",
    "    ).to(device)\n",
    "    \n",
    "    decoder = Decoder(\n",
    "        output_size=output_size,\n",
    "        embedding_size=embedding_size,\n",
    "        hidden_size=hidden_size,\n",
    "        n_layers=n_layers,\n",
    "        dropout=dropout,\n",
    "        cell_type=cell_type\n",
    "    ).to(device)\n",
    "    \n",
    "    model = Seq2Seq(encoder, decoder, device).to(device)\n",
    "    \n",
    "    # Define optimizer and loss function\n",
    "    optimizer = optim.Adam(model.parameters(), lr=0.001)\n",
    "    criterion = nn.CrossEntropyLoss(ignore_index=train_dataset.target_char_to_idx['<PAD>'])\n",
    "\n",
    "    best_val_loss = float('inf')\n",
    "    \n",
    "    # Lists to store losses\n",
    "    train_losses = []\n",
    "    val_losses = []\n",
    "\n",
    "    # Training loop\n",
    "    print(\"Starting training...\")\n",
    "    pbar = trange(epochs, desc=\"Epoch\", dynamic_ncols=True)\n",
    "    for epoch in pbar:\n",
    "        # Train\n",
    "        train_loss = train(\n",
    "            model=model,\n",
    "            device=device,\n",
    "            dataloader=train_loader,\n",
    "            optimizer=optimizer,\n",
    "            criterion=criterion,\n",
    "            clip=clip,\n",
    "            teacher_forcing_ratio=teacher_forcing_ratio\n",
    "        )\n",
    "        train_losses.append(train_loss)\n",
    "        \n",
    "        # Validate\n",
    "        val_loss = evaluate(\n",
    "            model=model,\n",
    "            device=device,\n",
    "            dataloader=val_loader,\n",
    "            criterion=criterion\n",
    "        )\n",
    "        val_losses.append(val_loss)\n",
    "        \n",
    "        # Update tqdm bar description\n",
    "        pbar.set_description(f\"Epoch {epoch+1}/{epochs}\")\n",
    "        pbar.set_postfix(train_loss=f\"{train_loss:.4f}\", val_loss=f\"{val_loss:.4f}\")\n",
    "            \n",
    "        # Save best model\n",
    "        if val_loss < best_val_loss:\n",
    "            best_val_loss = val_loss\n",
    "            torch.save(model.state_dict(), 'best_model.pth')\n",
    "            print(\"Best model saved!\")\n",
    "\n",
    "    return train_losses, val_losses"
   ]
  },
  {
   "cell_type": "code",
   "execution_count": null,
   "id": "56e4ec39",
   "metadata": {},
   "outputs": [],
   "source": [
    "train_losses, val_losses = train_model(input_size=input_size, output_size=output_size, train_loader=train_loader, \n",
    "                                       val_loader=val_loader, device=device)"
   ]
  },
  {
   "cell_type": "markdown",
   "id": "a5d5d824",
   "metadata": {},
   "source": [
    "### Visualize training results"
   ]
  },
  {
   "cell_type": "code",
   "execution_count": 22,
   "id": "be7fe6cc",
   "metadata": {},
   "outputs": [],
   "source": [
    "import matplotlib.pyplot as plt"
   ]
  },
  {
   "cell_type": "code",
   "execution_count": 42,
   "id": "53966fba",
   "metadata": {},
   "outputs": [
    {
     "data": {
      "text/plain": [
       "Text(0.5, 1.0, 'Training and Validation Loss')"
      ]
     },
     "execution_count": 42,
     "metadata": {},
     "output_type": "execute_result"
    },
    {
     "data": {
      "image/png": "[encoded data removed]",
      "text/plain": [
       "<Figure size 1000x500 with 1 Axes>"
      ]
     },
     "metadata": {},
     "output_type": "display_data"
    }
   ],
   "source": [
    "# Plot loss curves\n",
    "plt.figure(figsize=(10, 5))\n",
    "plt.plot(train_losses, label='Train Loss')\n",
    "plt.plot(val_losses, label='Validation Loss')\n",
    "plt.xlabel('Epoch')\n",
    "plt.ylabel('Loss')\n",
    "plt.legend()\n",
    "plt.title('Training and Validation Loss')\n",
    "# plt.savefig('loss_plot.png')"
   ]
  },
  {
   "cell_type": "markdown",
   "id": "c6924fb4",
   "metadata": {},
   "source": [
    "## Hyperparameter Tuning with Wandb"
   ]
  },
  {
   "cell_type": "code",
   "execution_count": 14,
   "id": "26ba7ced",
   "metadata": {},
   "outputs": [],
   "source": [
    "import wandb"
   ]
  },
  {
   "cell_type": "code",
   "execution_count": 15,
   "id": "3c36307c",
   "metadata": {},
   "outputs": [],
   "source": [
    "# Train model\n",
    "BEST_VAL_LOSS = float('inf')"
   ]
  },
  {
   "cell_type": "code",
   "execution_count": 16,
   "id": "1cba31c2",
   "metadata": {},
   "outputs": [],
   "source": [
    "# Train the model with wandb integration\n",
    "def train_with_wandb(config=None):\n",
    "    global BEST_VAL_LOSS\n",
    "    \n",
    "    with wandb.init(config=config) as run:\n",
    "        # If called by wandb.agent, use the config set by sweep controller\n",
    "        config = wandb.config\n",
    "        \n",
    "        # Initialize a new wandb run\n",
    "        # Generate a descriptive name for the run based on key hyperparameters\n",
    "        run_name = f\"ct{config.cell_type}-tfr{config.teacher_forcing_ratio}-lr{config.learning_rate}-es{config.embedding_size}-\\\n",
    "            hs{config.hidden_size}-el{config.encoder_layers}-dl{config.decoder_layers}-d{config.dropout}-bs{config.batch_size}\"\n",
    "        \n",
    "        run.name = run_name\n",
    "        run.save()\n",
    "        # Initialize a new wandb run\n",
    "        wandb.init()\n",
    "        \n",
    "        # Access hyperparameters as wandb.config\n",
    "        config = wandb.config\n",
    "        \n",
    "        # Set seed\n",
    "        set_seed(config.seed)\n",
    "        \n",
    "        # Device\n",
    "        device = torch.device('cuda' if torch.cuda.is_available() else 'cpu')\n",
    "        print(f\"Using device: {device}\")\n",
    "        \n",
    "        # Create save directory if it doesn't exist\n",
    "        if not os.path.exists('models'):\n",
    "            os.makedirs('models')\n",
    "        \n",
    "        # Dataset paths\n",
    "        train_path = 'dakshina_dataset_v1.0/ml/lexicons/ml.translit.sampled.train.tsv'\n",
    "        val_path = 'dakshina_dataset_v1.0/ml/lexicons/ml.translit.sampled.dev.tsv'\n",
    "\n",
    "        # Create dataloaders\n",
    "        train_dataset, train_loader = prepare_data(train_path, batch_size=64)\n",
    "        _, val_loader = prepare_data(val_path, batch_size=64)\n",
    "        \n",
    "        # Create model\n",
    "        encoder = Encoder(\n",
    "            input_size=train_dataset.get_vocab_size('source'),\n",
    "            embedding_size=config.embedding_size,\n",
    "            hidden_size=config.hidden_size,\n",
    "            n_layers=config.n_layers_encoder,\n",
    "            dropout=config.dropout,\n",
    "            cell_type=config.cell_type\n",
    "        )\n",
    "        \n",
    "        decoder = Decoder(\n",
    "            output_size=train_dataset.get_vocab_size('target'),\n",
    "            embedding_size=config.embedding_size,\n",
    "            hidden_size=config.hidden_size,\n",
    "            n_layers=config.n_layers_decoder,\n",
    "            dropout=config.dropout,\n",
    "            cell_type=config.cell_type\n",
    "        )\n",
    "        \n",
    "        model = Seq2Seq(encoder, decoder, device).to(device)\n",
    "        print(f\"Model created with cell type: {config.cell_type}\")\n",
    "        \n",
    "        # Optimizer and criterion\n",
    "        optimizer = optim.Adam(model.parameters(), lr=config.learning_rate)\n",
    "        criterion = nn.CrossEntropyLoss(ignore_index=train_dataset.target_char_to_idx['<PAD>'])\n",
    "        \n",
    "        # Train model\n",
    "        best_val_loss = float('inf')\n",
    "\n",
    "        pbar = trange(config.as_dictepochs, desc=\"Epoch\", dynamic_ncols=True)\n",
    "        for epoch in pbar:\n",
    "            # Train\n",
    "            train_loss = train(\n",
    "                model, device, train_loader, optimizer, criterion, \n",
    "                clip=config.clip, teacher_forcing_ratio=config.teacher_forcing_ratio\n",
    "            )\n",
    "            \n",
    "            # Evaluate\n",
    "            val_loss = evaluate(model, device, val_loader, criterion=criterion)\n",
    "            \n",
    "            # Update tqdm bar description\n",
    "            pbar.set_description(f\"Epoch {epoch+1}/{config.epochs}\")\n",
    "            pbar.set_postfix(train_loss=f\"{train_loss:.4f}\", val_loss=f\"{val_loss:.4f}\")\n",
    "\n",
    "            # Log to wandb\n",
    "            wandb.log({\n",
    "                'epoch': epoch + 1,\n",
    "                'train_loss': train_loss,\n",
    "                'val_loss': val_loss\n",
    "            })\n",
    "            \n",
    "            # Save best model\n",
    "            if val_loss < best_val_loss:\n",
    "                best_val_loss = val_loss\n",
    "                model_path = os.path.join('models', f'model_{wandb.run.id}.pth')\n",
    "                torch.save(model.state_dict(), model_path)\n",
    "\n",
    "                if best_val_loss < BEST_VAL_LOSS:\n",
    "                    BEST_VAL_LOSS = best_val_loss\n",
    "                    torch.save(model.state_dict(), \"best_model.pth\")\n",
    "                    print(f'\\tBest model saved with val loss: {val_loss:.3f}')\n",
    "        \n",
    "        # Load best model for final evaluation\n",
    "        model.load_state_dict(torch.load(os.path.join('models', f'model_{wandb.run.id}.pt')))\n",
    "        \n",
    "        # Evaluate accuracy on validation set\n",
    "        correct = 0\n",
    "        total = 0\n",
    "        \n",
    "        with torch.no_grad():\n",
    "            for batch in val_loader:\n",
    "                source_texts = batch['source_text']\n",
    "                target_texts = batch['target_text']\n",
    "                \n",
    "                for i, source_text in enumerate(source_texts):\n",
    "                    pred_text = transliterate(model, device, train_dataset, source_text)\n",
    "                    \n",
    "                    if pred_text == target_texts[i]:\n",
    "                        correct += 1\n",
    "                    total += 1\n",
    "        \n",
    "        val_accuracy = correct / total\n",
    "        print(f'Validation Accuracy: {val_accuracy:.3f}')\n",
    "        \n",
    "        # Log final metrics\n",
    "        wandb.log({\n",
    "            'best_val_loss': best_val_loss,\n",
    "            'val_accuracy': val_accuracy\n",
    "        })"
   ]
  },
  {
   "cell_type": "code",
   "execution_count": null,
   "id": "3e8834fd",
   "metadata": {},
   "outputs": [],
   "source": [
    "# Define sweep configuration\n",
    "sweep_config = {\n",
    "    'method': 'bayes',\n",
    "    'name': 'sweep1',\n",
    "    'metric': {\n",
    "        'name': 'val_loss',\n",
    "        'goal': 'minimize'\n",
    "    },\n",
    "    'parameters': {\n",
    "        'learning_rate': {\n",
    "            'values': [0.001, 0.0001]\n",
    "        },\n",
    "        'batch_size': {\n",
    "            'values': [32, 64]\n",
    "        },\n",
    "        'embedding_size': {\n",
    "            'values': [64, 128, 256]\n",
    "        },\n",
    "        'hidden_size': {\n",
    "            'values': [128, 256]\n",
    "        },\n",
    "        'encoder_layers': {\n",
    "            'values': [1, 2]\n",
    "        },\n",
    "        'decoder_layers': {\n",
    "            'values': [1, 2]\n",
    "        },\n",
    "        'dropout': {\n",
    "            'values': [0.1, 0.3]\n",
    "        },\n",
    "        'cell_type': {\n",
    "            'values': ['rnn', 'lstm', 'gru']\n",
    "        },\n",
    "        'teacher_forcing_ratio': {\n",
    "            'values': [0.5, 0.7]\n",
    "        },\n",
    "        'clip': {\n",
    "            'values': [1.0]\n",
    "        },\n",
    "        'epochs': {\n",
    "            'values': [10]\n",
    "        }\n",
    "    }\n",
    "}"
   ]
  },
  {
   "cell_type": "code",
   "execution_count": 19,
   "id": "1fc2782b",
   "metadata": {},
   "outputs": [
    {
     "data": {
      "text/plain": [
       "True"
      ]
     },
     "execution_count": 19,
     "metadata": {},
     "output_type": "execute_result"
    }
   ],
   "source": [
    "os.environ[\"WANDB_NOTEBOOK_NAME\"] = \"assignment3.ipynb\"\n",
    "\n",
    "wandb.login()"
   ]
  },
  {
   "cell_type": "code",
   "execution_count": null,
   "id": "05d1b1b7",
   "metadata": {},
   "outputs": [],
   "source": [
    "sweep_id = wandb.sweep(sweep_config, project='DA6401-Assignment-3')\n",
    "\n",
    "# Run the sweep\n",
    "wandb.agent(sweep_id, train_with_wandb, count=15)"
   ]
  },
  {
   "cell_type": "code",
   "execution_count": null,
   "id": "28e47cd2",
   "metadata": {},
   "outputs": [],
   "source": [
    "def analyze_errors(predictions):\n",
    "    \"\"\"\n",
    "    Analyze the errors made by the model\n",
    "    \"\"\"\n",
    "    # Count total predictions and correct predictions\n",
    "    total = len(predictions)\n",
    "    correct = sum(1 for _, pred, target in predictions if pred == target)\n",
    "    \n",
    "    print(f'Accuracy: {correct/total:.3f} ({correct}/{total})')\n",
    "    \n",
    "    # Analyze error patterns\n",
    "    errors = [(source, pred, target) for source, pred, target in predictions if pred != target]\n",
    "    \n",
    "    # Error by length\n",
    "    length_errors = {}\n",
    "    for source, _, target in errors:\n",
    "        length = len(source)\n",
    "        if length not in length_errors:\n",
    "            length_errors[length] = 0\n",
    "        length_errors[length] += 1\n",
    "    \n",
    "    # Sort by length\n",
    "    sorted_length_errors = {k: v for k, v in sorted(length_errors.items())}\n",
    "    \n",
    "    plt.figure(figsize=(10, 6))\n",
    "    plt.bar(sorted_length_errors.keys(), sorted_length_errors.values())\n",
    "    plt.xlabel('Source Length')\n",
    "    plt.ylabel('Number of Errors')\n",
    "    plt.title('Errors by Source Length')\n",
    "    plt.savefig('predictions_vanilla/errors_by_length.png')\n",
    "    \n",
    "    # Sample error analysis\n",
    "    print(\"\\nSample Error Analysis:\")\n",
    "    for i, (source, pred, target) in enumerate(errors[:10]):\n",
    "        print(f'Source: {source}')\n",
    "        print(f'Prediction: {pred}')\n",
    "        print(f'Target: {target}')\n",
    "        print()"
   ]
  },
  {
   "cell_type": "code",
   "execution_count": null,
   "id": "85e2f6ea",
   "metadata": {},
   "outputs": [],
   "source": [
    "def test_best_model(best_config):\n",
    "    # Load datasets\n",
    "    train_dataset = TransliterationDataset('dakshina_dataset_v1.0/hi/lexicons/hi.translit.sampled.train.tsv')\n",
    "    test_dataset = TransliterationDataset('dakshina_dataset_v1.0/hi/lexicons/hi.translit.sampled.test.tsv')\n",
    "    \n",
    "    # Make sure test dataset uses the same vocabulary as training\n",
    "    test_dataset.source_char_to_idx = train_dataset.source_char_to_idx\n",
    "    test_dataset.source_idx_to_char = train_dataset.source_idx_to_char\n",
    "    test_dataset.target_char_to_idx = train_dataset.target_char_to_idx\n",
    "    test_dataset.target_idx_to_char = train_dataset.target_idx_to_char\n",
    "    \n",
    "    # Create dataloader\n",
    "    test_dataloader = DataLoader(test_dataset, batch_size=32, shuffle=False, collate_fn=collate_fn)\n",
    "    \n",
    "    # Initialize model with best configuration\n",
    "    input_size = train_dataset.get_vocab_size('source')\n",
    "    output_size = train_dataset.get_vocab_size('target')\n",
    "    \n",
    "    best_encoder = Encoder(\n",
    "        input_size=input_size, \n",
    "        embedding_size=best_config['embedding_size'], \n",
    "        hidden_size=best_config['hidden_size'], \n",
    "        n_layers=best_config['encoder_layers'], \n",
    "        dropout=best_config['dropout'],\n",
    "        cell_type=best_config['cell_type']\n",
    "    )\n",
    "    \n",
    "    best_decoder = Decoder(\n",
    "        output_size=output_size, \n",
    "        embedding_size=best_config['embedding_size'], \n",
    "        hidden_size=best_config['hidden_size'], \n",
    "        n_layers=best_config['decoder_layers'], \n",
    "        dropout=best_config['dropout'],\n",
    "        cell_type=best_config['cell_type']\n",
    "    )\n",
    "    \n",
    "    best_model = Seq2Seq(best_encoder, best_decoder, device).to(device)\n",
    "    \n",
    "    # Load model parameters\n",
    "    best_model.load_state_dict(torch.load(f\"model_{best_config['cell_type']}.pt\"))\n",
    "    \n",
    "    # Evaluate on test set\n",
    "    test_accuracy, test_predictions = calculate_accuracy(best_model, test_dataloader, train_dataset)\n",
    "    \n",
    "    print(f'Test Accuracy: {test_accuracy:.3f}')\n",
    "    \n",
    "    # Save predictions to file\n",
    "    with open('predictions_vanilla/test_predictions.txt', 'w', encoding='utf-8') as f:\n",
    "        for source, pred, target in test_predictions:\n",
    "            f.write(f'Source: {source}\\n')\n",
    "            f.write(f'Prediction: {pred}\\n')\n",
    "            f.write(f'Target: {target}\\n\\n')\n",
    "    \n",
    "    # Create error analysis\n",
    "    analyze_errors(test_predictions)\n",
    "    \n",
    "    return test_predictions"
   ]
  },
  {
   "cell_type": "code",
   "execution_count": null,
   "id": "27edbd1f",
   "metadata": {},
   "outputs": [],
   "source": [
    "# Make sure predictions directory exists\n",
    "os.makedirs('predictions_vanilla', exist_ok=True)"
   ]
  },
  {
   "cell_type": "code",
   "execution_count": null,
   "id": "7fbacaa6",
   "metadata": {},
   "outputs": [],
   "source": [
    "# Test best model\n",
    "test_predictions = test_best_model(best_config)"
   ]
  }
 ],
 "metadata": {
  "kernelspec": {
   "display_name": "base",
   "language": "python",
   "name": "python3"
  },
  "language_info": {
   "codemirror_mode": {
    "name": "ipython",
    "version": 3
   },
   "file_extension": ".py",
   "mimetype": "text/x-python",
   "name": "python",
   "nbconvert_exporter": "python",
   "pygments_lexer": "ipython3",
   "version": "3.12.4"
  }
 },
 "nbformat": 4,
 "nbformat_minor": 5
}
