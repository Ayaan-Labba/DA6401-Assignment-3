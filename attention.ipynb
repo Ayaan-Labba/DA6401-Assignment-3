{
 "cells": [
  {
   "cell_type": "markdown",
   "id": "324553e2",
   "metadata": {},
   "source": [
    "# Assignment 3"
   ]
  },
  {
   "cell_type": "markdown",
   "id": "bf866e12",
   "metadata": {},
   "source": [
    "Import required libraries"
   ]
  },
  {
   "cell_type": "code",
   "execution_count": 2,
   "id": "1ad1abe1",
   "metadata": {},
   "outputs": [],
   "source": [
    "import torch\n",
    "import random\n",
    "import os\n",
    "import numpy as np"
   ]
  },
  {
   "cell_type": "code",
   "execution_count": 3,
   "id": "2828c2f2",
   "metadata": {},
   "outputs": [],
   "source": [
    "# Set seeds for reproducibility\n",
    "def set_seed(seed=42):\n",
    "    random.seed(seed)\n",
    "    np.random.seed(seed)\n",
    "    torch.manual_seed(seed)\n",
    "    torch.cuda.manual_seed_all(seed)\n",
    "    torch.backends.cudnn.deterministic = True\n",
    "\n",
    "set_seed(42)"
   ]
  },
  {
   "cell_type": "code",
   "execution_count": 4,
   "id": "4ceec1b5",
   "metadata": {},
   "outputs": [
    {
     "name": "stdout",
     "output_type": "stream",
     "text": [
      "Using device: cuda\n"
     ]
    }
   ],
   "source": [
    "# Check for CUDA\n",
    "device = torch.device('cuda' if torch.cuda.is_available() else 'cpu')\n",
    "print(f\"Using device: {device}\")"
   ]
  },
  {
   "cell_type": "markdown",
   "id": "a426aca2",
   "metadata": {},
   "source": [
    "## Load and Prepare Data"
   ]
  },
  {
   "cell_type": "code",
   "execution_count": 5,
   "id": "689ca7c3",
   "metadata": {},
   "outputs": [],
   "source": [
    "import pandas\n",
    "from torch.utils.data import Dataset, DataLoader\n",
    "\n",
    "from dataset import TransliterationDataset, collate_fn"
   ]
  },
  {
   "cell_type": "code",
   "execution_count": 6,
   "id": "4009cc0a",
   "metadata": {},
   "outputs": [],
   "source": [
    "def prepare_data(dataset_path, batch_size=64, shuffle=True):\n",
    "    dataset = TransliterationDataset(dataset_path)\n",
    "    data_loader = DataLoader(\n",
    "        dataset, \n",
    "        batch_size=batch_size, \n",
    "        shuffle=shuffle, \n",
    "        collate_fn=collate_fn\n",
    "    )\n",
    "\n",
    "    return dataset, data_loader"
   ]
  },
  {
   "cell_type": "code",
   "execution_count": 7,
   "id": "673fca47",
   "metadata": {},
   "outputs": [],
   "source": [
    "# Dataset paths\n",
    "train_path = 'dakshina_dataset_v1.0/ml/lexicons/ml.translit.sampled.train.tsv'\n",
    "val_path = 'dakshina_dataset_v1.0/ml/lexicons/ml.translit.sampled.dev.tsv'\n",
    "test_path = 'dakshina_dataset_v1.0/ml/lexicons/ml.translit.sampled.test.tsv'\n",
    "\n",
    "# Create dataloaders\n",
    "train_dataset, train_loader = prepare_data(train_path, batch_size=64)\n",
    "val_dataset, val_loader = prepare_data(val_path, batch_size=64)\n",
    "test_dataset, test_loader = prepare_data(test_path, batch_size=64)"
   ]
  },
  {
   "cell_type": "code",
   "execution_count": 8,
   "id": "204978fa",
   "metadata": {},
   "outputs": [
    {
     "name": "stdout",
     "output_type": "stream",
     "text": [
      "Source vocabulary size: 30\n",
      "Target vocabulary size: 74\n"
     ]
    }
   ],
   "source": [
    "# Model parameters\n",
    "input_size = train_dataset.get_vocab_size('source')\n",
    "output_size = train_dataset.get_vocab_size('target')\n",
    "\n",
    "# Print vocabulary sizes\n",
    "print(f\"Source vocabulary size: {input_size}\")\n",
    "print(f\"Target vocabulary size: {output_size}\")"
   ]
  },
  {
   "cell_type": "code",
   "execution_count": 9,
   "id": "3ad9eca6",
   "metadata": {},
   "outputs": [
    {
     "name": "stdout",
     "output_type": "stream",
     "text": [
      "Validation - Source vocabulary size: 30\n",
      "Validation - Target vocabulary size: 70\n"
     ]
    }
   ],
   "source": [
    "# Model parameters\n",
    "val_input_size = val_dataset.get_vocab_size('source')\n",
    "val_output_size = val_dataset.get_vocab_size('target')\n",
    "\n",
    "# Print vocabulary sizes\n",
    "print(f\"Validation - Source vocabulary size: {val_input_size}\")\n",
    "print(f\"Validation - Target vocabulary size: {val_output_size}\")"
   ]
  },
  {
   "cell_type": "code",
   "execution_count": 10,
   "id": "c41041bf",
   "metadata": {},
   "outputs": [],
   "source": [
    "# Make sure val dataset uses the same vocabulary as training\n",
    "val_dataset.source_char_to_idx = train_dataset.source_char_to_idx\n",
    "val_dataset.source_idx_to_char = train_dataset.source_idx_to_char\n",
    "val_dataset.target_char_to_idx = train_dataset.target_char_to_idx\n",
    "val_dataset.target_idx_to_char = train_dataset.target_idx_to_char"
   ]
  },
  {
   "cell_type": "markdown",
   "id": "8455d86a",
   "metadata": {},
   "source": [
    "## Train Model"
   ]
  },
  {
   "cell_type": "code",
   "execution_count": 11,
   "id": "e881045a",
   "metadata": {},
   "outputs": [],
   "source": [
    "import torch.nn as nn\n",
    "import torch.nn.functional as F\n",
    "import torch.optim as optim\n",
    "from tqdm import trange\n",
    "\n",
    "from attention_model import Encoder, AttentionDecoder, AttentionSeq2Seq\n",
    "from training_attention import train, evaluate, transliterate, calculate_accuracy"
   ]
  },
  {
   "cell_type": "code",
   "execution_count": null,
   "id": "07f57ab1",
   "metadata": {},
   "outputs": [],
   "source": [
    "def train_model(input_size, output_size, train_loader, val_loader, device, embedding_size=256, hidden_size=256, lr=0.001,\n",
    "                n_layers=1, dropout=0.2, cell_type='lstm', epochs=10, teacher_forcing_ratio=0.5, clip=1.0, patience=5):  \n",
    "    print(f\"Using device: {device}\")\n",
    "    \n",
    "    # Create model\n",
    "    encoder = Encoder(\n",
    "        input_size=input_size,\n",
    "        embedding_size=embedding_size,\n",
    "        hidden_size=hidden_size,\n",
    "        n_layers=n_layers,\n",
    "        dropout=dropout,\n",
    "        cell_type=cell_type\n",
    "    ).to(device)\n",
    "    \n",
    "    decoder = AttentionDecoder(\n",
    "        output_size=output_size,\n",
    "        embedding_size=embedding_size,\n",
    "        encoder_hidden_size=hidden_size,\n",
    "        decoder_hidden_size=hidden_size,\n",
    "        n_layers=n_layers,\n",
    "        dropout=dropout,\n",
    "        cell_type=cell_type\n",
    "    ).to(device)\n",
    "    \n",
    "    model = AttentionSeq2Seq(encoder, decoder, device).to(device)\n",
    "    \n",
    "    # Define optimizer and loss function\n",
    "    optimizer = optim.Adam(model.parameters(), lr=lr)\n",
    "    # # Define learning rate scheduler\n",
    "    # scheduler = optim.lr_scheduler.ReduceLROnPlateau(optimizer, mode='min', factor=0.5, patience=3, verbose=True)\n",
    "    criterion = nn.CrossEntropyLoss(ignore_index=train_dataset.target_char_to_idx['<PAD>'])\n",
    "\n",
    "    best_val_loss = float('inf')\n",
    "    patience_counter = 0\n",
    "\n",
    "    # Lists to store losses\n",
    "    train_losses = []\n",
    "    val_losses = []\n",
    "    best_model = None\n",
    "\n",
    "    # Training loop\n",
    "    print(\"Starting training...\")\n",
    "    pbar = trange(epochs, desc=\"Epoch\", dynamic_ncols=True)\n",
    "    for epoch in pbar:\n",
    "        # Train\n",
    "        train_loss = train(\n",
    "            model=model,\n",
    "            device=device,\n",
    "            dataloader=train_loader,\n",
    "            optimizer=optimizer,\n",
    "            criterion=criterion,\n",
    "            clip=clip,\n",
    "            teacher_forcing_ratio=teacher_forcing_ratio\n",
    "        )\n",
    "        train_losses.append(train_loss)\n",
    "        \n",
    "        # Validate\n",
    "        val_loss = evaluate(\n",
    "            model=model,\n",
    "            device=device,\n",
    "            dataloader=val_loader,\n",
    "            criterion=criterion\n",
    "        )\n",
    "        val_losses.append(val_loss)\n",
    "\n",
    "        # # Update learning rate based on validation loss\n",
    "        # scheduler.step(val_loss)\n",
    "\n",
    "        # Update tqdm bar description\n",
    "        pbar.set_description(f\"Epoch {epoch+1}/{epochs}\")\n",
    "        pbar.set_postfix(train_loss=f\"{train_loss:.4f}\", val_loss=f\"{val_loss:.4f}\")\n",
    "            \n",
    "        # Save best model\n",
    "        if val_loss < best_val_loss:\n",
    "            best_val_loss = val_loss\n",
    "            best_model = model\n",
    "            torch.save(model.state_dict(), 'best_attention_model.pth')\n",
    "        else:\n",
    "            patience_counter += 1\n",
    "            \n",
    "        # Early stopping\n",
    "        if patience_counter >= patience:\n",
    "            print(f\"Early stopping after {epoch+1} epochs!\")\n",
    "            break\n",
    "\n",
    "        print(\"Best model saved at best_attention_model.pth!\")\n",
    "    \n",
    "    return train_losses, val_losses, best_model"
   ]
  },
  {
   "cell_type": "code",
   "execution_count": 16,
   "id": "56e4ec39",
   "metadata": {},
   "outputs": [
    {
     "name": "stdout",
     "output_type": "stream",
     "text": [
      "Using device: cuda\n",
      "Starting training...\n"
     ]
    },
    {
     "name": "stderr",
     "output_type": "stream",
     "text": [
      "Epoch:   0%|          | 0/10 [00:00<?, ?it/s]"
     ]
    },
    {
     "name": "stderr",
     "output_type": "stream",
     "text": [
      "Epoch 1/10:  10%|█         | 1/10 [01:14<11:10, 74.45s/it, train_loss=1.0184, val_loss=1.0246]"
     ]
    },
    {
     "name": "stdout",
     "output_type": "stream",
     "text": [
      "Best model saved!\n"
     ]
    },
    {
     "name": "stderr",
     "output_type": "stream",
     "text": [
      "Epoch 2/10:  20%|██        | 2/10 [02:30<10:02, 75.26s/it, train_loss=0.4823, val_loss=0.9758]"
     ]
    },
    {
     "name": "stdout",
     "output_type": "stream",
     "text": [
      "Best model saved!\n"
     ]
    },
    {
     "name": "stderr",
     "output_type": "stream",
     "text": [
      "Epoch 3/10:  30%|███       | 3/10 [03:46<08:48, 75.55s/it, train_loss=0.3830, val_loss=0.9383]"
     ]
    },
    {
     "name": "stdout",
     "output_type": "stream",
     "text": [
      "Best model saved!\n"
     ]
    },
    {
     "name": "stderr",
     "output_type": "stream",
     "text": [
      "Epoch 4/10:  40%|████      | 4/10 [05:02<07:36, 76.01s/it, train_loss=0.3250, val_loss=0.9237]"
     ]
    },
    {
     "name": "stdout",
     "output_type": "stream",
     "text": [
      "Best model saved!\n"
     ]
    },
    {
     "name": "stderr",
     "output_type": "stream",
     "text": [
      "Epoch 5/10:  50%|█████     | 5/10 [06:19<06:20, 76.13s/it, train_loss=0.2839, val_loss=0.8879]"
     ]
    },
    {
     "name": "stdout",
     "output_type": "stream",
     "text": [
      "Best model saved!\n"
     ]
    },
    {
     "name": "stderr",
     "output_type": "stream",
     "text": [
      "Epoch 10/10:  90%|█████████ | 9/10 [12:36<01:24, 84.04s/it, train_loss=0.1755, val_loss=0.9604]"
     ]
    },
    {
     "name": "stdout",
     "output_type": "stream",
     "text": [
      "Early stopping after 10 epochs!\n"
     ]
    },
    {
     "name": "stderr",
     "output_type": "stream",
     "text": [
      "\n"
     ]
    }
   ],
   "source": [
    "train_losses, val_losses, best_model = train_model(input_size=input_size, output_size=output_size, train_loader=train_loader, \n",
    "                                       val_loader=val_loader, device=device)"
   ]
  },
  {
   "cell_type": "markdown",
   "id": "a5d5d824",
   "metadata": {},
   "source": [
    "### Visualize training results"
   ]
  },
  {
   "cell_type": "code",
   "execution_count": 17,
   "id": "be7fe6cc",
   "metadata": {},
   "outputs": [],
   "source": [
    "import matplotlib.pyplot as plt"
   ]
  },
  {
   "cell_type": "code",
   "execution_count": 18,
   "id": "53966fba",
   "metadata": {},
   "outputs": [
    {
     "data": {
      "text/plain": [
       "Text(0.5, 1.0, 'Training and Validation Loss')"
      ]
     },
     "execution_count": 18,
     "metadata": {},
     "output_type": "execute_result"
    },
    {
     "data": {
      "image/png": "[encoded data removed]",
      "text/plain": [
       "<Figure size 1000x500 with 1 Axes>"
      ]
     },
     "metadata": {},
     "output_type": "display_data"
    }
   ],
   "source": [
    "# Plot loss curves\n",
    "plt.figure(figsize=(10, 5))\n",
    "plt.plot(train_losses, label='Train Loss')\n",
    "plt.plot(val_losses, label='Validation Loss')\n",
    "plt.xlabel('Epoch')\n",
    "plt.ylabel('Loss')\n",
    "plt.legend()\n",
    "plt.title('Training and Validation Loss')\n",
    "# plt.savefig('loss_plot.png')"
   ]
  },
  {
   "cell_type": "markdown",
   "id": "c6924fb4",
   "metadata": {},
   "source": [
    "## Hyperparameter Tuning with Wandb"
   ]
  },
  {
   "cell_type": "code",
   "execution_count": 19,
   "id": "26ba7ced",
   "metadata": {},
   "outputs": [],
   "source": [
    "import wandb"
   ]
  },
  {
   "cell_type": "code",
   "execution_count": 20,
   "id": "3c36307c",
   "metadata": {},
   "outputs": [],
   "source": [
    "# Train model\n",
    "BEST_VAL_LOSS = float('inf')\n",
    "BEST_VAL_ACC = 0"
   ]
  },
  {
   "cell_type": "code",
   "execution_count": null,
   "id": "1cba31c2",
   "metadata": {},
   "outputs": [],
   "source": [
    "# Train the model with wandb integration\n",
    "def train_with_wandb(config=None):\n",
    "    global BEST_VAL_LOSS, BEST_VAL_ACC\n",
    "    \n",
    "    with wandb.init(config=config) as run:\n",
    "        # If called by wandb.agent, use the config set by sweep controller\n",
    "        config = wandb.config\n",
    "        \n",
    "        # Generate a descriptive name for the run based on key hyperparameters\n",
    "        run_name = (\n",
    "            f\"ct{config.cell_type}-tfr{config.teacher_forcing_ratio}-lr{config.learning_rate}-es{config.embedding_size}-hs{config.hidden_size}-\"\n",
    "            f\"d{config.dropout}-bs{config.batch_size}\"\n",
    "        )\n",
    "        \n",
    "        run.name = run_name\n",
    "        \n",
    "        # Access hyperparameters as wandb.config\n",
    "        config = wandb.config\n",
    "        \n",
    "        # Set seed\n",
    "        set_seed(config.seed)\n",
    "        \n",
    "        # Device\n",
    "        device = torch.device('cuda' if torch.cuda.is_available() else 'cpu')\n",
    "        print(f\"Using device: {device}\")\n",
    "        \n",
    "        # Create save directory if it doesn't exist\n",
    "        if not os.path.exists('attention_models'):\n",
    "            os.makedirs('attention_models')\n",
    "        \n",
    "        # Dataset paths\n",
    "        train_path = 'dakshina_dataset_v1.0/ml/lexicons/ml.translit.sampled.train.tsv'\n",
    "        val_path = 'dakshina_dataset_v1.0/ml/lexicons/ml.translit.sampled.dev.tsv'\n",
    "\n",
    "        # Create dataloaders\n",
    "        train_dataset, train_loader = prepare_data(train_path, batch_size=config.batch_size)\n",
    "        val_dataset, val_loader = prepare_data(val_path, batch_size=config.batch_size)\n",
    "\n",
    "        # Make sure val dataset uses the same vocabulary as training\n",
    "        val_dataset.source_char_to_idx = train_dataset.source_char_to_idx\n",
    "        val_dataset.source_idx_to_char = train_dataset.source_idx_to_char\n",
    "        val_dataset.target_char_to_idx = train_dataset.target_char_to_idx\n",
    "        val_dataset.target_idx_to_char = train_dataset.target_idx_to_char\n",
    "        \n",
    "        # Create model\n",
    "        encoder = Encoder(\n",
    "            input_size=train_dataset.get_vocab_size('source'),\n",
    "            embedding_size=config.embedding_size,\n",
    "            hidden_size=config.hidden_size,\n",
    "            n_layers=config.num_layers,\n",
    "            dropout=config.dropout,\n",
    "            cell_type=config.cell_type\n",
    "        )\n",
    "        \n",
    "        decoder = AttentionDecoder(\n",
    "            output_size=train_dataset.get_vocab_size('target'),\n",
    "            embedding_size=config.embedding_size,\n",
    "            encoder_hidden_size=config.hidden_size,\n",
    "            decoder_hidden_size=config.hidden_size,\n",
    "            n_layers=config.num_layers,\n",
    "            dropout=config.dropout,\n",
    "            cell_type=config.cell_type\n",
    "        )\n",
    "        \n",
    "        model = AttentionSeq2Seq(encoder, decoder, device).to(device)\n",
    "        \n",
    "        # Optimizer and criterion\n",
    "        optimizer = optim.Adam(model.parameters(), lr=config.learning_rate)\n",
    "        criterion = nn.CrossEntropyLoss(ignore_index=train_dataset.target_char_to_idx['<PAD>'])\n",
    "        \n",
    "        # Train model\n",
    "        best_val_loss = float('inf')\n",
    "        best_val_acc = 0\n",
    "        patience = config.patience\n",
    "        patience_counter = 0\n",
    "\n",
    "        pbar = trange(int(config.epochs), desc=\"Epoch\", dynamic_ncols=True)\n",
    "        for epoch in pbar:\n",
    "            # Train\n",
    "            train_loss = train(\n",
    "                model, device, train_loader, optimizer, criterion, \n",
    "                clip=config.clip, teacher_forcing_ratio=config.teacher_forcing_ratio\n",
    "            )\n",
    "            \n",
    "            # Evaluate\n",
    "            val_loss = evaluate(model, device, val_loader, criterion=criterion)\n",
    "\n",
    "            # Evaluate accuracy on validation set\n",
    "            correct = 0\n",
    "            total = 0\n",
    "            \n",
    "            with torch.no_grad():\n",
    "                for batch in val_loader:\n",
    "                    source_texts = batch['source_text']\n",
    "                    target_texts = batch['target_text']\n",
    "                    \n",
    "                    for i, source_text in enumerate(source_texts):\n",
    "                        pred_text = transliterate(model, device, val_dataset, source_text)\n",
    "                        \n",
    "                        if pred_text == target_texts[i]:\n",
    "                            correct += 1\n",
    "                        total += 1\n",
    "            \n",
    "            val_acc = correct / total\n",
    "\n",
    "            # Update tqdm bar description\n",
    "            pbar.set_description(f\"Epoch {epoch+1}/{config.epochs}\")\n",
    "            pbar.set_postfix(train_loss=f\"{train_loss:.4f}\", val_loss=f\"{val_loss:.4f}\", val_acc=f\"{val_acc:.4f}\")\n",
    "            \n",
    "            # Log to wandb\n",
    "            wandb.log({\n",
    "                'epoch': epoch + 1,\n",
    "                'train_loss': train_loss,\n",
    "                'val_loss': val_loss,\n",
    "                'val_accuracy':val_acc\n",
    "            })\n",
    "\n",
    "            # Save best model based on validation loss\n",
    "            if val_loss < best_val_loss:\n",
    "                best_val_loss = val_loss\n",
    "                best_val_acc = val_acc\n",
    "                model_path = os.path.join('attention_models', f'model_{wandb.run.id}.pth')\n",
    "                torch.save(model.state_dict(), model_path)\n",
    "                if best_val_loss < BEST_VAL_LOSS:\n",
    "                    BEST_VAL_LOSS = best_val_loss\n",
    "                    BEST_VAL_ACC = best_val_acc\n",
    "                    torch.save(model.state_dict(), \"best_vanilla_model.pth\") \n",
    "                patience_counter = 0    \n",
    "            else:\n",
    "                patience_counter += 1\n",
    "            \n",
    "            # Early stopping\n",
    "            if patience_counter >= patience:\n",
    "                print(f\"Early stopping after {epoch+1} epochs!\")\n",
    "                break\n",
    "\n",
    "        print(f\"\\tBest model saved with val acc {best_val_acc:.3f} at attention_models/model_{wandb.run.id}.pth\")\n",
    "\n",
    "        # Log final metrics\n",
    "        wandb.log({\n",
    "            'best_val_loss': best_val_loss,\n",
    "            'best_val_accuracy': best_val_acc\n",
    "        })"
   ]
  },
  {
   "cell_type": "code",
   "execution_count": 22,
   "id": "3e8834fd",
   "metadata": {},
   "outputs": [],
   "source": [
    "# Define sweep configuration\n",
    "sweep_config = {\n",
    "    'method': 'bayes',\n",
    "    'name': 'sweep_attention',\n",
    "    'metric': {\n",
    "        'name': 'val_loss',\n",
    "        'goal': 'minimize'\n",
    "    },\n",
    "    'parameters': {\n",
    "        'seed': {\n",
    "            'value': 42\n",
    "        },\n",
    "        'learning_rate': {\n",
    "           'min': 0.0001, \n",
    "           'max': 0.01\n",
    "        },\n",
    "        'batch_size': {\n",
    "            'values': [32, 64]\n",
    "        },\n",
    "        'embedding_size': {\n",
    "            'values': [64, 128, 256]\n",
    "        },\n",
    "        'hidden_size': {\n",
    "            'values': [128, 256]\n",
    "        },\n",
    "        'num_layers': {\n",
    "            'value': 1\n",
    "        },\n",
    "        'dropout': {\n",
    "            'values': [0.1, 0.3]\n",
    "        },\n",
    "        'cell_type': {\n",
    "            'values': ['rnn', 'lstm', 'gru']\n",
    "        },\n",
    "        'teacher_forcing_ratio': {\n",
    "            'values': [0.5, 0.7]\n",
    "        },\n",
    "        'clip': {\n",
    "            'value': 1.0\n",
    "        },\n",
    "        'epochs': {\n",
    "            'value': 20\n",
    "        },\n",
    "        'patience': {\n",
    "            'value': 5\n",
    "        }\n",
    "    }\n",
    "}"
   ]
  },
  {
   "cell_type": "code",
   "execution_count": 23,
   "id": "1fc2782b",
   "metadata": {},
   "outputs": [
    {
     "name": "stderr",
     "output_type": "stream",
     "text": [
      "\u001b[34m\u001b[1mwandb\u001b[0m: Currently logged in as: \u001b[33mch21b021\u001b[0m (\u001b[33mch21b021-indian-institute-of-technology-madras\u001b[0m) to \u001b[32mhttps://api.wandb.ai\u001b[0m. Use \u001b[1m`wandb login --relogin`\u001b[0m to force relogin\n"
     ]
    },
    {
     "data": {
      "text/plain": [
       "True"
      ]
     },
     "execution_count": 23,
     "metadata": {},
     "output_type": "execute_result"
    }
   ],
   "source": [
    "os.environ[\"WANDB_NOTEBOOK_NAME\"] = \"attention.ipynb\"\n",
    "\n",
    "wandb.login()"
   ]
  },
  {
   "cell_type": "code",
   "execution_count": null,
   "id": "05d1b1b7",
   "metadata": {},
   "outputs": [],
   "source": [
    "sweep_id = wandb.sweep(sweep_config, project='DA6401-Assignment-3')\n",
    "\n",
    "# Run the sweep\n",
    "wandb.agent(sweep_id, train_with_wandb, count=15)"
   ]
  },
  {
   "cell_type": "code",
   "execution_count": 41,
   "id": "0e78dca0",
   "metadata": {},
   "outputs": [
    {
     "data": {
      "text/html": [],
      "text/plain": [
       "<IPython.core.display.HTML object>"
      ]
     },
     "metadata": {},
     "output_type": "display_data"
    },
    {
     "data": {
      "text/html": [
       "<br>    <style><br>        .wandb-row {<br>            display: flex;<br>            flex-direction: row;<br>            flex-wrap: wrap;<br>            justify-content: flex-start;<br>            width: 100%;<br>        }<br>        .wandb-col {<br>            display: flex;<br>            flex-direction: column;<br>            flex-basis: 100%;<br>            flex: 1;<br>            padding: 10px;<br>        }<br>    </style><br><div class=\"wandb-row\"><div class=\"wandb-col\"><h3>Run history:</h3><br/><table class=\"wandb\"><tr><td>test_accuracy</td><td>▁</td></tr></table><br/></div><div class=\"wandb-col\"><h3>Run summary:</h3><br/><table class=\"wandb\"><tr><td>test_accuracy</td><td>0.43636</td></tr></table><br/></div></div>"
      ],
      "text/plain": [
       "<IPython.core.display.HTML object>"
      ]
     },
     "metadata": {},
     "output_type": "display_data"
    },
    {
     "data": {
      "text/html": [
       " View run <strong style=\"color:#cdcd00\">test-vanilla-evaluation</strong> at: <a href='https://wandb.ai/ch21b021-indian-institute-of-technology-madras/DA6401-Assignment-3/runs/3367vvcl' target=\"_blank\">https://wandb.ai/ch21b021-indian-institute-of-technology-madras/DA6401-Assignment-3/runs/3367vvcl</a><br> View project at: <a href='https://wandb.ai/ch21b021-indian-institute-of-technology-madras/DA6401-Assignment-3' target=\"_blank\">https://wandb.ai/ch21b021-indian-institute-of-technology-madras/DA6401-Assignment-3</a><br>Synced 5 W&B file(s), 0 media file(s), 4 artifact file(s) and 0 other file(s)"
      ],
      "text/plain": [
       "<IPython.core.display.HTML object>"
      ]
     },
     "metadata": {},
     "output_type": "display_data"
    },
    {
     "data": {
      "text/html": [
       "Find logs at: <code>.\\wandb\\run-20250522_041220-3367vvcl\\logs</code>"
      ],
      "text/plain": [
       "<IPython.core.display.HTML object>"
      ]
     },
     "metadata": {},
     "output_type": "display_data"
    }
   ],
   "source": [
    "wandb.finish()"
   ]
  },
  {
   "cell_type": "markdown",
   "id": "5b0c4126",
   "metadata": {},
   "source": [
    "# Model Inference"
   ]
  },
  {
   "cell_type": "code",
   "execution_count": 25,
   "id": "34ce03cc",
   "metadata": {},
   "outputs": [],
   "source": [
    "def analyze_errors(predictions):\n",
    "    \"\"\"\n",
    "    Analyze the errors made by the model\n",
    "    \"\"\"\n",
    "    # Analyze error patterns\n",
    "    errors = [(source, pred, target) for source, pred, target in predictions if pred != target]\n",
    "    \n",
    "    # # Error by length\n",
    "    # length_errors = {}\n",
    "    # for source, _, target in errors:\n",
    "    #     length = len(source)\n",
    "    #     if length not in length_errors:\n",
    "    #         length_errors[length] = 0\n",
    "    #     length_errors[length] += 1\n",
    "    \n",
    "    # # Sort by length\n",
    "    # sorted_length_errors = {k: v for k, v in sorted(length_errors.items())}\n",
    "    \n",
    "    # plt.figure(figsize=(10, 6))\n",
    "    # plt.bar(sorted_length_errors.keys(), sorted_length_errors.values())\n",
    "    # plt.xlabel('Source Length')\n",
    "    # plt.ylabel('Number of Errors')\n",
    "    # plt.title('Errors by Source Length')\n",
    "    # plt.savefig('predictions_vanilla/errors_by_length.png')\n",
    "    \n",
    "    # Sample error analysis\n",
    "    print(\"\\nSample Error Analysis:\")\n",
    "    for i, (source, pred, target) in enumerate(errors[:10]):\n",
    "        print(f'Source: {source}')\n",
    "        print(f'Prediction: {pred}')\n",
    "        print(f'Target: {target}')\n",
    "        print()"
   ]
  },
  {
   "cell_type": "code",
   "execution_count": 26,
   "id": "767a409d",
   "metadata": {},
   "outputs": [],
   "source": [
    "def test_model(config, model_path):\n",
    "    # Load datasets\n",
    "    train_dataset_path = \"dakshina_dataset_v1.0/ml/lexicons/ml.translit.sampled.train.tsv\"\n",
    "    test_dataset_path = \"dakshina_dataset_v1.0/ml/lexicons/ml.translit.sampled.test.tsv\"\n",
    "    \n",
    "    train_dataset, _ = prepare_data(train_dataset_path, batch_size=config['batch_size'], shuffle=False)\n",
    "    test_dataset, test_dataloader = prepare_data(test_dataset_path, batch_size=config['batch_size'], shuffle=False)\n",
    "    \n",
    "    # Make sure test dataset uses the same vocabulary as training\n",
    "    test_dataset.source_char_to_idx = train_dataset.source_char_to_idx\n",
    "    test_dataset.source_idx_to_char = train_dataset.source_idx_to_char\n",
    "    test_dataset.target_char_to_idx = train_dataset.target_char_to_idx\n",
    "    test_dataset.target_idx_to_char = train_dataset.target_idx_to_char\n",
    "\n",
    "    # Initialize model with best configuration\n",
    "    input_size = train_dataset.get_vocab_size('source')\n",
    "    output_size = train_dataset.get_vocab_size('target')\n",
    "        \n",
    "    # Device\n",
    "    device = torch.device('cuda' if torch.cuda.is_available() else 'cpu')\n",
    "    print(f\"Using device: {device}\")    \n",
    "\n",
    "    encoder = Encoder(\n",
    "        input_size=input_size, \n",
    "        embedding_size=config['embedding_size'], \n",
    "        hidden_size=config['hidden_size'], \n",
    "        n_layers=config['num_layers'], \n",
    "        dropout=config['dropout'],\n",
    "        cell_type=config['cell_type']\n",
    "    )\n",
    "    \n",
    "    decoder = AttentionDecoder(\n",
    "        output_size=output_size, \n",
    "        embedding_size=config['embedding_size'], \n",
    "        encoder_hidden_size=config['hidden_size'],\n",
    "        decoder_hidden_size=config['hidden_size'], \n",
    "        n_layers=config['num_layers'], \n",
    "        dropout=config['dropout'],\n",
    "        cell_type=config['cell_type']\n",
    "    )\n",
    "    \n",
    "    model = AttentionSeq2Seq(encoder, decoder, device).to(device)\n",
    "    \n",
    "    # Load model parameters\n",
    "    model.load_state_dict(torch.load(model_path))\n",
    "    \n",
    "    # Evaluate on test set\n",
    "    test_accuracy, test_predictions = calculate_accuracy(model, device, test_dataloader, test_dataset)\n",
    "    \n",
    "    print(f'Test Accuracy: {test_accuracy:.3f}')\n",
    "    \n",
    "    # Save predictions to file\n",
    "    with open('predictions_vanilla/test_predictions.txt', 'w', encoding='utf-8') as f:\n",
    "        for source, pred, target in test_predictions:\n",
    "            f.write(f'Source: {source}\\n')\n",
    "            f.write(f'Prediction: {pred}\\n')\n",
    "            f.write(f'Target: {target}\\n\\n')\n",
    "    \n",
    "    analyze_errors(test_predictions)\n",
    "\n",
    "    return test_accuracy, test_predictions"
   ]
  },
  {
   "cell_type": "code",
   "execution_count": 27,
   "id": "bb184c87",
   "metadata": {},
   "outputs": [],
   "source": [
    "import matplotlib.font_manager as fm\n",
    "import math\n",
    "import pandas as pd"
   ]
  },
  {
   "cell_type": "code",
   "execution_count": 28,
   "id": "c6dfffa4",
   "metadata": {},
   "outputs": [],
   "source": [
    "# Path to a font that supports Malayalam\n",
    "MALAYALAM_FONT_PATH = \"D:/Ayaan/IITM/Courses/Sem 8/DA6401/Noto_Sans_Malayalam/Noto_Sans_Malayalam/NotoSansMalayalam-VariableFont_wdth,wght.ttf\""
   ]
  },
  {
   "cell_type": "code",
   "execution_count": 29,
   "id": "25608a75",
   "metadata": {},
   "outputs": [],
   "source": [
    "def visualize_predictions(predictions, num_correct=5, num_incorrect=5):\n",
    "    global MALAYALAM_FONT_PATH\n",
    "    \n",
    "    # Separate correct and incorrect predictions\n",
    "    correct_preds = [(src, pred, tgt) for src, pred, tgt in predictions if pred == tgt]\n",
    "    incorrect_preds = [(src, pred, tgt) for src, pred, tgt in predictions if pred != tgt]\n",
    "    \n",
    "    random.seed(42)\n",
    "\n",
    "    # Sample predictions\n",
    "    sample_correct = random.sample(correct_preds, min(num_correct, len(correct_preds)))\n",
    "    sample_incorrect = random.sample(incorrect_preds, min(num_incorrect, len(incorrect_preds)))\n",
    "    samples = sample_correct + sample_incorrect\n",
    "    \n",
    "    total_samples = len(samples)\n",
    "    ncols = 5\n",
    "    nrows = math.ceil(total_samples / ncols)\n",
    "    \n",
    "    fig, axes = plt.subplots(nrows=nrows, ncols=ncols, figsize=(15, nrows * 1.5))\n",
    "    axes = axes.flatten() if total_samples > 1 else [axes]\n",
    "\n",
    "    # Load and set Malayalam font if available\n",
    "    if os.path.exists(MALAYALAM_FONT_PATH):\n",
    "        font_prop = fm.FontProperties(fname=MALAYALAM_FONT_PATH)\n",
    "    else:\n",
    "        font_prop = None\n",
    "\n",
    "    for i, ax in enumerate(axes):\n",
    "        ax.axis('off')\n",
    "        if i >= total_samples:\n",
    "            continue\n",
    "        \n",
    "        src, pred, tgt = samples[i]\n",
    "        is_correct = pred == tgt\n",
    "        color = 'green' if is_correct else 'red'\n",
    "\n",
    "        # Compose text\n",
    "        text = f\"Input: {src}\\nPrediction: {pred}\\nTarget: {tgt}\"\n",
    "\n",
    "        # Add text with optional font\n",
    "        ax.text(0.01, 0.5, text, fontsize=12, color=color, va='center', ha='left',\n",
    "                fontproperties=font_prop, wrap=True)\n",
    "\n",
    "    plt.tight_layout()\n",
    "    plt.show()\n",
    "\n",
    "    # Create a DataFrame\n",
    "    df = pd.DataFrame(samples, columns=[\"Input\", \"Prediction\", \"Target\"])\n",
    "    df[\"Correct\"] = df[\"Prediction\"] == df[\"Target\"]\n",
    "    df[\"Status\"] = df[\"Correct\"].map({True: \"Correct\", False: \"False\"})\n",
    "    df.drop('Correct', axis=1, inplace=True)\n",
    "\n",
    "    return fig, df"
   ]
  },
  {
   "cell_type": "code",
   "execution_count": 30,
   "id": "649cbd0f",
   "metadata": {},
   "outputs": [],
   "source": [
    "from collections import Counter, defaultdict\n",
    "import seaborn as sns\n",
    "import pandas as pd\n",
    "import matplotlib as mpl"
   ]
  },
  {
   "cell_type": "code",
   "execution_count": 31,
   "id": "24afd5af",
   "metadata": {},
   "outputs": [],
   "source": [
    "# Create confusion matrix for the most common errors\n",
    "def create_character_confusion_matrix(predictions, top_n=10):\n",
    "    \"\"\"\n",
    "    Create a confusion matrix for top N most confused characters\n",
    "    Args:\n",
    "        predictions: List of (source, prediction, target) tuples\n",
    "        top_n: Number of top confused character pairs to show\n",
    "    \n",
    "    Returns:\n",
    "        fig: Confusion matrix figure\n",
    "    \"\"\"\n",
    "    # Character level confusion counts\n",
    "    char_confusions = defaultdict(Counter)\n",
    "    \n",
    "    for _, pred, target in predictions:\n",
    "        if pred == target:\n",
    "            continue  # Skip correct predictions\n",
    "        \n",
    "        # Use dynamic programming to find the minimum edit distance and alignment\n",
    "        m, n = len(pred), len(target)\n",
    "        dp = [[0] * (n + 1) for _ in range(m + 1)]\n",
    "        \n",
    "        # Initialize dp matrix\n",
    "        for i in range(m + 1):\n",
    "            dp[i][0] = i\n",
    "        for j in range(n + 1):\n",
    "            dp[0][j] = j\n",
    "        \n",
    "        # Fill dp matrix\n",
    "        for i in range(1, m + 1):\n",
    "            for j in range(1, n + 1):\n",
    "                if pred[i-1] == target[j-1]:\n",
    "                    dp[i][j] = dp[i-1][j-1]\n",
    "                else:\n",
    "                    dp[i][j] = 1 + min(dp[i-1][j],      # deletion\n",
    "                                       dp[i][j-1],      # insertion\n",
    "                                       dp[i-1][j-1])    # substitution\n",
    "        \n",
    "        # Backtrack to find alignment\n",
    "        i, j = m, n\n",
    "        while i > 0 and j > 0:\n",
    "            if pred[i-1] == target[j-1]:\n",
    "                i -= 1\n",
    "                j -= 1\n",
    "            else:\n",
    "                min_op = min(dp[i-1][j], dp[i][j-1], dp[i-1][j-1])\n",
    "                if dp[i-1][j-1] == min_op:  # substitution\n",
    "                    char_confusions[target[j-1]][pred[i-1]] += 1\n",
    "                    i -= 1\n",
    "                    j -= 1\n",
    "                elif dp[i-1][j] == min_op:  # deletion\n",
    "                    char_confusions[target[j-1]]['_DEL_'] += 1\n",
    "                    i -= 1\n",
    "                else:  # insertion\n",
    "                    char_confusions['_INS_'][pred[i-1]] += 1\n",
    "                    j -= 1\n",
    "    \n",
    "    # Find the most confused characters\n",
    "    all_confusions = []\n",
    "    for true_char, pred_counts in char_confusions.items():\n",
    "        for pred_char, count in pred_counts.items():\n",
    "            all_confusions.append((true_char, pred_char, count))\n",
    "    \n",
    "    # Sort by count in descending order\n",
    "    all_confusions.sort(key=lambda x: x[2], reverse=True)\n",
    "    \n",
    "    # Take top N\n",
    "    top_confusions = all_confusions[:top_n]\n",
    "    \n",
    "    # Create confusion matrix dataframe\n",
    "    true_chars = [t for t, _, _ in top_confusions]\n",
    "    pred_chars = [p for _, p, _ in top_confusions]\n",
    "    \n",
    "    unique_chars = sorted(set(true_chars + pred_chars))\n",
    "    conf_matrix = pd.DataFrame(0, index=unique_chars, columns=unique_chars)\n",
    "    \n",
    "    for true_char, pred_char, count in top_confusions:\n",
    "        conf_matrix.loc[true_char, pred_char] = count\n",
    "    \n",
    "    # Load and set Malayalam font if available\n",
    "    if os.path.exists(MALAYALAM_FONT_PATH):\n",
    "        font_prop = fm.FontProperties(fname=MALAYALAM_FONT_PATH)\n",
    "        fontname = font_prop.get_name()\n",
    "\n",
    "        # Set global font\n",
    "        mpl.rcParams['font.family'] = fontname\n",
    "    else:\n",
    "        font_prop = None\n",
    "    \n",
    "    # Plot\n",
    "    plt.figure(figsize=(12, 10))\n",
    "    ax = sns.heatmap(conf_matrix, annot=True, fmt='d', cmap='Blues', \n",
    "                     cbar=False, linewidths=0.5, linecolor='gray',\n",
    "                     annot_kws={'fontproperties': font_prop} if font_prop else None)\n",
    "\n",
    "    ax.set_title(f'Top {top_n} Character Confusion Pairs', fontsize=16, fontproperties=font_prop)\n",
    "    ax.set_xlabel('Predicted Character', fontsize=14, fontproperties=font_prop)\n",
    "    ax.set_ylabel('True Character', fontsize=14, fontproperties=font_prop)\n",
    "\n",
    "    # Update tick labels font\n",
    "    for label in ax.get_xticklabels():\n",
    "        label.set_fontproperties(font_prop)\n",
    "    for label in ax.get_yticklabels():\n",
    "        label.set_fontproperties(font_prop)\n",
    "\n",
    "    plt.xticks(rotation=45, ha='right')\n",
    "    plt.yticks(rotation=0)\n",
    "    plt.tight_layout()\n",
    "    plt.show()\n",
    "\n",
    "    # Convert to dataframe\n",
    "    df = pd.DataFrame(top_confusions, columns=[\"True Character\", \"Predicted Character\", \"Count\"])\n",
    "\n",
    "    return plt, df"
   ]
  },
  {
   "cell_type": "code",
   "execution_count": 32,
   "id": "9bd49cfd",
   "metadata": {},
   "outputs": [],
   "source": [
    "# Create a directory for predictions if it doesn't exist\n",
    "if not os.path.exists('predictions_attention'):\n",
    "    os.makedirs('predictions_attention')"
   ]
  },
  {
   "cell_type": "code",
   "execution_count": null,
   "id": "7787cb69",
   "metadata": {},
   "outputs": [],
   "source": [
    "best_config = {'embedding_size': 64, 'hidden_size': 256, 'num_layers': 1, 'dropout': 0.3, 'cell_type': \"gru\", 'batch_size': 64}\n",
    "best_model_path = \"attention_models/model_3367vvcl.pth\"\n",
    "\n",
    "test_accuracy, predictions = test_model(config=best_config, model_path=best_model_path)"
   ]
  },
  {
   "cell_type": "code",
   "execution_count": 34,
   "id": "66704f16",
   "metadata": {},
   "outputs": [
    {
     "data": {
      "image/png": "[encoded data removed]",
      "text/plain": [
       "<Figure size 1500x300 with 10 Axes>"
      ]
     },
     "metadata": {},
     "output_type": "display_data"
    },
    {
     "data": {
      "text/html": [
       "<div>\n",
       "<style scoped>\n",
       "    .dataframe tbody tr th:only-of-type {\n",
       "        vertical-align: middle;\n",
       "    }\n",
       "\n",
       "    .dataframe tbody tr th {\n",
       "        vertical-align: top;\n",
       "    }\n",
       "\n",
       "    .dataframe thead th {\n",
       "        text-align: right;\n",
       "    }\n",
       "</style>\n",
       "<table border=\"1\" class=\"dataframe\">\n",
       "  <thead>\n",
       "    <tr style=\"text-align: right;\">\n",
       "      <th></th>\n",
       "      <th>Input</th>\n",
       "      <th>Prediction</th>\n",
       "      <th>Target</th>\n",
       "      <th>Status</th>\n",
       "    </tr>\n",
       "  </thead>\n",
       "  <tbody>\n",
       "    <tr>\n",
       "      <th>0</th>\n",
       "      <td>kariyar</td>\n",
       "      <td>കരിയർ</td>\n",
       "      <td>കരിയർ</td>\n",
       "      <td>Correct</td>\n",
       "    </tr>\n",
       "    <tr>\n",
       "      <th>1</th>\n",
       "      <td>ambarappum</td>\n",
       "      <td>അമ്പരപ്പും</td>\n",
       "      <td>അമ്പരപ്പും</td>\n",
       "      <td>Correct</td>\n",
       "    </tr>\n",
       "    <tr>\n",
       "      <th>2</th>\n",
       "      <td>dweepinte</td>\n",
       "      <td>ദ്വീപിന്റെ</td>\n",
       "      <td>ദ്വീപിന്റെ</td>\n",
       "      <td>Correct</td>\n",
       "    </tr>\n",
       "    <tr>\n",
       "      <th>3</th>\n",
       "      <td>thaazhu</td>\n",
       "      <td>താഴ്</td>\n",
       "      <td>താഴ്</td>\n",
       "      <td>Correct</td>\n",
       "    </tr>\n",
       "    <tr>\n",
       "      <th>4</th>\n",
       "      <td>jnjaanatthinte</td>\n",
       "      <td>ജ്ഞാനത്തിന്റെ</td>\n",
       "      <td>ജ്ഞാനത്തിന്റെ</td>\n",
       "      <td>Correct</td>\n",
       "    </tr>\n",
       "    <tr>\n",
       "      <th>5</th>\n",
       "      <td>onbathu</td>\n",
       "      <td>ഒംബത്തു</td>\n",
       "      <td>ഒമ്പത്</td>\n",
       "      <td>False</td>\n",
       "    </tr>\n",
       "    <tr>\n",
       "      <th>6</th>\n",
       "      <td>siibarian</td>\n",
       "      <td>സിബറിയൻ</td>\n",
       "      <td>സൈബീരിയൻ</td>\n",
       "      <td>False</td>\n",
       "    </tr>\n",
       "    <tr>\n",
       "      <th>7</th>\n",
       "      <td>oottupurayil</td>\n",
       "      <td>ഓട്ടുപുറയിൽ</td>\n",
       "      <td>ഊട്ടുപുരയിൽ</td>\n",
       "      <td>False</td>\n",
       "    </tr>\n",
       "    <tr>\n",
       "      <th>8</th>\n",
       "      <td>varshathilorikkal</td>\n",
       "      <td>വർഷത്തിലൂറിക്കൾ</td>\n",
       "      <td>വർഷത്തിലൊരിക്കൽ</td>\n",
       "      <td>False</td>\n",
       "    </tr>\n",
       "    <tr>\n",
       "      <th>9</th>\n",
       "      <td>sthrikalkku</td>\n",
       "      <td>സ്ത്രികൾക്ക്</td>\n",
       "      <td>സ്ത്രീകൾക്കു</td>\n",
       "      <td>False</td>\n",
       "    </tr>\n",
       "  </tbody>\n",
       "</table>\n",
       "</div>"
      ],
      "text/plain": [
       "               Input       Prediction           Target   Status\n",
       "0            kariyar            കരിയർ            കരിയർ  Correct\n",
       "1         ambarappum       അമ്പരപ്പും       അമ്പരപ്പും  Correct\n",
       "2          dweepinte       ദ്വീപിന്റെ       ദ്വീപിന്റെ  Correct\n",
       "3            thaazhu             താഴ്             താഴ്  Correct\n",
       "4     jnjaanatthinte    ജ്ഞാനത്തിന്റെ    ജ്ഞാനത്തിന്റെ  Correct\n",
       "5            onbathu          ഒംബത്തു           ഒമ്പത്    False\n",
       "6          siibarian          സിബറിയൻ         സൈബീരിയൻ    False\n",
       "7       oottupurayil      ഓട്ടുപുറയിൽ      ഊട്ടുപുരയിൽ    False\n",
       "8  varshathilorikkal  വർഷത്തിലൂറിക്കൾ  വർഷത്തിലൊരിക്കൽ    False\n",
       "9        sthrikalkku     സ്ത്രികൾക്ക്     സ്ത്രീകൾക്കു    False"
      ]
     },
     "execution_count": 34,
     "metadata": {},
     "output_type": "execute_result"
    }
   ],
   "source": [
    "# Create a more creative visualization with color coding\n",
    "pred_fig, pred_df = visualize_predictions(predictions)\n",
    "\n",
    "pred_df"
   ]
  },
  {
   "cell_type": "code",
   "execution_count": 37,
   "id": "378c441f",
   "metadata": {},
   "outputs": [
    {
     "name": "stderr",
     "output_type": "stream",
     "text": [
      "findfont: Font family 'Noto Sans Malayalam' not found.\n",
      "findfont: Font family 'Noto Sans Malayalam' not found.\n",
      "findfont: Font family 'Noto Sans Malayalam' not found.\n",
      "findfont: Font family 'Noto Sans Malayalam' not found.\n",
      "d:\\Anaconda\\Lib\\site-packages\\seaborn\\utils.py:61: UserWarning: Glyph 3349 (\\N{MALAYALAM LETTER KA}) missing from current font.\n",
      "  fig.canvas.draw()\n",
      "d:\\Anaconda\\Lib\\site-packages\\seaborn\\utils.py:61: UserWarning: Matplotlib currently does not support Malayalam natively.\n",
      "  fig.canvas.draw()\n",
      "findfont: Font family 'Noto Sans Malayalam' not found.\n",
      "d:\\Anaconda\\Lib\\site-packages\\seaborn\\utils.py:61: UserWarning: Glyph 3376 (\\N{MALAYALAM LETTER RA}) missing from current font.\n",
      "  fig.canvas.draw()\n",
      "findfont: Font family 'Noto Sans Malayalam' not found.\n",
      "d:\\Anaconda\\Lib\\site-packages\\seaborn\\utils.py:61: UserWarning: Glyph 3377 (\\N{MALAYALAM LETTER RRA}) missing from current font.\n",
      "  fig.canvas.draw()\n",
      "findfont: Font family 'Noto Sans Malayalam' not found.\n",
      "d:\\Anaconda\\Lib\\site-packages\\seaborn\\utils.py:61: UserWarning: Glyph 3378 (\\N{MALAYALAM LETTER LA}) missing from current font.\n",
      "  fig.canvas.draw()\n",
      "findfont: Font family 'Noto Sans Malayalam' not found.\n",
      "d:\\Anaconda\\Lib\\site-packages\\seaborn\\utils.py:61: UserWarning: Glyph 3379 (\\N{MALAYALAM LETTER LLA}) missing from current font.\n",
      "  fig.canvas.draw()\n",
      "findfont: Font family 'Noto Sans Malayalam' not found.\n",
      "d:\\Anaconda\\Lib\\site-packages\\seaborn\\utils.py:61: UserWarning: Glyph 3390 (\\N{MALAYALAM VOWEL SIGN AA}) missing from current font.\n",
      "  fig.canvas.draw()\n",
      "findfont: Font family 'Noto Sans Malayalam' not found.\n",
      "d:\\Anaconda\\Lib\\site-packages\\seaborn\\utils.py:61: UserWarning: Glyph 3391 (\\N{MALAYALAM VOWEL SIGN I}) missing from current font.\n",
      "  fig.canvas.draw()\n",
      "findfont: Font family 'Noto Sans Malayalam' not found.\n",
      "d:\\Anaconda\\Lib\\site-packages\\seaborn\\utils.py:61: UserWarning: Glyph 3392 (\\N{MALAYALAM VOWEL SIGN II}) missing from current font.\n",
      "  fig.canvas.draw()\n",
      "findfont: Font family 'Noto Sans Malayalam' not found.\n",
      "d:\\Anaconda\\Lib\\site-packages\\seaborn\\utils.py:61: UserWarning: Glyph 3393 (\\N{MALAYALAM VOWEL SIGN U}) missing from current font.\n",
      "  fig.canvas.draw()\n",
      "findfont: Font family 'Noto Sans Malayalam' not found.\n",
      "d:\\Anaconda\\Lib\\site-packages\\seaborn\\utils.py:61: UserWarning: Glyph 3405 (\\N{MALAYALAM SIGN VIRAMA}) missing from current font.\n",
      "  fig.canvas.draw()\n",
      "findfont: Font family 'Noto Sans Malayalam' not found.\n",
      "findfont: Font family 'Noto Sans Malayalam' not found.\n",
      "findfont: Font family 'Noto Sans Malayalam' not found.\n",
      "findfont: Font family 'Noto Sans Malayalam' not found.\n",
      "findfont: Font family 'Noto Sans Malayalam' not found.\n",
      "findfont: Font family 'Noto Sans Malayalam' not found.\n",
      "findfont: Font family 'Noto Sans Malayalam' not found.\n",
      "findfont: Font family 'Noto Sans Malayalam' not found.\n",
      "findfont: Font family 'Noto Sans Malayalam' not found.\n",
      "findfont: Font family 'Noto Sans Malayalam' not found.\n",
      "findfont: Font family 'Noto Sans Malayalam' not found.\n",
      "findfont: Font family 'Noto Sans Malayalam' not found.\n",
      "findfont: Font family 'Noto Sans Malayalam' not found.\n",
      "findfont: Font family 'Noto Sans Malayalam' not found.\n",
      "findfont: Font family 'Noto Sans Malayalam' not found.\n",
      "findfont: Font family 'Noto Sans Malayalam' not found.\n",
      "findfont: Font family 'Noto Sans Malayalam' not found.\n",
      "findfont: Font family 'Noto Sans Malayalam' not found.\n",
      "findfont: Font family 'Noto Sans Malayalam' not found.\n",
      "findfont: Font family 'Noto Sans Malayalam' not found.\n",
      "findfont: Font family 'Noto Sans Malayalam' not found.\n",
      "findfont: Font family 'Noto Sans Malayalam' not found.\n",
      "findfont: Font family 'Noto Sans Malayalam' not found.\n",
      "findfont: Font family 'Noto Sans Malayalam' not found.\n"
     ]
    },
    {
     "data": {
      "image/png": "[encoded data removed]",
      "text/plain": [
       "<Figure size 1200x1000 with 1 Axes>"
      ]
     },
     "metadata": {},
     "output_type": "display_data"
    },
    {
     "data": {
      "text/html": [
       "<div>\n",
       "<style scoped>\n",
       "    .dataframe tbody tr th:only-of-type {\n",
       "        vertical-align: middle;\n",
       "    }\n",
       "\n",
       "    .dataframe tbody tr th {\n",
       "        vertical-align: top;\n",
       "    }\n",
       "\n",
       "    .dataframe thead th {\n",
       "        text-align: right;\n",
       "    }\n",
       "</style>\n",
       "<table border=\"1\" class=\"dataframe\">\n",
       "  <thead>\n",
       "    <tr style=\"text-align: right;\">\n",
       "      <th></th>\n",
       "      <th>True Character</th>\n",
       "      <th>Predicted Character</th>\n",
       "      <th>Count</th>\n",
       "    </tr>\n",
       "  </thead>\n",
       "  <tbody>\n",
       "    <tr>\n",
       "      <th>0</th>\n",
       "      <td>ി</td>\n",
       "      <td>_DEL_</td>\n",
       "      <td>127</td>\n",
       "    </tr>\n",
       "    <tr>\n",
       "      <th>1</th>\n",
       "      <td>ല</td>\n",
       "      <td>ള</td>\n",
       "      <td>99</td>\n",
       "    </tr>\n",
       "    <tr>\n",
       "      <th>2</th>\n",
       "      <td>ക</td>\n",
       "      <td>_DEL_</td>\n",
       "      <td>98</td>\n",
       "    </tr>\n",
       "    <tr>\n",
       "      <th>3</th>\n",
       "      <td>ീ</td>\n",
       "      <td>ി</td>\n",
       "      <td>98</td>\n",
       "    </tr>\n",
       "    <tr>\n",
       "      <th>4</th>\n",
       "      <td>്</td>\n",
       "      <td>ു</td>\n",
       "      <td>93</td>\n",
       "    </tr>\n",
       "    <tr>\n",
       "      <th>5</th>\n",
       "      <td>റ</td>\n",
       "      <td>ര</td>\n",
       "      <td>93</td>\n",
       "    </tr>\n",
       "    <tr>\n",
       "      <th>6</th>\n",
       "      <td>ു</td>\n",
       "      <td>്</td>\n",
       "      <td>87</td>\n",
       "    </tr>\n",
       "    <tr>\n",
       "      <th>7</th>\n",
       "      <td>ാ</td>\n",
       "      <td>_DEL_</td>\n",
       "      <td>83</td>\n",
       "    </tr>\n",
       "    <tr>\n",
       "      <th>8</th>\n",
       "      <td>_INS_</td>\n",
       "      <td>ി</td>\n",
       "      <td>82</td>\n",
       "    </tr>\n",
       "    <tr>\n",
       "      <th>9</th>\n",
       "      <td>_INS_</td>\n",
       "      <td>ര</td>\n",
       "      <td>82</td>\n",
       "    </tr>\n",
       "  </tbody>\n",
       "</table>\n",
       "</div>"
      ],
      "text/plain": [
       "  True Character Predicted Character  Count\n",
       "0              ി               _DEL_    127\n",
       "1              ല                   ള     99\n",
       "2              ക               _DEL_     98\n",
       "3              ീ                   ി     98\n",
       "4              ്                   ു     93\n",
       "5              റ                   ര     93\n",
       "6              ു                   ്     87\n",
       "7              ാ               _DEL_     83\n",
       "8          _INS_                   ി     82\n",
       "9          _INS_                   ര     82"
      ]
     },
     "execution_count": 37,
     "metadata": {},
     "output_type": "execute_result"
    }
   ],
   "source": [
    "# Analyze the most common errors\n",
    "conf_fig, conf_df = create_character_confusion_matrix(predictions, top_n=10)\n",
    "\n",
    "conf_df"
   ]
  },
  {
   "cell_type": "code",
   "execution_count": null,
   "id": "cb195165",
   "metadata": {},
   "outputs": [],
   "source": [
    "# Example usage function\n",
    "def run_analysis(config, model_path):\n",
    "    \"\"\"\n",
    "    Complete function to run Question 5(d) analysis.\n",
    "    \n",
    "    Args:\n",
    "        config: Configuration dictionary with model parameters\n",
    "        model_path: Path to the trained model\n",
    "    \"\"\"\n",
    "    # Load datasets\n",
    "    train_dataset_path = \"dakshina_dataset_v1.0/ml/lexicons/ml.translit.sampled.train.tsv\"\n",
    "    test_dataset_path = \"dakshina_dataset_v1.0/ml/lexicons/ml.translit.sampled.test.tsv\"\n",
    "    \n",
    "    train_dataset, _ = prepare_data(train_dataset_path, batch_size=config['batch_size'], shuffle=False)\n",
    "    test_dataset, test_dataloader = prepare_data(test_dataset_path, batch_size=config['batch_size'], shuffle=False)\n",
    "    \n",
    "    # Make sure test dataset uses the same vocabulary as training\n",
    "    test_dataset.source_char_to_idx = train_dataset.source_char_to_idx\n",
    "    test_dataset.source_idx_to_char = train_dataset.source_idx_to_char\n",
    "    test_dataset.target_char_to_idx = train_dataset.target_char_to_idx\n",
    "    test_dataset.target_idx_to_char = train_dataset.target_idx_to_char\n",
    "\n",
    "    # Initialize model\n",
    "    input_size = train_dataset.get_vocab_size('source')\n",
    "    output_size = train_dataset.get_vocab_size('target')\n",
    "    device = torch.device('cuda' if torch.cuda.is_available() else 'cpu')\n",
    "\n",
    "    encoder = Encoder(\n",
    "        input_size=input_size, \n",
    "        embedding_size=config['embedding_size'], \n",
    "        hidden_size=config['hidden_size'], \n",
    "        n_layers=config['num_layers'], \n",
    "        dropout=config['dropout'],\n",
    "        cell_type=config['cell_type']\n",
    "    )\n",
    "    \n",
    "    decoder = AttentionDecoder(\n",
    "        output_size=output_size, \n",
    "        embedding_size=config['embedding_size'], \n",
    "        encoder_hidden_size=config['hidden_size'],\n",
    "        decoder_hidden_size=config['hidden_size'], \n",
    "        n_layers=config['num_layers'], \n",
    "        dropout=config['dropout'],\n",
    "        cell_type=config['cell_type']\n",
    "    )\n",
    "    \n",
    "    model = AttentionSeq2Seq(encoder, decoder, device).to(device)\n",
    "    model.load_state_dict(torch.load(model_path))\n",
    "    \n",
    "    # Generate attention visualizations\n",
    "    attention_data = create_attention_visualization(\n",
    "        model, device, test_dataset, test_dataloader\n",
    "    )\n",
    "    \n",
    "    return attention_data"
   ]
  }
 ],
 "metadata": {
  "kernelspec": {
   "display_name": "base",
   "language": "python",
   "name": "python3"
  },
  "language_info": {
   "codemirror_mode": {
    "name": "ipython",
    "version": 3
   },
   "file_extension": ".py",
   "mimetype": "text/x-python",
   "name": "python",
   "nbconvert_exporter": "python",
   "pygments_lexer": "ipython3",
   "version": "3.12.4"
  }
 },
 "nbformat": 4,
 "nbformat_minor": 5
}
